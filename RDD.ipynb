{
 "cells": [
  {
   "cell_type": "markdown",
   "id": "e1ec65ca-3c47-4713-b2be-d0ab9c28c611",
   "metadata": {},
   "source": [
    "# RDD"
   ]
  },
  {
   "cell_type": "markdown",
   "id": "306bfa69-a549-479b-925c-5a907a77a989",
   "metadata": {},
   "source": [
    "An RDD (Resilient Distributed Dataset) is a fundamental data structure in Apache Spark, representing an immutable, distributed collection of objects that can be processed in parallel across a cluster.\n",
    "\n",
    "**Key Features of RDD**:\n",
    "\n",
    " - Immutability: Once created, an RDD cannot be modified. Operations on an RDD (like transformations) result in the creation     of a new RDD.\n",
    "   \n",
    " - Distributed: RDDs are distributed across multiple nodes in a cluster, allowing for parallel processing.\n",
    " - Fault Tolerant: RDDs are resilient to node failures. Spark automatically recomputes lost data by keeping track of the  -    - transformations used to create the RDD (using lineage information).\n",
    " - Lazy Evaluation: Transformations on RDDs are not immediately executed. Instead, they are recorded in a DAG (Directed Acyclic Graph) of transformations, and only when an action is called (like collect, count, or save), the computation is triggered.\n",
    " - In-memory Processing: RDDs provide in-memory storage, which makes data processing faster compared to traditional disk-based storage.\n",
    "   \n",
    "**Types of Operations on RDD:**\n",
    "\n",
    " - Transformations: These are operations that create a new RDD from an existing one, such as map, filter, flatMap,     reduceByKey, etc. They are lazy, meaning they do not compute results immediately.\n",
    " - Actions: These are operations that trigger the actual computation and return a result to the driver program or write data to an external storage system. Examples include collect, count, reduce, saveAsTextFile, etc."
   ]
  },
  {
   "cell_type": "code",
   "execution_count": 1,
   "id": "cc06f06a-ae68-4f97-aa94-ab9542c454b0",
   "metadata": {},
   "outputs": [
    {
     "name": "stderr",
     "output_type": "stream",
     "text": [
      "24/09/13 20:58:47 WARN Utils: Your hostname, nooman resolves to a loopback address: 127.0.1.1; using 192.168.0.104 instead (on interface enp4s0)\n",
      "24/09/13 20:58:47 WARN Utils: Set SPARK_LOCAL_IP if you need to bind to another address\n",
      "Setting default log level to \"WARN\".\n",
      "To adjust logging level use sc.setLogLevel(newLevel). For SparkR, use setLogLevel(newLevel).\n",
      "24/09/13 20:58:47 WARN NativeCodeLoader: Unable to load native-hadoop library for your platform... using builtin-java classes where applicable\n"
     ]
    }
   ],
   "source": [
    "# Starting Spark Context\n",
    "from pyspark import SparkConf, SparkContext\n",
    "conf = SparkConf() \\\n",
    "    .setAppName(\"Khan\") \\\n",
    "    .setMaster('local[*]') \\\n",
    "    .set(\"spark.executor.instances\", \"3\") \\\n",
    "    .set(\"spark.driver.memory\", \"1g\") \\\n",
    "    .set(\"spark.executor.memory\", \"1g\") \\\n",
    "    .set(\"spark.executor.cores\", \"1\")\n",
    "\n",
    "spark = SparkContext(conf=conf)"
   ]
  },
  {
   "cell_type": "code",
   "execution_count": 2,
   "id": "9708b580-d1bd-4df3-b264-91ea0ed27653",
   "metadata": {},
   "outputs": [
    {
     "name": "stdout",
     "output_type": "stream",
     "text": [
      "spark.app.id=local-1726241328748\n",
      "spark.app.name=Khan\n",
      "spark.app.startTime=1726241327956\n",
      "spark.app.submitTime=1726241327834\n",
      "spark.driver.extraJavaOptions=-Djava.net.preferIPv6Addresses=false -XX:+IgnoreUnrecognizedVMOptions --add-opens=java.base/java.lang=ALL-UNNAMED --add-opens=java.base/java.lang.invoke=ALL-UNNAMED --add-opens=java.base/java.lang.reflect=ALL-UNNAMED --add-opens=java.base/java.io=ALL-UNNAMED --add-opens=java.base/java.net=ALL-UNNAMED --add-opens=java.base/java.nio=ALL-UNNAMED --add-opens=java.base/java.util=ALL-UNNAMED --add-opens=java.base/java.util.concurrent=ALL-UNNAMED --add-opens=java.base/java.util.concurrent.atomic=ALL-UNNAMED --add-opens=java.base/jdk.internal.ref=ALL-UNNAMED --add-opens=java.base/sun.nio.ch=ALL-UNNAMED --add-opens=java.base/sun.nio.cs=ALL-UNNAMED --add-opens=java.base/sun.security.action=ALL-UNNAMED --add-opens=java.base/sun.util.calendar=ALL-UNNAMED --add-opens=java.security.jgss/sun.security.krb5=ALL-UNNAMED -Djdk.reflect.useDirectMethodHandle=false\n",
      "spark.driver.host=192.168.0.104\n",
      "spark.driver.memory=1g\n",
      "spark.driver.port=39053\n",
      "spark.executor.cores=1\n",
      "spark.executor.extraJavaOptions=-Djava.net.preferIPv6Addresses=false -XX:+IgnoreUnrecognizedVMOptions --add-opens=java.base/java.lang=ALL-UNNAMED --add-opens=java.base/java.lang.invoke=ALL-UNNAMED --add-opens=java.base/java.lang.reflect=ALL-UNNAMED --add-opens=java.base/java.io=ALL-UNNAMED --add-opens=java.base/java.net=ALL-UNNAMED --add-opens=java.base/java.nio=ALL-UNNAMED --add-opens=java.base/java.util=ALL-UNNAMED --add-opens=java.base/java.util.concurrent=ALL-UNNAMED --add-opens=java.base/java.util.concurrent.atomic=ALL-UNNAMED --add-opens=java.base/jdk.internal.ref=ALL-UNNAMED --add-opens=java.base/sun.nio.ch=ALL-UNNAMED --add-opens=java.base/sun.nio.cs=ALL-UNNAMED --add-opens=java.base/sun.security.action=ALL-UNNAMED --add-opens=java.base/sun.util.calendar=ALL-UNNAMED --add-opens=java.security.jgss/sun.security.krb5=ALL-UNNAMED -Djdk.reflect.useDirectMethodHandle=false\n",
      "spark.executor.id=driver\n",
      "spark.executor.instances=3\n",
      "spark.executor.memory=1g\n",
      "spark.master=local[*]\n",
      "spark.rdd.compress=True\n",
      "spark.serializer.objectStreamReset=100\n",
      "spark.submit.deployMode=client\n",
      "spark.submit.pyFiles=\n",
      "spark.ui.showConsoleProgress=true\n"
     ]
    }
   ],
   "source": [
    "### configration file\n",
    "print(spark.getConf().toDebugString())"
   ]
  },
  {
   "cell_type": "code",
   "execution_count": 3,
   "id": "8b6e544b-1277-4130-b81c-c419f770842f",
   "metadata": {},
   "outputs": [
    {
     "name": "stderr",
     "output_type": "stream",
     "text": [
      "                                                                                \r"
     ]
    },
    {
     "data": {
      "text/plain": [
       "[1, 2, 3, 4, 5]"
      ]
     },
     "execution_count": 3,
     "metadata": {},
     "output_type": "execute_result"
    }
   ],
   "source": [
    "collect_rdd = spark.parallelize([1,2,3,4,5])\n",
    "collect_rdd.collect()"
   ]
  },
  {
   "cell_type": "code",
   "execution_count": 4,
   "id": "bc72f90b-cf69-4cd5-b733-37badbe88cc2",
   "metadata": {},
   "outputs": [
    {
     "name": "stderr",
     "output_type": "stream",
     "text": [
      "                                                                                \r"
     ]
    },
    {
     "data": {
      "text/plain": [
       "5"
      ]
     },
     "execution_count": 4,
     "metadata": {},
     "output_type": "execute_result"
    }
   ],
   "source": [
    "collect_rdd.count()"
   ]
  },
  {
   "cell_type": "code",
   "execution_count": 5,
   "id": "1de16721-fc33-4c26-b473-62da783b862c",
   "metadata": {},
   "outputs": [
    {
     "data": {
      "text/plain": [
       "1"
      ]
     },
     "execution_count": 5,
     "metadata": {},
     "output_type": "execute_result"
    }
   ],
   "source": [
    "rdd = spark.parallelize([1,2,3,4,5,6,7,8,9,10])\n",
    "rdd.first()"
   ]
  },
  {
   "cell_type": "code",
   "execution_count": 6,
   "id": "0b2d65c8-3f54-4340-9176-2c6571be3025",
   "metadata": {},
   "outputs": [
    {
     "data": {
      "text/plain": [
       "10"
      ]
     },
     "execution_count": 6,
     "metadata": {},
     "output_type": "execute_result"
    }
   ],
   "source": [
    "rdd.max()"
   ]
  },
  {
   "cell_type": "code",
   "execution_count": 7,
   "id": "8e7b70f4-bc97-4932-9d87-3c275637d3ed",
   "metadata": {},
   "outputs": [
    {
     "data": {
      "text/plain": [
       "1"
      ]
     },
     "execution_count": 7,
     "metadata": {},
     "output_type": "execute_result"
    }
   ],
   "source": [
    "rdd.min()"
   ]
  },
  {
   "cell_type": "code",
   "execution_count": 8,
   "id": "e72bab65-b3bd-421d-b2f5-6017a7fa0080",
   "metadata": {},
   "outputs": [
    {
     "data": {
      "text/plain": [
       "[1, 4, 9, 16, 25, 36, 49, 64, 81, 100]"
      ]
     },
     "execution_count": 8,
     "metadata": {},
     "output_type": "execute_result"
    }
   ],
   "source": [
    "rdd.map(lambda x:x**2).collect()"
   ]
  },
  {
   "cell_type": "code",
   "execution_count": 9,
   "id": "62815d01-4488-4449-8999-0312980e0e15",
   "metadata": {},
   "outputs": [
    {
     "data": {
      "text/plain": [
       "55"
      ]
     },
     "execution_count": 9,
     "metadata": {},
     "output_type": "execute_result"
    }
   ],
   "source": [
    "from operator import add\n",
    "rdd.reduce(add)"
   ]
  },
  {
   "cell_type": "code",
   "execution_count": 10,
   "id": "1a576e30-6fec-4468-8f36-e5eb69bed711",
   "metadata": {},
   "outputs": [
    {
     "data": {
      "text/plain": [
       "55"
      ]
     },
     "execution_count": 10,
     "metadata": {},
     "output_type": "execute_result"
    }
   ],
   "source": [
    "rdd.reduce(lambda x, y:x + y)"
   ]
  },
  {
   "cell_type": "code",
   "execution_count": 11,
   "id": "a4ed452a-3b40-446a-9d52-708529e1c02b",
   "metadata": {},
   "outputs": [
    {
     "data": {
      "text/plain": [
       "-23"
      ]
     },
     "execution_count": 11,
     "metadata": {},
     "output_type": "execute_result"
    }
   ],
   "source": [
    "rdd.reduce(lambda x, y :x - y)"
   ]
  },
  {
   "cell_type": "code",
   "execution_count": 12,
   "id": "24fa1b26-9fef-42f4-86e7-a12b63797fc9",
   "metadata": {},
   "outputs": [
    {
     "data": {
      "text/plain": [
       "[np.float64(1.0),\n",
       " np.float64(1.4142135623730951),\n",
       " np.float64(1.7320508075688772),\n",
       " np.float64(2.0),\n",
       " np.float64(2.23606797749979),\n",
       " np.float64(2.449489742783178),\n",
       " np.float64(2.6457513110645907),\n",
       " np.float64(2.8284271247461903),\n",
       " np.float64(3.0),\n",
       " np.float64(3.1622776601683795)]"
      ]
     },
     "execution_count": 12,
     "metadata": {},
     "output_type": "execute_result"
    }
   ],
   "source": [
    "import numpy as np\n",
    "x = rdd.map(lambda x: np.sqrt(x))\n",
    "x.collect()"
   ]
  },
  {
   "cell_type": "code",
   "execution_count": 13,
   "id": "87d09242-3ba5-468e-bfa5-23431181c7ac",
   "metadata": {},
   "outputs": [
    {
     "name": "stdout",
     "output_type": "stream",
     "text": [
      "{'maths': array([7, 3, 7, 9, 2, 1, 7, 1, 3, 9]), 'physics': array([5, 1, 7, 8, 3, 4, 6, 8, 5, 4]), 'python': array([6, 5, 9, 7, 4, 4, 1, 5, 1, 6]), 'java': array([4, 5, 5, 8, 7, 2, 3, 5, 8, 6])}\n"
     ]
    },
    {
     "data": {
      "text/plain": [
       "[('maths', np.float64(4.9)),\n",
       " ('physics', np.float64(5.1)),\n",
       " ('python', np.float64(4.8)),\n",
       " ('java', np.float64(5.3))]"
      ]
     },
     "execution_count": 13,
     "metadata": {},
     "output_type": "execute_result"
    }
   ],
   "source": [
    "marks = {\n",
    "'maths' : np.random.randint(1, 10, 10),\n",
    "'physics' : np.random.randint(1, 10, 10),\n",
    "'python' : np.random.randint(1, 10, 10),\n",
    "'java' : np.random.randint(1, 10, 10)\n",
    "}\n",
    "\n",
    "print(marks)\n",
    "\n",
    "# find the maximum marks from each subject\n",
    "marks_rdd = spark.parallelize(marks.items())\n",
    "marks_rdd.map(lambda x:(x[0], np.mean(x[1]))).collect()"
   ]
  },
  {
   "cell_type": "markdown",
   "id": "2abb0281-6b48-4e27-b2db-977ff3f7d03b",
   "metadata": {},
   "source": [
    "#### Higher Order Function in PySpark"
   ]
  },
  {
   "cell_type": "markdown",
   "id": "7a3bb7cc-9e09-49ed-b46a-0c42c7da5605",
   "metadata": {},
   "source": [
    "### map"
   ]
  },
  {
   "cell_type": "markdown",
   "id": "43c17547-0eb8-47cd-acda-8d0152dab21a",
   "metadata": {},
   "source": [
    "Applies a given function to each element of the RDD and returns a new RDD with the results."
   ]
  },
  {
   "cell_type": "code",
   "execution_count": 14,
   "id": "3bd001a5-4805-47c0-a81d-4892fb400e1d",
   "metadata": {},
   "outputs": [
    {
     "data": {
      "text/plain": [
       "[1, 4, 9, 16]"
      ]
     },
     "execution_count": 14,
     "metadata": {},
     "output_type": "execute_result"
    }
   ],
   "source": [
    "rdd = spark.parallelize([1, 2, 3, 4])\n",
    "rdd.map(lambda x: x**2).collect()"
   ]
  },
  {
   "cell_type": "markdown",
   "id": "cb60ccc7-21b1-464a-8a55-49a4e9bf7beb",
   "metadata": {},
   "source": [
    "#### flatMap"
   ]
  },
  {
   "cell_type": "markdown",
   "id": "3e5d517c-3f9a-4bc2-81fa-03e7775eb11e",
   "metadata": {},
   "source": [
    "Similar to map, but allows the function to return multiple values (e.g., lists or iterables) that are flattened into a single RDD."
   ]
  },
  {
   "cell_type": "code",
   "execution_count": 15,
   "id": "c813def7-8c83-4644-96e9-e4bf6ce70486",
   "metadata": {},
   "outputs": [
    {
     "data": {
      "text/plain": [
       "[['Hello', 'world'], ['spark', 'is', 'great']]"
      ]
     },
     "execution_count": 15,
     "metadata": {},
     "output_type": "execute_result"
    }
   ],
   "source": [
    "rdd = spark.parallelize([\"Hello world\", \"spark is great\"])\n",
    "rdd.map(lambda x: x.split(\" \")).collect()"
   ]
  },
  {
   "cell_type": "code",
   "execution_count": 16,
   "id": "9bbc935c-bdf8-49f8-bcac-ac43bc96acce",
   "metadata": {},
   "outputs": [
    {
     "data": {
      "text/plain": [
       "['Hello', 'world', 'spark', 'is', 'great']"
      ]
     },
     "execution_count": 16,
     "metadata": {},
     "output_type": "execute_result"
    }
   ],
   "source": [
    "rdd = spark.parallelize([\"Hello world\", \"spark is great\"])\n",
    "rdd.flatMap(lambda x: x.split(\" \")).collect()"
   ]
  },
  {
   "cell_type": "markdown",
   "id": "c43c88c6-157c-42a3-90a4-c2e9cf4658f3",
   "metadata": {},
   "source": [
    "#### filter"
   ]
  },
  {
   "cell_type": "markdown",
   "id": "e242e71d-fc4a-4b20-bbcd-1e7753a8614c",
   "metadata": {},
   "source": [
    "Returns a new RDD containing only the elements that satisfy a given condition."
   ]
  },
  {
   "cell_type": "code",
   "execution_count": 17,
   "id": "2dc1e82f-dcc8-4456-b111-b257f1df5c50",
   "metadata": {},
   "outputs": [
    {
     "data": {
      "text/plain": [
       "[2, 4]"
      ]
     },
     "execution_count": 17,
     "metadata": {},
     "output_type": "execute_result"
    }
   ],
   "source": [
    "rdd = spark.parallelize([1, 2, 3, 4])\n",
    "rdd.filter(lambda x:x %2 ==0).collect()"
   ]
  },
  {
   "cell_type": "markdown",
   "id": "31feff24-91a2-4d80-bb24-894725072637",
   "metadata": {},
   "source": [
    "#### reduce"
   ]
  },
  {
   "cell_type": "markdown",
   "id": "1070faf0-ed77-430e-8423-ccce65fe43ea",
   "metadata": {},
   "source": [
    "return aggregated results"
   ]
  },
  {
   "cell_type": "code",
   "execution_count": 18,
   "id": "cd265a93-af5f-4fe3-8ebb-215fff0f0457",
   "metadata": {},
   "outputs": [
    {
     "data": {
      "text/plain": [
       "10"
      ]
     },
     "execution_count": 18,
     "metadata": {},
     "output_type": "execute_result"
    }
   ],
   "source": [
    "rdd = spark.parallelize([1, 2, 3, 4])\n",
    "rdd.reduce(lambda x, y: x + y)"
   ]
  },
  {
   "cell_type": "markdown",
   "id": "600d2d71-1adb-41a6-939d-01d6fd878a54",
   "metadata": {},
   "source": [
    "#### reduceByKey()"
   ]
  },
  {
   "cell_type": "markdown",
   "id": "5424b1a9-d8eb-4575-9a87-6cbc49f29879",
   "metadata": {},
   "source": [
    "Aggregates values of the same key using a specified associative and commutative reduce function."
   ]
  },
  {
   "cell_type": "code",
   "execution_count": 19,
   "id": "6322556a-00be-4f8e-81e7-7b3b4fdf7995",
   "metadata": {},
   "outputs": [
    {
     "data": {
      "text/plain": [
       "[('c', 19), ('a', 2), ('b', 5)]"
      ]
     },
     "execution_count": 19,
     "metadata": {},
     "output_type": "execute_result"
    }
   ],
   "source": [
    "rdd = spark.parallelize([(\"a\", 2), (\"b\", 5), (\"c\", 9), (\"c\", 10)])\n",
    "rdd.reduceByKey(lambda x, y: x+y).collect()"
   ]
  },
  {
   "cell_type": "markdown",
   "id": "d39e5a71-05c5-4f5f-9386-c5ae76459ae4",
   "metadata": {},
   "source": [
    "#### groupByKey()"
   ]
  },
  {
   "cell_type": "markdown",
   "id": "33593add-f46d-4ef2-a555-5e84b358e325",
   "metadata": {},
   "source": [
    "##### used for aggregation purpose"
   ]
  },
  {
   "cell_type": "code",
   "execution_count": 20,
   "id": "9ebe8d8c-f9e7-4d8a-b5b9-8331e778ae5c",
   "metadata": {},
   "outputs": [
    {
     "data": {
      "text/plain": [
       "[('c', {9, 10}), ('a', {2}), ('b', {5})]"
      ]
     },
     "execution_count": 20,
     "metadata": {},
     "output_type": "execute_result"
    }
   ],
   "source": [
    "rdd = spark.parallelize([(\"a\", 2), (\"b\", 5), (\"c\", 9), (\"c\", 10)])\n",
    "rdd.groupByKey().mapValues(set).collect()"
   ]
  },
  {
   "cell_type": "code",
   "execution_count": 21,
   "id": "ae5255d7-93ee-4065-9532-512ebdaef30e",
   "metadata": {},
   "outputs": [
    {
     "data": {
      "text/plain": [
       "[('c', 2), ('a', 1), ('b', 1)]"
      ]
     },
     "execution_count": 21,
     "metadata": {},
     "output_type": "execute_result"
    }
   ],
   "source": [
    "rdd = spark.parallelize([(\"a\", 2), (\"b\", 5), (\"c\", 9), (\"c\", 10)])\n",
    "rdd.groupByKey().mapValues(len).collect()"
   ]
  },
  {
   "cell_type": "code",
   "execution_count": 24,
   "id": "d6ecfbc5-c3e8-456f-a265-ea1cade3e7af",
   "metadata": {},
   "outputs": [
    {
     "data": {
      "text/plain": [
       "[('c', 19), ('a', 2), ('b', 5)]"
      ]
     },
     "execution_count": 24,
     "metadata": {},
     "output_type": "execute_result"
    }
   ],
   "source": [
    "rdd = spark.parallelize([(\"a\", 2), (\"b\", 5), (\"c\", 9), (\"c\", 10)])\n",
    "rdd.groupByKey().mapValues(sum).collect()"
   ]
  },
  {
   "cell_type": "markdown",
   "id": "72c5dfd6-c39e-4ab9-9f6a-4c7ef5ca3cae",
   "metadata": {},
   "source": [
    "#### groupBy()"
   ]
  },
  {
   "cell_type": "code",
   "execution_count": 25,
   "id": "fa42b80a-a476-4c8f-9494-7d995c4cb8d6",
   "metadata": {},
   "outputs": [
    {
     "data": {
      "text/plain": [
       "[(1, [1, 1, 1, 1]),\n",
       " (2, [2, 2]),\n",
       " (3, [3]),\n",
       " (4, [4, 4, 4]),\n",
       " (5, [5, 5, 5]),\n",
       " (6, [6, 6])]"
      ]
     },
     "execution_count": 25,
     "metadata": {},
     "output_type": "execute_result"
    }
   ],
   "source": [
    "rdd = spark. parallelize([1,1,2,4,5,6,1,4,5,6,3,2,1,4,5])\n",
    "rdd.groupBy(lambda x:x).mapValues(list).collect()"
   ]
  },
  {
   "cell_type": "code",
   "execution_count": 26,
   "id": "f44a7dc8-6cb9-4000-ab6c-9f4770045280",
   "metadata": {},
   "outputs": [
    {
     "data": {
      "text/plain": [
       "[(1, 4), (2, 4), (3, 3), (4, 12), (5, 15), (6, 12)]"
      ]
     },
     "execution_count": 26,
     "metadata": {},
     "output_type": "execute_result"
    }
   ],
   "source": [
    "rdd = spark. parallelize([1,1,2,4,5,6,1,4,5,6,3,2,1,4,5])\n",
    "rdd.groupBy(lambda x:x).mapValues(sum).collect()"
   ]
  },
  {
   "cell_type": "code",
   "execution_count": 27,
   "id": "3e138375-41f5-4cc1-9247-84f4e972db27",
   "metadata": {},
   "outputs": [
    {
     "data": {
      "text/plain": [
       "[(False, [1, 1, 5, 1, 5, 3, 1, 5]), (True, [2, 4, 6, 4, 6, 2, 4])]"
      ]
     },
     "execution_count": 27,
     "metadata": {},
     "output_type": "execute_result"
    }
   ],
   "source": [
    "rdd = spark. parallelize([1,1,2,4,5,6,1,4,5,6,3,2,1,4,5])\n",
    "rdd.groupBy(lambda x:x%2 == 0).mapValues(list).collect()"
   ]
  },
  {
   "cell_type": "code",
   "execution_count": 28,
   "id": "f255a2d5-6988-419d-9688-a1dc6fa7f1f4",
   "metadata": {},
   "outputs": [
    {
     "data": {
      "text/plain": [
       "[(False, 22), (True, 28)]"
      ]
     },
     "execution_count": 28,
     "metadata": {},
     "output_type": "execute_result"
    }
   ],
   "source": [
    "rdd = spark. parallelize([1,1,2,4,5,6,1,4,5,6,3,2,1,4,5])\n",
    "rdd.groupBy(lambda x:x%2 == 0).mapValues(sum).collect()"
   ]
  },
  {
   "cell_type": "markdown",
   "id": "d5fad5bd-a731-42fb-9794-0892ab0b5e78",
   "metadata": {},
   "source": [
    "#### mapPartitions()"
   ]
  },
  {
   "cell_type": "code",
   "execution_count": 29,
   "id": "cb706b90-e509-4c15-86f1-b285699df442",
   "metadata": {},
   "outputs": [
    {
     "name": "stdout",
     "output_type": "stream",
     "text": [
      "[[1], [2], [3], [4], [5, 6]]\n"
     ]
    },
    {
     "data": {
      "text/plain": [
       "[1, 4, 9, 16, 25, 36]"
      ]
     },
     "execution_count": 29,
     "metadata": {},
     "output_type": "execute_result"
    }
   ],
   "source": [
    "def process_partitions(iterator):\n",
    "    return (x**2 for x in iterator)\n",
    "\n",
    "rdd = spark.parallelize([1, 2, 3, 4, 5, 6], 5)\n",
    "print(rdd.glom().collect())\n",
    "rdd.mapPartitions(process_partitions).collect()"
   ]
  },
  {
   "cell_type": "markdown",
   "id": "da9c9e71-996f-4003-b7b1-8fd5e3cddac9",
   "metadata": {},
   "source": [
    "#### aggregateByKey()"
   ]
  },
  {
   "cell_type": "code",
   "execution_count": 30,
   "id": "ffb54972-b1f8-486a-80ea-b618a3c79799",
   "metadata": {},
   "outputs": [
    {
     "data": {
      "text/plain": [
       "[('a', (4, 2)), ('b', (2, 1))]"
      ]
     },
     "execution_count": 30,
     "metadata": {},
     "output_type": "execute_result"
    }
   ],
   "source": [
    "rdd = spark.parallelize([(\"a\", 1), (\"b\", 2), (\"a\", 3)])\n",
    "result_rdd = rdd.aggregateByKey((0, 0), \n",
    "                                lambda acc, value: (acc[0] + value, acc[1] + 1),\n",
    "                                lambda acc1, acc2: (acc1[0] + acc2[0], acc1[1] + acc2[1]))\n",
    "result_rdd.collect()"
   ]
  },
  {
   "cell_type": "markdown",
   "id": "8dbba711-03e7-48e1-b6d7-9dbb90dadf13",
   "metadata": {},
   "source": [
    "#### combineByKey()"
   ]
  },
  {
   "cell_type": "code",
   "execution_count": 31,
   "id": "739e05c6-dcb1-4e53-a2ee-36fdcb0b142c",
   "metadata": {},
   "outputs": [
    {
     "data": {
      "text/plain": [
       "[('a', (4, 2)), ('b', (2, 1))]"
      ]
     },
     "execution_count": 31,
     "metadata": {},
     "output_type": "execute_result"
    }
   ],
   "source": [
    "def create_combiner(value):\n",
    "    return (value, 1)\n",
    "\n",
    "def merge_value(acc, value):\n",
    "    return (acc[0] + value, acc[1] + 1)\n",
    "\n",
    "def merge_combiners(acc1, acc2):\n",
    "    return (acc1[0] + acc2[0], acc1[1] + acc2[1])\n",
    "\n",
    "rdd = spark.parallelize([(\"a\", 1), (\"b\", 2), (\"a\", 3)])\n",
    "combined_rdd = rdd.combineByKey(create_combiner, merge_value, merge_combiners)\n",
    "combined_rdd.collect()"
   ]
  },
  {
   "cell_type": "markdown",
   "id": "6c839e67-5e07-4ad6-88ed-ea2be4f40d30",
   "metadata": {},
   "source": [
    "#### flatMapValues"
   ]
  },
  {
   "cell_type": "code",
   "execution_count": 32,
   "id": "b4fb77c2-7b08-4e98-9d9a-fe18b523da5e",
   "metadata": {},
   "outputs": [
    {
     "data": {
      "text/plain": [
       "[('a', 1), ('a', 2), ('b', 3), ('b', 4)]"
      ]
     },
     "execution_count": 32,
     "metadata": {},
     "output_type": "execute_result"
    }
   ],
   "source": [
    "rdd = spark.parallelize([(\"a\", [1, 2]), (\"b\", [3, 4])])\n",
    "flat_mapped_values_rdd = rdd.flatMapValues(lambda x: x)\n",
    "flat_mapped_values_rdd.collect()"
   ]
  },
  {
   "cell_type": "markdown",
   "id": "ac5283ec-9f54-43cd-b4e6-652f16210c45",
   "metadata": {},
   "source": [
    "#### sample()"
   ]
  },
  {
   "cell_type": "code",
   "execution_count": 33,
   "id": "b7e6ee5f-0811-47cf-8b84-a906c7125037",
   "metadata": {},
   "outputs": [
    {
     "data": {
      "text/plain": [
       "[2, 4, 5, 7, 8, 2, 4, 5, 9]"
      ]
     },
     "execution_count": 33,
     "metadata": {},
     "output_type": "execute_result"
    }
   ],
   "source": [
    "rdd = spark.parallelize([1, 2, 3, 4, 5, 7, 8, 4, 2, 4, 5, 9])\n",
    "rdd.sample(withReplacement=False, fraction=0.7).collect()"
   ]
  },
  {
   "cell_type": "markdown",
   "id": "5071e95c-f6b3-46dc-8f66-5f8bd65a93c6",
   "metadata": {},
   "source": [
    "#### Word Count"
   ]
  },
  {
   "cell_type": "code",
   "execution_count": 35,
   "id": "f1146a76-c659-4c57-8d0d-68e1c4aff30a",
   "metadata": {},
   "outputs": [],
   "source": [
    "with open('/home/nooman/Documents/WordCount.txt', \"rb\") as file:\n",
    "    words = file.read().strip()"
   ]
  },
  {
   "cell_type": "code",
   "execution_count": null,
   "id": "76d0dba6-49b6-4d4a-b9a2-907bcf6008a6",
   "metadata": {},
   "outputs": [],
   "source": [
    "print(words)"
   ]
  },
  {
   "cell_type": "code",
   "execution_count": 36,
   "id": "a9b0a784-ba70-4dce-9319-6ee045b1473d",
   "metadata": {},
   "outputs": [
    {
     "data": {
      "text/plain": [
       "[('Noah', 19), ('Will', 19), ('Alex', 19)]"
      ]
     },
     "execution_count": 36,
     "metadata": {},
     "output_type": "execute_result"
    }
   ],
   "source": [
    "word_count = spark.textFile('/Words/WordCount.txt')\n",
    "word_count.flatMap(lambda x: x.strip().split(\" \")).groupBy(lambda x: x).mapValues(len).collect()"
   ]
  },
  {
   "cell_type": "code",
   "execution_count": 37,
   "id": "a1ee63c3-02dd-48ce-a838-0c3f0d576d57",
   "metadata": {},
   "outputs": [
    {
     "data": {
      "text/plain": [
       "[('Noah', 19), ('Will', 19), ('Alex', 19)]"
      ]
     },
     "execution_count": 37,
     "metadata": {},
     "output_type": "execute_result"
    }
   ],
   "source": [
    "word_count = spark.textFile('/Words/WordCount.txt')\n",
    "word_count.flatMap(lambda x: x.strip().split(\" \")).map(lambda x: (x, 1)).reduceByKey(lambda a, b: a+b).collect()"
   ]
  },
  {
   "cell_type": "code",
   "execution_count": 38,
   "id": "648f2f20-55f8-4034-b561-b8a71cb22f4d",
   "metadata": {},
   "outputs": [
    {
     "data": {
      "text/plain": [
       "2"
      ]
     },
     "execution_count": 38,
     "metadata": {},
     "output_type": "execute_result"
    }
   ],
   "source": [
    "word_count.getNumPartitions()"
   ]
  },
  {
   "cell_type": "code",
   "execution_count": 39,
   "id": "50ad45a4-5ac2-4c79-aa60-423338bcdfe0",
   "metadata": {},
   "outputs": [
    {
     "data": {
      "text/plain": [
       "[['Noah Will Alex ',\n",
       "  'Noah Will Alex ',\n",
       "  'Noah Will Alex ',\n",
       "  'Noah Will Alex ',\n",
       "  'Noah Will Alex ',\n",
       "  'Noah Will Alex ',\n",
       "  'Noah Will Alex ',\n",
       "  'Noah Will Alex ',\n",
       "  'Noah Will Alex ',\n",
       "  'Noah Will Alex '],\n",
       " ['Noah Will Alex ',\n",
       "  'Noah Will Alex ',\n",
       "  'Noah Will Alex ',\n",
       "  'Noah Will Alex ',\n",
       "  'Noah Will Alex ',\n",
       "  'Noah Will Alex ',\n",
       "  'Noah Will Alex ',\n",
       "  'Noah Will Alex ',\n",
       "  'Noah Will Alex ']]"
      ]
     },
     "execution_count": 39,
     "metadata": {},
     "output_type": "execute_result"
    }
   ],
   "source": [
    "word_count.glom().collect()"
   ]
  },
  {
   "cell_type": "markdown",
   "id": "da391ea2-405f-4772-814c-7d3375dc3f3f",
   "metadata": {},
   "source": [
    "#### Data Analysis with RDD"
   ]
  },
  {
   "cell_type": "code",
   "execution_count": 40,
   "id": "4bef7bf0-400e-49a1-a252-96badd49d008",
   "metadata": {},
   "outputs": [
    {
     "data": {
      "text/plain": [
       "['57156,Jesse,Nguyen,1976-12-15 00:00:00,Bremen,Bremen,Germany,148076,7172974188,Jesse.Nguyen@gmail.com,2020-04-13 00:00:00',\n",
       " '57189,Sarah,Hunt,1978-05-24 00:00:00,Zurich,Zurich,Switzerland,598317,8169119239,Sarah.Hunt@gmail.com,2020-05-20 00:00:00',\n",
       " '57280,Kayla,Grey,1952-05-17 00:00:00,Lucknow,Uttar Pradesh,India,753596,6528224522,Kayla.Grey@gmail.com,2020-11-09 00:00:00',\n",
       " '57358,Theodore,Lee,1959-10-06 00:00:00,Vienna,Vienna,Austria,789084,9235126073,Theodore.Lee@gmail.com,2021-02-15 00:00:00',\n",
       " '57487,Findlay,Kade,1978-04-28 00:00:00,Brandenburg,Potsdam,Germany,714481,8899015011,Findlay.Kade@gmail.com,2021-06-21 00:00:00',\n",
       " '57596,Stanley,Ali,1978-10-10 00:00:00,Zurich,Zurich,Switzerland,655505,9080686603,Stanley.Ali@gmail.com,2021-12-02 00:00:00']"
      ]
     },
     "execution_count": 40,
     "metadata": {},
     "output_type": "execute_result"
    }
   ],
   "source": [
    "### load customer data from hdfs\n",
    "customers = spark.textFile(\"/Ecommerce/Customers/Customers.csv\")\n",
    "customers.samporder_columnsle(withReplacement=False, fraction=0.01).collect()"
   ]
  },
  {
   "cell_type": "code",
   "execution_count": 41,
   "id": "f65bbba1-7bbf-42c2-b6e4-13c9b78028af",
   "metadata": {},
   "outputs": [
    {
     "data": {
      "text/plain": [
       "2"
      ]
     },
     "execution_count": 41,
     "metadata": {},
     "output_type": "execute_result"
    }
   ],
   "source": [
    "customers.getNumPartitions()"
   ]
  },
  {
   "cell_type": "code",
   "execution_count": 42,
   "id": "2e88336f-d68b-46d2-b9ee-a4f907fa3a93",
   "metadata": {},
   "outputs": [],
   "source": [
    "### split the csv file by rows\n",
    "customers = customers.map(lambda x:x.split(\",\"))"
   ]
  },
  {
   "cell_type": "code",
   "execution_count": 43,
   "id": "e4d91639-c0c0-411a-b6bf-6c885e45b6e2",
   "metadata": {},
   "outputs": [
    {
     "data": {
      "text/plain": [
       "[['CustomerID',\n",
       "  'FirstName',\n",
       "  'LastName',\n",
       "  'Date_of_Birth',\n",
       "  'City',\n",
       "  'State',\n",
       "  'Country',\n",
       "  'PostalCode',\n",
       "  'Phone',\n",
       "  'Email',\n",
       "  'DateEntered'],\n",
       " ['57081',\n",
       "  'James',\n",
       "  'Smith',\n",
       "  '1987-03-26 00:00:00',\n",
       "  'New York',\n",
       "  'New York',\n",
       "  'United States',\n",
       "  '280862',\n",
       "  '9638483934',\n",
       "  'James.Smith@gmail.com',\n",
       "  '2020-01-02 00:00:00'],\n",
       " ['57082',\n",
       "  'Robert',\n",
       "  'Downey Jr',\n",
       "  '1973-05-24 00:00:00',\n",
       "  'New York',\n",
       "  'New York',\n",
       "  'United States',\n",
       "  '376573',\n",
       "  '6588282115',\n",
       "  'Robert.Downey Jr@gmail.com',\n",
       "  '2020-01-06 00:00:00'],\n",
       " ['57083',\n",
       "  'John',\n",
       "  'Williams',\n",
       "  '1990-04-14 00:00:00',\n",
       "  'Chicago',\n",
       "  'Illinois',\n",
       "  'United States',\n",
       "  '485629',\n",
       "  '7641021429',\n",
       "  'John.Williams@gmail.com',\n",
       "  '2020-01-11 00:00:00']]"
      ]
     },
     "execution_count": 43,
     "metadata": {},
     "output_type": "execute_result"
    }
   ],
   "source": [
    "### sample data after splitting\n",
    "customers.collect()[:4]"
   ]
  },
  {
   "cell_type": "code",
   "execution_count": 44,
   "id": "0cba5d0e-cc82-46fd-ac85-d15f88919140",
   "metadata": {},
   "outputs": [],
   "source": [
    "# headers of the our data\n",
    "header = customers.first()"
   ]
  },
  {
   "cell_type": "code",
   "execution_count": 45,
   "id": "4fb391f8-3157-48a2-b78f-3ebe8b683382",
   "metadata": {},
   "outputs": [],
   "source": [
    "# remove header from actual data\n",
    "customers = customers.filter(lambda x: x != header)"
   ]
  },
  {
   "cell_type": "code",
   "execution_count": 46,
   "id": "a6534c56-4f6b-4c81-8d93-76c486a227fe",
   "metadata": {},
   "outputs": [
    {
     "data": {
      "text/plain": [
       "525"
      ]
     },
     "execution_count": 46,
     "metadata": {},
     "output_type": "execute_result"
    }
   ],
   "source": [
    "customers.count()"
   ]
  },
  {
   "cell_type": "code",
   "execution_count": 47,
   "id": "c6f82df5-f07a-464c-8717-29c3810d07cf",
   "metadata": {},
   "outputs": [
    {
     "data": {
      "text/plain": [
       "[(0, 'CustomerID'),\n",
       " (1, 'FirstName'),\n",
       " (2, 'LastName'),\n",
       " (3, 'Date_of_Birth'),\n",
       " (4, 'City'),\n",
       " (5, 'State'),\n",
       " (6, 'Country'),\n",
       " (7, 'PostalCode'),\n",
       " (8, 'Phone'),\n",
       " (9, 'Email'),\n",
       " (10, 'DateEntered')]"
      ]
     },
     "execution_count": 47,
     "metadata": {},
     "output_type": "execute_result"
    }
   ],
   "source": [
    "list(enumerate(header))"
   ]
  },
  {
   "cell_type": "code",
   "execution_count": 48,
   "id": "b9912c5d-218b-41d1-92ec-889ef27dcc8f",
   "metadata": {},
   "outputs": [
    {
     "data": {
      "text/plain": [
       "[column(CustomerID='57081', FirstName='James', LastName='Smith', Date_of_Birth='1987-03-26', City='New York', State='New York', Country='United States', PostalCode='280862', Phone='9638483934', Email='James.Smith@gmail.com', DateEntered='2020-01-02'),\n",
       " column(CustomerID='57082', FirstName='Robert', LastName='Downey Jr', Date_of_Birth='1973-05-24', City='New York', State='New York', Country='United States', PostalCode='376573', Phone='6588282115', Email='Robert.Downey Jr@gmail.com', DateEntered='2020-01-06'),\n",
       " column(CustomerID='57083', FirstName='John', LastName='Williams', Date_of_Birth='1990-04-14', City='Chicago', State='Illinois', Country='United States', PostalCode='485629', Phone='7641021429', Email='John.Williams@gmail.com', DateEntered='2020-01-11'),\n",
       " column(CustomerID='57084', FirstName='Michael', LastName='Johnson', Date_of_Birth='1953-03-25', City='Brisbane', State='Queensland', Country='Australia', PostalCode='260866', Phone='7354232181', Email='Michael.Johnson@gmail.com', DateEntered='2020-01-16'),\n",
       " column(CustomerID='57085', FirstName='Steve', LastName='Williams', Date_of_Birth='1971-04-24', City='Bremen', State='Bremen', Country='Germany', PostalCode='740338', Phone='6285552036', Email='Steve.Williams@gmail.com', DateEntered='2020-01-17')]"
      ]
     },
     "execution_count": 48,
     "metadata": {},
     "output_type": "execute_result"
    }
   ],
   "source": [
    "### assign crossponding column name to each row\n",
    "from collections import namedtuple\n",
    "column = namedtuple('column', header)\n",
    "from datetime import datetime\n",
    "\n",
    "def parseRecs(fields):\n",
    "    # fields = line.split(\",\")\n",
    "    return column( fields[0], fields[1], fields[2], fields[3][:10],  fields[4],\n",
    "                  fields[5], fields[6], fields[7], fields[8], fields[9], fields[10][:10]\n",
    "                 )\n",
    "customers = customers.map(lambda rec: parseRecs(rec))\n",
    "customers.take(5)"
   ]
  },
  {
   "cell_type": "code",
   "execution_count": 49,
   "id": "410740a4-d1f8-4d98-90cc-1473beea60aa",
   "metadata": {},
   "outputs": [
    {
     "data": {
      "text/plain": [
       "[column(CustomerID='57204', FirstName='Melissa', LastName='Clooney', Date_of_Birth='1991-12-31', City='Gurgaon', State='Haryana', Country='India', PostalCode='128305', Phone='8287186662', Email='Melissa.Clooney@gmail.com', DateEntered='2020-06-10'),\n",
       " column(CustomerID='57213', FirstName='Shirley', LastName='Taylor', Date_of_Birth='1993-05-23', City='Gurgaon', State='Haryana', Country='India', PostalCode='710807', Phone='8301878470', Email='Shirley.Taylor@gmail.com', DateEntered='2020-06-27'),\n",
       " column(CustomerID='57217', FirstName='Brenda', LastName='Williams', Date_of_Birth='1951-04-13', City='Varanasi', State='Uttar Pradesh', Country='India', PostalCode='564691', Phone='7440859268', Email='Brenda.Williams@gmail.com', DateEntered='2020-07-02'),\n",
       " column(CustomerID='57218', FirstName='Pamela', LastName='Johnson', Date_of_Birth='1969-04-18', City='Gurgaon', State='Haryana', Country='India', PostalCode='681558', Phone='9952427264', Email='Pamela.Johnson@gmail.com', DateEntered='2020-07-03')]"
      ]
     },
     "execution_count": 49,
     "metadata": {},
     "output_type": "execute_result"
    }
   ],
   "source": [
    "#### filter India data Only\n",
    "customers.filter(lambda x:x.Country == 'India').take(4)"
   ]
  },
  {
   "cell_type": "code",
   "execution_count": 50,
   "id": "7398ae96-0527-4273-bb00-2878482c7d9d",
   "metadata": {},
   "outputs": [
    {
     "data": {
      "text/plain": [
       "[('United States', 66),\n",
       " ('India', 40),\n",
       " ('Portugal', 37),\n",
       " ('France', 35),\n",
       " ('Switzerland', 33),\n",
       " ('Austria', 32),\n",
       " ('Australia', 30),\n",
       " ('Northern Ireland', 30),\n",
       " ('Germany', 29),\n",
       " ('Greece', 28),\n",
       " ('Ireland', 27),\n",
       " ('Belgium', 27),\n",
       " ('Russia', 24),\n",
       " ('Netherlands', 24),\n",
       " ('Romania', 20),\n",
       " ('Poland', 19),\n",
       " ('Italy', 14),\n",
       " ('New Zealand', 5),\n",
       " ('South Africa', 5)]"
      ]
     },
     "execution_count": 50,
     "metadata": {},
     "output_type": "execute_result"
    }
   ],
   "source": [
    "### number of customer per country\n",
    "customers.map(lambda x:(x.Country, 1)).reduceByKey(lambda a, b: a+b).sortBy(lambda x:x[1], ascending=False).collect()"
   ]
  },
  {
   "cell_type": "code",
   "execution_count": 74,
   "id": "7574ac52-f151-4c9c-b61b-d94742a3e001",
   "metadata": {},
   "outputs": [
    {
     "data": {
      "text/plain": [
       "['OrderID,CustomerID,PaymentID,OrderDate,ShipperID,ShipDate,DeliveryDate,Total_order_amount',\n",
       " '7655500,57083,2,2020-01-12,7,2020-01-13,2020-01-19,25112.0',\n",
       " '7655501,57086,3,2020-01-20,2,2020-01-24,2020-01-27,22453.0',\n",
       " '7655502,57086,4,2020-02-06,7,2020-02-11,2020-02-21,13293.0',\n",
       " '7655503,57088,4,2020-02-09,1,2020-02-13,2020-02-26,16063.0']"
      ]
     },
     "execution_count": 74,
     "metadata": {},
     "output_type": "execute_result"
    }
   ],
   "source": [
    "# load orders data from hdfs\n",
    "orders = spark.textFile(\"/Ecommerce/Orders/Orders.csv\")\n",
    "orders.take(5)"
   ]
  },
  {
   "cell_type": "code",
   "execution_count": 75,
   "id": "4f527b71-5241-4579-9e50-fdfce8cb0f8c",
   "metadata": {},
   "outputs": [],
   "source": [
    "orders = orders.map(lambda x: x.split(\",\"))"
   ]
  },
  {
   "cell_type": "code",
   "execution_count": 76,
   "id": "4728fc66-7495-4741-b640-581aa671f4db",
   "metadata": {},
   "outputs": [],
   "source": [
    "header = orders.collect()[0]"
   ]
  },
  {
   "cell_type": "code",
   "execution_count": 77,
   "id": "4c915db5-e629-4503-96f9-7bb1fb1414c0",
   "metadata": {},
   "outputs": [
    {
     "data": {
      "text/plain": [
       "['OrderID',\n",
       " 'CustomerID',\n",
       " 'PaymentID',\n",
       " 'OrderDate',\n",
       " 'ShipperID',\n",
       " 'ShipDate',\n",
       " 'DeliveryDate',\n",
       " 'Total_order_amount']"
      ]
     },
     "execution_count": 77,
     "metadata": {},
     "output_type": "execute_result"
    }
   ],
   "source": [
    "header"
   ]
  },
  {
   "cell_type": "code",
   "execution_count": 78,
   "id": "b30bc646-f017-47d7-81b8-beb7afe79120",
   "metadata": {},
   "outputs": [],
   "source": [
    "orders = orders.filter(lambda x: x != header)"
   ]
  },
  {
   "cell_type": "code",
   "execution_count": 79,
   "id": "8ebc9c19-a54f-4f4a-8296-332bbc76b70e",
   "metadata": {},
   "outputs": [
    {
     "data": {
      "text/plain": [
       "[['7655500',\n",
       "  '57083',\n",
       "  '2',\n",
       "  '2020-01-12',\n",
       "  '7',\n",
       "  '2020-01-13',\n",
       "  '2020-01-19',\n",
       "  '25112.0'],\n",
       " ['7655501',\n",
       "  '57086',\n",
       "  '3',\n",
       "  '2020-01-20',\n",
       "  '2',\n",
       "  '2020-01-24',\n",
       "  '2020-01-27',\n",
       "  '22453.0'],\n",
       " ['7655502',\n",
       "  '57086',\n",
       "  '4',\n",
       "  '2020-02-06',\n",
       "  '7',\n",
       "  '2020-02-11',\n",
       "  '2020-02-21',\n",
       "  '13293.0'],\n",
       " ['7655503',\n",
       "  '57088',\n",
       "  '4',\n",
       "  '2020-02-09',\n",
       "  '1',\n",
       "  '2020-02-13',\n",
       "  '2020-02-26',\n",
       "  '16063.0']]"
      ]
     },
     "execution_count": 79,
     "metadata": {},
     "output_type": "execute_result"
    }
   ],
   "source": [
    "orders.collect()[: 4]"
   ]
  },
  {
   "cell_type": "code",
   "execution_count": 80,
   "id": "3386bfb3-c3bc-46fb-832d-91cfba5f570b",
   "metadata": {},
   "outputs": [
    {
     "data": {
      "text/plain": [
       "8"
      ]
     },
     "execution_count": 80,
     "metadata": {},
     "output_type": "execute_result"
    }
   ],
   "source": [
    "len(header)"
   ]
  },
  {
   "cell_type": "code",
   "execution_count": 82,
   "id": "8b703048-84d9-4711-895d-a9574b8d8999",
   "metadata": {},
   "outputs": [],
   "source": [
    "order_columns = namedtuple('column', header)\n",
    "\n",
    "def parseRecsOrders(fields):\n",
    "    return order_columns(\n",
    "        fields[0], fields[1], fields[2], fields[3], fields[4], fields[5], fields[6], fields[7]\n",
    "    )\n",
    "\n",
    "orders = orders.map(lambda x: parseRecsOrders(x))"
   ]
  },
  {
   "cell_type": "code",
   "execution_count": 83,
   "id": "da8bc325-7a03-42ea-ad3d-fd7eb91e4d51",
   "metadata": {},
   "outputs": [
    {
     "data": {
      "text/plain": [
       "2"
      ]
     },
     "execution_count": 83,
     "metadata": {},
     "output_type": "execute_result"
    }
   ],
   "source": [
    "orders.getNumPartitions()"
   ]
  },
  {
   "cell_type": "code",
   "execution_count": 85,
   "id": "60d79ad1-0079-4c87-8197-bafceea3b6ec",
   "metadata": {},
   "outputs": [
    {
     "data": {
      "text/plain": [
       "[column(OrderID='7655500', CustomerID='57083', PaymentID='2', OrderDate='2020-01-12', ShipperID='7', ShipDate='2020-01-13', DeliveryDate='2020-01-19', Total_order_amount='25112.0'),\n",
       " column(OrderID='7655501', CustomerID='57086', PaymentID='3', OrderDate='2020-01-20', ShipperID='2', ShipDate='2020-01-24', DeliveryDate='2020-01-27', Total_order_amount='22453.0')]"
      ]
     },
     "execution_count": 85,
     "metadata": {},
     "output_type": "execute_result"
    }
   ],
   "source": [
    "orders.take(2)"
   ]
  },
  {
   "cell_type": "code",
   "execution_count": 101,
   "id": "53c7d3e3-7406-4da4-a855-5572114d588d",
   "metadata": {},
   "outputs": [
    {
     "data": {
      "text/plain": [
       "datetime.datetime(2020, 1, 12, 0, 0)"
      ]
     },
     "execution_count": 101,
     "metadata": {},
     "output_type": "execute_result"
    }
   ],
   "source": [
    "datetime.strptime(\"2020-01-12\", \"%Y-%m-%d\")"
   ]
  },
  {
   "cell_type": "code",
   "execution_count": 112,
   "id": "00db0a43-c3f6-4db7-9040-359c5bdd2412",
   "metadata": {},
   "outputs": [],
   "source": [
    "# find th monthly revenues\n",
    "from datetime import datetime\n",
    "monthly_revenue = orders \\\n",
    ".map(lambda x: (datetime.strptime(x.OrderDate, \"%Y-%m-%d\").month, float(x.Total_order_amount))) \\\n",
    ".reduceByKey(lambda a, b: round(a+b, 3)) \\\n",
    ".sortBy(lambda x:x).collect()"
   ]
  },
  {
   "cell_type": "code",
   "execution_count": 115,
   "id": "67dc5c1a-c0cd-4259-8798-b330a3824a30",
   "metadata": {},
   "outputs": [
    {
     "data": {
      "text/plain": [
       "[column(OrderID='7655500', CustomerID='57083', PaymentID='2', OrderDate='2020-01-12', ShipperID='7', ShipDate='2020-01-13', DeliveryDate='2020-01-19', Total_order_amount='25112.0'),\n",
       " column(OrderID='7655501', CustomerID='57086', PaymentID='3', OrderDate='2020-01-20', ShipperID='2', ShipDate='2020-01-24', DeliveryDate='2020-01-27', Total_order_amount='22453.0'),\n",
       " column(OrderID='7655502', CustomerID='57086', PaymentID='4', OrderDate='2020-02-06', ShipperID='7', ShipDate='2020-02-11', DeliveryDate='2020-02-21', Total_order_amount='13293.0'),\n",
       " column(OrderID='7655503', CustomerID='57088', PaymentID='4', OrderDate='2020-02-09', ShipperID='1', ShipDate='2020-02-13', DeliveryDate='2020-02-26', Total_order_amount='16063.0'),\n",
       " column(OrderID='7655504', CustomerID='57090', PaymentID='4', OrderDate='2020-02-11', ShipperID='3', ShipDate='2020-02-15', DeliveryDate='2020-02-20', Total_order_amount='15193.0'),\n",
       " column(OrderID='7655505', CustomerID='57094', PaymentID='4', OrderDate='2020-02-15', ShipperID='1', ShipDate='2020-02-24', DeliveryDate='2020-02-27', Total_order_amount='13581.0'),\n",
       " column(OrderID='7655506', CustomerID='57092', PaymentID='4', OrderDate='2020-02-20', ShipperID='8', ShipDate='2020-02-23', DeliveryDate='2020-02-27', Total_order_amount='74120.0'),\n",
       " column(OrderID='7655507', CustomerID='57095', PaymentID='6', OrderDate='2020-02-23', ShipperID='8', ShipDate='2020-03-04', DeliveryDate='2020-03-11', Total_order_amount='12092.0'),\n",
       " column(OrderID='7655508', CustomerID='57105', PaymentID='4', OrderDate='2020-02-26', ShipperID='5', ShipDate='2020-02-28', DeliveryDate='2020-03-08', Total_order_amount='48258.0'),\n",
       " column(OrderID='7655509', CustomerID='57095', PaymentID='5', OrderDate='2020-02-26', ShipperID='7', ShipDate='2020-02-27', DeliveryDate='2020-03-08', Total_order_amount='7509.0'),\n",
       " column(OrderID='7655510', CustomerID='57103', PaymentID='3', OrderDate='2020-03-02', ShipperID='7', ShipDate='2020-03-07', DeliveryDate='2020-03-14', Total_order_amount='11803.1'),\n",
       " column(OrderID='7655511', CustomerID='57100', PaymentID='3', OrderDate='2020-03-05', ShipperID='3', ShipDate='2020-03-07', DeliveryDate='2020-03-17', Total_order_amount='3851.35'),\n",
       " column(OrderID='7655512', CustomerID='57107', PaymentID='4', OrderDate='2020-03-05', ShipperID='8', ShipDate='2020-03-14', DeliveryDate='2020-03-27', Total_order_amount='20135.0'),\n",
       " column(OrderID='7655513', CustomerID='57101', PaymentID='3', OrderDate='2020-03-06', ShipperID='4', ShipDate='2020-03-12', DeliveryDate='2020-03-26', Total_order_amount='4837.35'),\n",
       " column(OrderID='7655514', CustomerID='57096', PaymentID='5', OrderDate='2020-03-07', ShipperID='7', ShipDate='2020-03-14', DeliveryDate='2020-03-22', Total_order_amount='10991.0'),\n",
       " column(OrderID='7655515', CustomerID='57110', PaymentID='4', OrderDate='2020-03-12', ShipperID='5', ShipDate='2020-03-20', DeliveryDate='2020-03-28', Total_order_amount='39769.0'),\n",
       " column(OrderID='7655516', CustomerID='57101', PaymentID='3', OrderDate='2020-03-13', ShipperID='2', ShipDate='2020-03-14', DeliveryDate='2020-03-19', Total_order_amount='33272.4'),\n",
       " column(OrderID='7655517', CustomerID='57095', PaymentID='6', OrderDate='2020-03-13', ShipperID='3', ShipDate='2020-03-19', DeliveryDate='2020-03-30', Total_order_amount='26176.0'),\n",
       " column(OrderID='7655518', CustomerID='57099', PaymentID='6', OrderDate='2020-03-15', ShipperID='6', ShipDate='2020-03-22', DeliveryDate='2020-04-05', Total_order_amount='20100.0'),\n",
       " column(OrderID='7655519', CustomerID='57121', PaymentID='4', OrderDate='2020-03-15', ShipperID='1', ShipDate='2020-03-21', DeliveryDate='2020-03-26', Total_order_amount='2555.0'),\n",
       " column(OrderID='7655520', CustomerID='57083', PaymentID='5', OrderDate='2020-03-18', ShipperID='1', ShipDate='2020-03-19', DeliveryDate='2020-04-06', Total_order_amount='14685.0'),\n",
       " column(OrderID='7655521', CustomerID='57094', PaymentID='4', OrderDate='2020-03-18', ShipperID='8', ShipDate='2020-03-19', DeliveryDate='2020-03-24', Total_order_amount='23460.0'),\n",
       " column(OrderID='7655522', CustomerID='57083', PaymentID='3', OrderDate='2020-03-20', ShipperID='8', ShipDate='2020-03-24', DeliveryDate='2020-04-03', Total_order_amount='23414.1'),\n",
       " column(OrderID='7655523', CustomerID='57109', PaymentID='4', OrderDate='2020-03-20', ShipperID='2', ShipDate='2020-03-23', DeliveryDate='2020-04-04', Total_order_amount='6417.0'),\n",
       " column(OrderID='7655524', CustomerID='57120', PaymentID='6', OrderDate='2020-03-21', ShipperID='7', ShipDate='2020-03-30', DeliveryDate='2020-04-15', Total_order_amount='15089.0'),\n",
       " column(OrderID='7655525', CustomerID='57105', PaymentID='4', OrderDate='2020-03-27', ShipperID='5', ShipDate='2020-04-01', DeliveryDate='2020-04-07', Total_order_amount='12892.0'),\n",
       " column(OrderID='7655526', CustomerID='57087', PaymentID='4', OrderDate='2020-03-27', ShipperID='5', ShipDate='2020-03-31', DeliveryDate='2020-04-20', Total_order_amount='13788.0'),\n",
       " column(OrderID='7655527', CustomerID='57084', PaymentID='5', OrderDate='2020-03-30', ShipperID='5', ShipDate='2020-04-07', DeliveryDate='2020-04-18', Total_order_amount='21730.0'),\n",
       " column(OrderID='7655528', CustomerID='57127', PaymentID='4', OrderDate='2020-03-31', ShipperID='6', ShipDate='2020-04-01', DeliveryDate='2020-04-09', Total_order_amount='14006.0'),\n",
       " column(OrderID='7655529', CustomerID='57132', PaymentID='4', OrderDate='2020-04-01', ShipperID='8', ShipDate='2020-04-08', DeliveryDate='2020-04-13', Total_order_amount='24438.0'),\n",
       " column(OrderID='7655530', CustomerID='57091', PaymentID='5', OrderDate='2020-04-02', ShipperID='1', ShipDate='2020-04-12', DeliveryDate='2020-04-15', Total_order_amount='12918.0'),\n",
       " column(OrderID='7655531', CustomerID='57104', PaymentID='3', OrderDate='2020-04-02', ShipperID='7', ShipDate='2020-04-06', DeliveryDate='2020-04-26', Total_order_amount='4233.85'),\n",
       " column(OrderID='7655532', CustomerID='57112', PaymentID='4', OrderDate='2020-04-04', ShipperID='8', ShipDate='2020-04-09', DeliveryDate='2020-04-26', Total_order_amount='4845.0'),\n",
       " column(OrderID='7655533', CustomerID='57132', PaymentID='5', OrderDate='2020-04-05', ShipperID='8', ShipDate='2020-04-15', DeliveryDate='2020-04-19', Total_order_amount='3705.0'),\n",
       " column(OrderID='7655534', CustomerID='57108', PaymentID='6', OrderDate='2020-04-05', ShipperID='8', ShipDate='2020-04-09', DeliveryDate='2020-04-28', Total_order_amount='80128.0'),\n",
       " column(OrderID='7655535', CustomerID='57139', PaymentID='3', OrderDate='2020-04-06', ShipperID='4', ShipDate='2020-04-16', DeliveryDate='2020-04-22', Total_order_amount='5899.0'),\n",
       " column(OrderID='7655536', CustomerID='57138', PaymentID='4', OrderDate='2020-04-06', ShipperID='4', ShipDate='2020-04-09', DeliveryDate='2020-04-20', Total_order_amount='41888.0'),\n",
       " column(OrderID='7655537', CustomerID='57113', PaymentID='6', OrderDate='2020-04-09', ShipperID='8', ShipDate='2020-04-14', DeliveryDate='2020-04-17', Total_order_amount='56068.0'),\n",
       " column(OrderID='7655538', CustomerID='57107', PaymentID='4', OrderDate='2020-04-10', ShipperID='3', ShipDate='2020-04-14', DeliveryDate='2020-05-03', Total_order_amount='15779.0'),\n",
       " column(OrderID='7655539', CustomerID='57113', PaymentID='4', OrderDate='2020-04-10', ShipperID='5', ShipDate='2020-04-20', DeliveryDate='2020-05-08', Total_order_amount='11651.0'),\n",
       " column(OrderID='7655540', CustomerID='57108', PaymentID='4', OrderDate='2020-04-12', ShipperID='1', ShipDate='2020-04-17', DeliveryDate='2020-04-25', Total_order_amount='14498.0'),\n",
       " column(OrderID='7655541', CustomerID='57138', PaymentID='5', OrderDate='2020-04-14', ShipperID='6', ShipDate='2020-04-23', DeliveryDate='2020-05-05', Total_order_amount='1314.0'),\n",
       " column(OrderID='7655542', CustomerID='57090', PaymentID='3', OrderDate='2020-04-15', ShipperID='4', ShipDate='2020-04-22', DeliveryDate='2020-05-05', Total_order_amount='14005.45'),\n",
       " column(OrderID='7655543', CustomerID='57149', PaymentID='4', OrderDate='2020-04-15', ShipperID='7', ShipDate='2020-04-20', DeliveryDate='2020-05-03', Total_order_amount='54861.0'),\n",
       " column(OrderID='7655544', CustomerID='57123', PaymentID='5', OrderDate='2020-04-17', ShipperID='2', ShipDate='2020-04-23', DeliveryDate='2020-05-09', Total_order_amount='13216.0'),\n",
       " column(OrderID='7655545', CustomerID='57120', PaymentID='4', OrderDate='2020-04-17', ShipperID='2', ShipDate='2020-04-23', DeliveryDate='2020-05-03', Total_order_amount='1910.0'),\n",
       " column(OrderID='7655546', CustomerID='57131', PaymentID='4', OrderDate='2020-04-18', ShipperID='4', ShipDate='2020-04-28', DeliveryDate='2020-04-29', Total_order_amount='12409.0'),\n",
       " column(OrderID='7655547', CustomerID='57160', PaymentID='4', OrderDate='2020-04-19', ShipperID='6', ShipDate='2020-04-26', DeliveryDate='2020-05-07', Total_order_amount='15575.0'),\n",
       " column(OrderID='7655548', CustomerID='57135', PaymentID='3', OrderDate='2020-04-20', ShipperID='4', ShipDate='2020-04-29', DeliveryDate='2020-05-07', Total_order_amount='4146.3'),\n",
       " column(OrderID='7655549', CustomerID='57144', PaymentID='6', OrderDate='2020-04-20', ShipperID='5', ShipDate='2020-04-21', DeliveryDate='2020-04-30', Total_order_amount='24282.0'),\n",
       " column(OrderID='7655550', CustomerID='57131', PaymentID='3', OrderDate='2020-04-22', ShipperID='3', ShipDate='2020-04-25', DeliveryDate='2020-05-15', Total_order_amount='20632.05'),\n",
       " column(OrderID='7655551', CustomerID='57150', PaymentID='1', OrderDate='2020-04-23', ShipperID='5', ShipDate='2020-04-27', DeliveryDate='2020-05-05', Total_order_amount='6111.0'),\n",
       " column(OrderID='7655552', CustomerID='57091', PaymentID='4', OrderDate='2020-04-24', ShipperID='8', ShipDate='2020-04-25', DeliveryDate='2020-05-14', Total_order_amount='960.0'),\n",
       " column(OrderID='7655553', CustomerID='57127', PaymentID='5', OrderDate='2020-04-26', ShipperID='3', ShipDate='2020-05-05', DeliveryDate='2020-05-23', Total_order_amount='11340.0'),\n",
       " column(OrderID='7655554', CustomerID='57089', PaymentID='3', OrderDate='2020-04-27', ShipperID='6', ShipDate='2020-04-29', DeliveryDate='2020-05-10', Total_order_amount='20439.1'),\n",
       " column(OrderID='7655555', CustomerID='57135', PaymentID='4', OrderDate='2020-04-27', ShipperID='4', ShipDate='2020-05-05', DeliveryDate='2020-05-22', Total_order_amount='16957.0'),\n",
       " column(OrderID='7655556', CustomerID='57160', PaymentID='3', OrderDate='2020-04-28', ShipperID='3', ShipDate='2020-05-06', DeliveryDate='2020-05-17', Total_order_amount='15128.3'),\n",
       " column(OrderID='7655557', CustomerID='57166', PaymentID='4', OrderDate='2020-04-29', ShipperID='3', ShipDate='2020-05-06', DeliveryDate='2020-05-10', Total_order_amount='32277.0'),\n",
       " column(OrderID='7655558', CustomerID='57145', PaymentID='6', OrderDate='2020-04-29', ShipperID='1', ShipDate='2020-05-02', DeliveryDate='2020-05-03', Total_order_amount='19422.0'),\n",
       " column(OrderID='7655559', CustomerID='57157', PaymentID='4', OrderDate='2020-05-01', ShipperID='6', ShipDate='2020-05-06', DeliveryDate='2020-05-25', Total_order_amount='27427.0'),\n",
       " column(OrderID='7655560', CustomerID='57110', PaymentID='3', OrderDate='2020-05-01', ShipperID='4', ShipDate='2020-05-04', DeliveryDate='2020-05-05', Total_order_amount='6669.95'),\n",
       " column(OrderID='7655561', CustomerID='57172', PaymentID='4', OrderDate='2020-05-03', ShipperID='2', ShipDate='2020-05-12', DeliveryDate='2020-05-16', Total_order_amount='7055.0'),\n",
       " column(OrderID='7655562', CustomerID='57133', PaymentID='5', OrderDate='2020-05-03', ShipperID='8', ShipDate='2020-05-05', DeliveryDate='2020-05-20', Total_order_amount='23571.0'),\n",
       " column(OrderID='7655563', CustomerID='57125', PaymentID='4', OrderDate='2020-05-03', ShipperID='4', ShipDate='2020-05-06', DeliveryDate='2020-05-16', Total_order_amount='3348.0'),\n",
       " column(OrderID='7655564', CustomerID='57081', PaymentID='4', OrderDate='2020-05-05', ShipperID='6', ShipDate='2020-05-06', DeliveryDate='2020-05-21', Total_order_amount='8034.0'),\n",
       " column(OrderID='7655565', CustomerID='57142', PaymentID='4', OrderDate='2020-05-06', ShipperID='2', ShipDate='2020-05-13', DeliveryDate='2020-06-01', Total_order_amount='21922.0'),\n",
       " column(OrderID='7655566', CustomerID='57143', PaymentID='4', OrderDate='2020-05-07', ShipperID='4', ShipDate='2020-05-17', DeliveryDate='2020-05-20', Total_order_amount='278.0'),\n",
       " column(OrderID='7655567', CustomerID='57086', PaymentID='3', OrderDate='2020-05-08', ShipperID='6', ShipDate='2020-05-18', DeliveryDate='2020-05-24', Total_order_amount='5292.95'),\n",
       " column(OrderID='7655568', CustomerID='57136', PaymentID='4', OrderDate='2020-05-09', ShipperID='3', ShipDate='2020-05-11', DeliveryDate='2020-05-31', Total_order_amount='9354.0'),\n",
       " column(OrderID='7655569', CustomerID='57082', PaymentID='6', OrderDate='2020-05-09', ShipperID='8', ShipDate='2020-05-10', DeliveryDate='2020-05-12', Total_order_amount='5401.0'),\n",
       " column(OrderID='7655570', CustomerID='57084', PaymentID='6', OrderDate='2020-05-10', ShipperID='2', ShipDate='2020-05-16', DeliveryDate='2020-05-24', Total_order_amount='17685.0'),\n",
       " column(OrderID='7655571', CustomerID='57160', PaymentID='5', OrderDate='2020-05-10', ShipperID='6', ShipDate='2020-05-18', DeliveryDate='2020-05-23', Total_order_amount='42981.0'),\n",
       " column(OrderID='7655572', CustomerID='57125', PaymentID='4', OrderDate='2020-05-10', ShipperID='8', ShipDate='2020-05-11', DeliveryDate='2020-05-20', Total_order_amount='960.0'),\n",
       " column(OrderID='7655573', CustomerID='57179', PaymentID='6', OrderDate='2020-05-13', ShipperID='1', ShipDate='2020-05-14', DeliveryDate='2020-05-26', Total_order_amount='15050.0'),\n",
       " column(OrderID='7655574', CustomerID='57158', PaymentID='5', OrderDate='2020-05-13', ShipperID='1', ShipDate='2020-05-15', DeliveryDate='2020-05-16', Total_order_amount='26015.0'),\n",
       " column(OrderID='7655575', CustomerID='57117', PaymentID='4', OrderDate='2020-05-13', ShipperID='3', ShipDate='2020-05-15', DeliveryDate='2020-05-26', Total_order_amount='24659.0'),\n",
       " column(OrderID='7655576', CustomerID='57158', PaymentID='6', OrderDate='2020-05-14', ShipperID='5', ShipDate='2020-05-16', DeliveryDate='2020-06-02', Total_order_amount='61072.0'),\n",
       " column(OrderID='7655577', CustomerID='57105', PaymentID='6', OrderDate='2020-05-16', ShipperID='2', ShipDate='2020-05-26', DeliveryDate='2020-06-13', Total_order_amount='28359.0'),\n",
       " column(OrderID='7655578', CustomerID='57117', PaymentID='5', OrderDate='2020-05-17', ShipperID='5', ShipDate='2020-05-20', DeliveryDate='2020-06-01', Total_order_amount='84939.0'),\n",
       " column(OrderID='7655579', CustomerID='57176', PaymentID='4', OrderDate='2020-05-17', ShipperID='1', ShipDate='2020-05-19', DeliveryDate='2020-06-05', Total_order_amount='2834.0'),\n",
       " column(OrderID='7655580', CustomerID='57144', PaymentID='4', OrderDate='2020-05-17', ShipperID='6', ShipDate='2020-05-22', DeliveryDate='2020-06-09', Total_order_amount='18785.0'),\n",
       " column(OrderID='7655581', CustomerID='57157', PaymentID='5', OrderDate='2020-05-17', ShipperID='1', ShipDate='2020-05-18', DeliveryDate='2020-06-07', Total_order_amount='30666.0'),\n",
       " column(OrderID='7655582', CustomerID='57085', PaymentID='6', OrderDate='2020-05-17', ShipperID='8', ShipDate='2020-05-25', DeliveryDate='2020-05-28', Total_order_amount='11122.0'),\n",
       " column(OrderID='7655583', CustomerID='57095', PaymentID='5', OrderDate='2020-05-17', ShipperID='2', ShipDate='2020-05-27', DeliveryDate='2020-06-16', Total_order_amount='10111.0'),\n",
       " column(OrderID='7655584', CustomerID='57177', PaymentID='4', OrderDate='2020-05-17', ShipperID='2', ShipDate='2020-05-25', DeliveryDate='2020-05-29', Total_order_amount='36870.0'),\n",
       " column(OrderID='7655585', CustomerID='57137', PaymentID='4', OrderDate='2020-05-18', ShipperID='7', ShipDate='2020-05-24', DeliveryDate='2020-06-05', Total_order_amount='38466.0'),\n",
       " column(OrderID='7655586', CustomerID='57169', PaymentID='4', OrderDate='2020-05-18', ShipperID='5', ShipDate='2020-05-25', DeliveryDate='2020-06-04', Total_order_amount='8985.0'),\n",
       " column(OrderID='7655587', CustomerID='57147', PaymentID='4', OrderDate='2020-05-18', ShipperID='5', ShipDate='2020-05-21', DeliveryDate='2020-06-05', Total_order_amount='5190.0'),\n",
       " column(OrderID='7655588', CustomerID='57091', PaymentID='4', OrderDate='2020-05-19', ShipperID='2', ShipDate='2020-05-21', DeliveryDate='2020-05-24', Total_order_amount='9345.0'),\n",
       " column(OrderID='7655589', CustomerID='57103', PaymentID='4', OrderDate='2020-05-19', ShipperID='7', ShipDate='2020-05-21', DeliveryDate='2020-06-01', Total_order_amount='68182.0'),\n",
       " column(OrderID='7655590', CustomerID='57094', PaymentID='3', OrderDate='2020-05-19', ShipperID='3', ShipDate='2020-05-20', DeliveryDate='2020-05-23', Total_order_amount='9399.3'),\n",
       " column(OrderID='7655591', CustomerID='57125', PaymentID='4', OrderDate='2020-05-20', ShipperID='8', ShipDate='2020-05-30', DeliveryDate='2020-06-11', Total_order_amount='5211.0'),\n",
       " column(OrderID='7655592', CustomerID='57152', PaymentID='4', OrderDate='2020-05-22', ShipperID='5', ShipDate='2020-05-24', DeliveryDate='2020-06-06', Total_order_amount='5785.0'),\n",
       " column(OrderID='7655593', CustomerID='57091', PaymentID='3', OrderDate='2020-05-22', ShipperID='7', ShipDate='2020-05-31', DeliveryDate='2020-06-15', Total_order_amount='5193.5'),\n",
       " column(OrderID='7655594', CustomerID='57137', PaymentID='4', OrderDate='2020-05-23', ShipperID='4', ShipDate='2020-05-26', DeliveryDate='2020-06-13', Total_order_amount='3165.0'),\n",
       " column(OrderID='7655595', CustomerID='57176', PaymentID='2', OrderDate='2020-05-23', ShipperID='2', ShipDate='2020-05-25', DeliveryDate='2020-05-29', Total_order_amount='4864.0'),\n",
       " column(OrderID='7655596', CustomerID='57158', PaymentID='4', OrderDate='2020-05-24', ShipperID='7', ShipDate='2020-06-03', DeliveryDate='2020-06-12', Total_order_amount='10024.0'),\n",
       " column(OrderID='7655597', CustomerID='57172', PaymentID='4', OrderDate='2020-05-25', ShipperID='1', ShipDate='2020-05-26', DeliveryDate='2020-06-15', Total_order_amount='47368.0'),\n",
       " column(OrderID='7655598', CustomerID='57145', PaymentID='4', OrderDate='2020-05-26', ShipperID='6', ShipDate='2020-05-28', DeliveryDate='2020-06-11', Total_order_amount='417.0'),\n",
       " column(OrderID='7655599', CustomerID='57123', PaymentID='5', OrderDate='2020-05-26', ShipperID='2', ShipDate='2020-06-04', DeliveryDate='2020-06-13', Total_order_amount='71265.0'),\n",
       " column(OrderID='7655600', CustomerID='57110', PaymentID='6', OrderDate='2020-05-27', ShipperID='6', ShipDate='2020-06-01', DeliveryDate='2020-06-18', Total_order_amount='8788.0'),\n",
       " column(OrderID='7655601', CustomerID='57141', PaymentID='2', OrderDate='2020-05-28', ShipperID='1', ShipDate='2020-06-04', DeliveryDate='2020-06-19', Total_order_amount='18121.0'),\n",
       " column(OrderID='7655602', CustomerID='57097', PaymentID='4', OrderDate='2020-05-28', ShipperID='3', ShipDate='2020-06-03', DeliveryDate='2020-06-21', Total_order_amount='24976.0'),\n",
       " column(OrderID='7655603', CustomerID='57132', PaymentID='5', OrderDate='2020-05-29', ShipperID='1', ShipDate='2020-05-30', DeliveryDate='2020-06-07', Total_order_amount='11780.0'),\n",
       " column(OrderID='7655604', CustomerID='57106', PaymentID='2', OrderDate='2020-05-30', ShipperID='2', ShipDate='2020-06-06', DeliveryDate='2020-06-14', Total_order_amount='4375.0'),\n",
       " column(OrderID='7655605', CustomerID='57103', PaymentID='4', OrderDate='2020-06-01', ShipperID='1', ShipDate='2020-06-11', DeliveryDate='2020-06-19', Total_order_amount='27391.5'),\n",
       " column(OrderID='7655606', CustomerID='57101', PaymentID='4', OrderDate='2020-06-01', ShipperID='4', ShipDate='2020-06-02', DeliveryDate='2020-06-18', Total_order_amount='259.2'),\n",
       " column(OrderID='7655607', CustomerID='57103', PaymentID='4', OrderDate='2020-06-01', ShipperID='6', ShipDate='2020-06-07', DeliveryDate='2020-06-13', Total_order_amount='17739.0'),\n",
       " column(OrderID='7655608', CustomerID='57153', PaymentID='4', OrderDate='2020-06-02', ShipperID='3', ShipDate='2020-06-06', DeliveryDate='2020-06-24', Total_order_amount='6480.0'),\n",
       " column(OrderID='7655609', CustomerID='57153', PaymentID='3', OrderDate='2020-06-03', ShipperID='7', ShipDate='2020-06-12', DeliveryDate='2020-06-26', Total_order_amount='20701.0'),\n",
       " column(OrderID='7655610', CustomerID='57164', PaymentID='4', OrderDate='2020-06-03', ShipperID='7', ShipDate='2020-06-13', DeliveryDate='2020-06-28', Total_order_amount='26028.0'),\n",
       " column(OrderID='7655611', CustomerID='57119', PaymentID='3', OrderDate='2020-06-03', ShipperID='5', ShipDate='2020-06-06', DeliveryDate='2020-06-23', Total_order_amount='3902.0'),\n",
       " column(OrderID='7655612', CustomerID='57170', PaymentID='5', OrderDate='2020-06-04', ShipperID='7', ShipDate='2020-06-06', DeliveryDate='2020-06-07', Total_order_amount='3209.0'),\n",
       " column(OrderID='7655613', CustomerID='57110', PaymentID='6', OrderDate='2020-06-04', ShipperID='7', ShipDate='2020-06-14', DeliveryDate='2020-06-29', Total_order_amount='46156.0'),\n",
       " column(OrderID='7655614', CustomerID='57090', PaymentID='3', OrderDate='2020-06-04', ShipperID='5', ShipDate='2020-06-12', DeliveryDate='2020-06-19', Total_order_amount='29491.0'),\n",
       " column(OrderID='7655615', CustomerID='57147', PaymentID='5', OrderDate='2020-06-04', ShipperID='6', ShipDate='2020-06-12', DeliveryDate='2020-06-14', Total_order_amount='13311.0'),\n",
       " column(OrderID='7655616', CustomerID='57105', PaymentID='5', OrderDate='2020-06-04', ShipperID='3', ShipDate='2020-06-11', DeliveryDate='2020-06-26', Total_order_amount='37365.0'),\n",
       " column(OrderID='7655617', CustomerID='57089', PaymentID='3', OrderDate='2020-06-05', ShipperID='6', ShipDate='2020-06-06', DeliveryDate='2020-06-20', Total_order_amount='16532.0'),\n",
       " column(OrderID='7655618', CustomerID='57139', PaymentID='3', OrderDate='2020-06-05', ShipperID='6', ShipDate='2020-06-07', DeliveryDate='2020-06-26', Total_order_amount='9859.0'),\n",
       " column(OrderID='7655619', CustomerID='57193', PaymentID='6', OrderDate='2020-06-06', ShipperID='6', ShipDate='2020-06-11', DeliveryDate='2020-06-15', Total_order_amount='29096.0'),\n",
       " column(OrderID='7655620', CustomerID='57110', PaymentID='4', OrderDate='2020-06-06', ShipperID='2', ShipDate='2020-06-07', DeliveryDate='2020-06-18', Total_order_amount='15489.9'),\n",
       " column(OrderID='7655621', CustomerID='57143', PaymentID='6', OrderDate='2020-06-07', ShipperID='3', ShipDate='2020-06-09', DeliveryDate='2020-06-27', Total_order_amount='13850.0'),\n",
       " column(OrderID='7655622', CustomerID='57125', PaymentID='4', OrderDate='2020-06-07', ShipperID='8', ShipDate='2020-06-12', DeliveryDate='2020-06-20', Total_order_amount='16571.7'),\n",
       " column(OrderID='7655623', CustomerID='57187', PaymentID='4', OrderDate='2020-06-09', ShipperID='3', ShipDate='2020-06-10', DeliveryDate='2020-06-11', Total_order_amount='45315.9'),\n",
       " column(OrderID='7655624', CustomerID='57171', PaymentID='4', OrderDate='2020-06-09', ShipperID='4', ShipDate='2020-06-19', DeliveryDate='2020-07-06', Total_order_amount='10777.5'),\n",
       " column(OrderID='7655625', CustomerID='57186', PaymentID='3', OrderDate='2020-06-09', ShipperID='7', ShipDate='2020-06-13', DeliveryDate='2020-06-16', Total_order_amount='2812.0'),\n",
       " column(OrderID='7655626', CustomerID='57081', PaymentID='4', OrderDate='2020-06-10', ShipperID='6', ShipDate='2020-06-18', DeliveryDate='2020-06-21', Total_order_amount='9703.8'),\n",
       " column(OrderID='7655627', CustomerID='57204', PaymentID='1', OrderDate='2020-06-10', ShipperID='3', ShipDate='2020-06-13', DeliveryDate='2020-06-28', Total_order_amount='24156.9'),\n",
       " column(OrderID='7655628', CustomerID='57167', PaymentID='4', OrderDate='2020-06-10', ShipperID='6', ShipDate='2020-06-15', DeliveryDate='2020-06-25', Total_order_amount='24069.6'),\n",
       " column(OrderID='7655629', CustomerID='57166', PaymentID='4', OrderDate='2020-06-11', ShipperID='3', ShipDate='2020-06-16', DeliveryDate='2020-06-18', Total_order_amount='26514.0'),\n",
       " column(OrderID='7655630', CustomerID='57181', PaymentID='4', OrderDate='2020-06-12', ShipperID='2', ShipDate='2020-06-16', DeliveryDate='2020-07-03', Total_order_amount='2185.2'),\n",
       " column(OrderID='7655631', CustomerID='57088', PaymentID='4', OrderDate='2020-06-13', ShipperID='5', ShipDate='2020-06-17', DeliveryDate='2020-06-21', Total_order_amount='2900.7'),\n",
       " column(OrderID='7655632', CustomerID='57167', PaymentID='5', OrderDate='2020-06-13', ShipperID='3', ShipDate='2020-06-20', DeliveryDate='2020-07-04', Total_order_amount='2205.0'),\n",
       " column(OrderID='7655633', CustomerID='57174', PaymentID='4', OrderDate='2020-06-14', ShipperID='1', ShipDate='2020-06-20', DeliveryDate='2020-07-08', Total_order_amount='26424.9'),\n",
       " column(OrderID='7655634', CustomerID='57107', PaymentID='4', OrderDate='2020-06-14', ShipperID='8', ShipDate='2020-06-17', DeliveryDate='2020-07-01', Total_order_amount='13528.8'),\n",
       " column(OrderID='7655635', CustomerID='57205', PaymentID='4', OrderDate='2020-06-15', ShipperID='6', ShipDate='2020-06-18', DeliveryDate='2020-07-07', Total_order_amount='33689.7'),\n",
       " column(OrderID='7655636', CustomerID='57151', PaymentID='5', OrderDate='2020-06-16', ShipperID='8', ShipDate='2020-06-18', DeliveryDate='2020-06-24', Total_order_amount='34934.0'),\n",
       " column(OrderID='7655637', CustomerID='57163', PaymentID='4', OrderDate='2020-06-16', ShipperID='4', ShipDate='2020-06-23', DeliveryDate='2020-07-11', Total_order_amount='15411.6'),\n",
       " column(OrderID='7655638', CustomerID='57205', PaymentID='4', OrderDate='2020-06-16', ShipperID='8', ShipDate='2020-06-20', DeliveryDate='2020-07-05', Total_order_amount='6278.4'),\n",
       " column(OrderID='7655639', CustomerID='57152', PaymentID='4', OrderDate='2020-06-16', ShipperID='6', ShipDate='2020-06-21', DeliveryDate='2020-06-27', Total_order_amount='21927.6'),\n",
       " column(OrderID='7655640', CustomerID='57142', PaymentID='3', OrderDate='2020-06-17', ShipperID='3', ShipDate='2020-06-21', DeliveryDate='2020-06-22', Total_order_amount='3961.0'),\n",
       " column(OrderID='7655641', CustomerID='57181', PaymentID='4', OrderDate='2020-06-19', ShipperID='8', ShipDate='2020-06-20', DeliveryDate='2020-06-23', Total_order_amount='52723.8'),\n",
       " column(OrderID='7655642', CustomerID='57157', PaymentID='4', OrderDate='2020-06-19', ShipperID='3', ShipDate='2020-06-24', DeliveryDate='2020-06-25', Total_order_amount='1439.1'),\n",
       " column(OrderID='7655643', CustomerID='57126', PaymentID='4', OrderDate='2020-06-19', ShipperID='2', ShipDate='2020-06-21', DeliveryDate='2020-07-06', Total_order_amount='19111.5'),\n",
       " column(OrderID='7655644', CustomerID='57106', PaymentID='4', OrderDate='2020-06-20', ShipperID='2', ShipDate='2020-06-23', DeliveryDate='2020-06-29', Total_order_amount='6489.0'),\n",
       " column(OrderID='7655645', CustomerID='57125', PaymentID='2', OrderDate='2020-06-20', ShipperID='8', ShipDate='2020-06-28', DeliveryDate='2020-07-14', Total_order_amount='47342.0'),\n",
       " column(OrderID='7655646', CustomerID='57193', PaymentID='4', OrderDate='2020-06-21', ShipperID='7', ShipDate='2020-06-22', DeliveryDate='2020-06-26', Total_order_amount='7444.8'),\n",
       " column(OrderID='7655647', CustomerID='57210', PaymentID='4', OrderDate='2020-06-21', ShipperID='8', ShipDate='2020-06-22', DeliveryDate='2020-07-11', Total_order_amount='24164.1'),\n",
       " column(OrderID='7655648', CustomerID='57120', PaymentID='6', OrderDate='2020-06-22', ShipperID='6', ShipDate='2020-06-24', DeliveryDate='2020-06-27', Total_order_amount='18521.0'),\n",
       " column(OrderID='7655649', CustomerID='57099', PaymentID='4', OrderDate='2020-06-22', ShipperID='8', ShipDate='2020-06-23', DeliveryDate='2020-06-30', Total_order_amount='55661.4'),\n",
       " column(OrderID='7655650', CustomerID='57175', PaymentID='4', OrderDate='2020-06-22', ShipperID='3', ShipDate='2020-06-29', DeliveryDate='2020-07-10', Total_order_amount='18222.3'),\n",
       " column(OrderID='7655651', CustomerID='57131', PaymentID='4', OrderDate='2020-06-24', ShipperID='5', ShipDate='2020-07-02', DeliveryDate='2020-07-21', Total_order_amount='73576.8'),\n",
       " column(OrderID='7655652', CustomerID='57200', PaymentID='5', OrderDate='2020-06-25', ShipperID='8', ShipDate='2020-07-02', DeliveryDate='2020-07-07', Total_order_amount='30359.0'),\n",
       " column(OrderID='7655653', CustomerID='57127', PaymentID='5', OrderDate='2020-06-25', ShipperID='1', ShipDate='2020-07-04', DeliveryDate='2020-07-18', Total_order_amount='8918.0'),\n",
       " column(OrderID='7655654', CustomerID='57209', PaymentID='3', OrderDate='2020-06-25', ShipperID='6', ShipDate='2020-06-29', DeliveryDate='2020-07-17', Total_order_amount='28455.0'),\n",
       " column(OrderID='7655655', CustomerID='57141', PaymentID='4', OrderDate='2020-06-26', ShipperID='2', ShipDate='2020-07-03', DeliveryDate='2020-07-06', Total_order_amount='21115.8'),\n",
       " column(OrderID='7655656', CustomerID='57173', PaymentID='3', OrderDate='2020-06-26', ShipperID='7', ShipDate='2020-06-27', DeliveryDate='2020-07-10', Total_order_amount='11329.0'),\n",
       " column(OrderID='7655657', CustomerID='57165', PaymentID='3', OrderDate='2020-06-27', ShipperID='5', ShipDate='2020-07-01', DeliveryDate='2020-07-04', Total_order_amount='36306.0'),\n",
       " column(OrderID='7655658', CustomerID='57119', PaymentID='4', OrderDate='2020-06-27', ShipperID='8', ShipDate='2020-07-03', DeliveryDate='2020-07-14', Total_order_amount='3808.8'),\n",
       " column(OrderID='7655659', CustomerID='57204', PaymentID='6', OrderDate='2020-06-27', ShipperID='6', ShipDate='2020-06-29', DeliveryDate='2020-07-13', Total_order_amount='13002.0'),\n",
       " column(OrderID='7655660', CustomerID='57205', PaymentID='4', OrderDate='2020-06-28', ShipperID='5', ShipDate='2020-07-02', DeliveryDate='2020-07-10', Total_order_amount='13954.5'),\n",
       " column(OrderID='7655661', CustomerID='57090', PaymentID='4', OrderDate='2020-06-29', ShipperID='6', ShipDate='2020-07-05', DeliveryDate='2020-07-10', Total_order_amount='10655.1'),\n",
       " column(OrderID='7655662', CustomerID='57161', PaymentID='6', OrderDate='2020-06-29', ShipperID='2', ShipDate='2020-07-01', DeliveryDate='2020-07-02', Total_order_amount='35544.0'),\n",
       " column(OrderID='7655663', CustomerID='57158', PaymentID='4', OrderDate='2020-06-30', ShipperID='7', ShipDate='2020-07-06', DeliveryDate='2020-07-18', Total_order_amount='5829.3'),\n",
       " column(OrderID='7655664', CustomerID='57214', PaymentID='5', OrderDate='2020-06-30', ShipperID='5', ShipDate='2020-07-07', DeliveryDate='2020-07-23', Total_order_amount='11840.0'),\n",
       " column(OrderID='7655665', CustomerID='57168', PaymentID='4', OrderDate='2020-07-01', ShipperID='4', ShipDate='2020-07-04', DeliveryDate='2020-07-20', Total_order_amount='35150.4'),\n",
       " column(OrderID='7655666', CustomerID='57088', PaymentID='1', OrderDate='2020-07-01', ShipperID='1', ShipDate='2020-07-06', DeliveryDate='2020-07-19', Total_order_amount='500.0'),\n",
       " column(OrderID='7655667', CustomerID='57115', PaymentID='3', OrderDate='2020-07-01', ShipperID='5', ShipDate='2020-07-11', DeliveryDate='2020-07-27', Total_order_amount='400.0'),\n",
       " column(OrderID='7655668', CustomerID='57087', PaymentID='4', OrderDate='2020-07-02', ShipperID='7', ShipDate='2020-07-05', DeliveryDate='2020-07-20', Total_order_amount='1323.0'),\n",
       " column(OrderID='7655669', CustomerID='57156', PaymentID='4', OrderDate='2020-07-02', ShipperID='6', ShipDate='2020-07-06', DeliveryDate='2020-07-16', Total_order_amount='39172.5'),\n",
       " column(OrderID='7655670', CustomerID='57111', PaymentID='4', OrderDate='2020-07-03', ShipperID='7', ShipDate='2020-07-07', DeliveryDate='2020-07-20', Total_order_amount='14835.6'),\n",
       " column(OrderID='7655671', CustomerID='57199', PaymentID='4', OrderDate='2020-07-04', ShipperID='3', ShipDate='2020-07-09', DeliveryDate='2020-07-11', Total_order_amount='23402.7'),\n",
       " column(OrderID='7655672', CustomerID='57172', PaymentID='3', OrderDate='2020-07-05', ShipperID='8', ShipDate='2020-07-11', DeliveryDate='2020-07-25', Total_order_amount='22459.0'),\n",
       " column(OrderID='7655673', CustomerID='57117', PaymentID='6', OrderDate='2020-07-05', ShipperID='7', ShipDate='2020-07-07', DeliveryDate='2020-07-26', Total_order_amount='7755.0'),\n",
       " column(OrderID='7655674', CustomerID='57175', PaymentID='6', OrderDate='2020-07-05', ShipperID='3', ShipDate='2020-07-09', DeliveryDate='2020-07-24', Total_order_amount='22240.0'),\n",
       " column(OrderID='7655675', CustomerID='57199', PaymentID='4', OrderDate='2020-07-06', ShipperID='1', ShipDate='2020-07-16', DeliveryDate='2020-08-04', Total_order_amount='6086.7'),\n",
       " column(OrderID='7655676', CustomerID='57178', PaymentID='3', OrderDate='2020-07-07', ShipperID='1', ShipDate='2020-07-17', DeliveryDate='2020-07-28', Total_order_amount='2604.0'),\n",
       " column(OrderID='7655677', CustomerID='57125', PaymentID='6', OrderDate='2020-07-08', ShipperID='6', ShipDate='2020-07-16', DeliveryDate='2020-07-29', Total_order_amount='31545.0'),\n",
       " column(OrderID='7655678', CustomerID='57205', PaymentID='6', OrderDate='2020-07-08', ShipperID='4', ShipDate='2020-07-09', DeliveryDate='2020-07-20', Total_order_amount='20916.0'),\n",
       " column(OrderID='7655679', CustomerID='57198', PaymentID='4', OrderDate='2020-07-08', ShipperID='7', ShipDate='2020-07-12', DeliveryDate='2020-07-26', Total_order_amount='11113.2'),\n",
       " column(OrderID='7655680', CustomerID='57096', PaymentID='3', OrderDate='2020-07-08', ShipperID='8', ShipDate='2020-07-09', DeliveryDate='2020-07-27', Total_order_amount='8716.0'),\n",
       " column(OrderID='7655681', CustomerID='57098', PaymentID='4', OrderDate='2020-07-09', ShipperID='4', ShipDate='2020-07-19', DeliveryDate='2020-08-06', Total_order_amount='2295.0'),\n",
       " column(OrderID='7655682', CustomerID='57145', PaymentID='3', OrderDate='2020-07-09', ShipperID='5', ShipDate='2020-07-10', DeliveryDate='2020-07-11', Total_order_amount='23956.0'),\n",
       " column(OrderID='7655683', CustomerID='57152', PaymentID='4', OrderDate='2020-07-09', ShipperID='3', ShipDate='2020-07-16', DeliveryDate='2020-07-21', Total_order_amount='1953.0'),\n",
       " column(OrderID='7655684', CustomerID='57191', PaymentID='6', OrderDate='2020-07-10', ShipperID='4', ShipDate='2020-07-11', DeliveryDate='2020-07-23', Total_order_amount='8204.0'),\n",
       " column(OrderID='7655685', CustomerID='57088', PaymentID='4', OrderDate='2020-07-10', ShipperID='4', ShipDate='2020-07-11', DeliveryDate='2020-07-28', Total_order_amount='6479.1'),\n",
       " column(OrderID='7655686', CustomerID='57212', PaymentID='5', OrderDate='2020-07-11', ShipperID='2', ShipDate='2020-07-13', DeliveryDate='2020-07-23', Total_order_amount='9582.0'),\n",
       " column(OrderID='7655687', CustomerID='57213', PaymentID='3', OrderDate='2020-07-11', ShipperID='1', ShipDate='2020-07-14', DeliveryDate='2020-07-25', Total_order_amount='33364.0'),\n",
       " column(OrderID='7655688', CustomerID='57101', PaymentID='4', OrderDate='2020-07-12', ShipperID='1', ShipDate='2020-07-15', DeliveryDate='2020-07-20', Total_order_amount='2615.4'),\n",
       " column(OrderID='7655689', CustomerID='57082', PaymentID='3', OrderDate='2020-07-12', ShipperID='1', ShipDate='2020-07-15', DeliveryDate='2020-08-01', Total_order_amount='68614.0'),\n",
       " column(OrderID='7655690', CustomerID='57166', PaymentID='4', OrderDate='2020-07-13', ShipperID='5', ShipDate='2020-07-15', DeliveryDate='2020-07-17', Total_order_amount='4509.9'),\n",
       " column(OrderID='7655691', CustomerID='57186', PaymentID='4', OrderDate='2020-07-14', ShipperID='1', ShipDate='2020-07-20', DeliveryDate='2020-07-22', Total_order_amount='21196.8'),\n",
       " column(OrderID='7655692', CustomerID='57179', PaymentID='3', OrderDate='2020-07-14', ShipperID='2', ShipDate='2020-07-16', DeliveryDate='2020-07-23', Total_order_amount='32852.0'),\n",
       " column(OrderID='7655693', CustomerID='57092', PaymentID='4', OrderDate='2020-07-14', ShipperID='5', ShipDate='2020-07-20', DeliveryDate='2020-08-08', Total_order_amount='22071.6'),\n",
       " column(OrderID='7655694', CustomerID='57194', PaymentID='4', OrderDate='2020-07-15', ShipperID='3', ShipDate='2020-07-18', DeliveryDate='2020-08-02', Total_order_amount='38170.8'),\n",
       " column(OrderID='7655695', CustomerID='57141', PaymentID='4', OrderDate='2020-07-15', ShipperID='6', ShipDate='2020-07-25', DeliveryDate='2020-07-30', Total_order_amount='10359.0'),\n",
       " column(OrderID='7655696', CustomerID='57093', PaymentID='6', OrderDate='2020-07-15', ShipperID='7', ShipDate='2020-07-24', DeliveryDate='2020-08-03', Total_order_amount='40127.0'),\n",
       " column(OrderID='7655697', CustomerID='57185', PaymentID='4', OrderDate='2020-07-17', ShipperID='1', ShipDate='2020-07-22', DeliveryDate='2020-08-02', Total_order_amount='23400.9'),\n",
       " column(OrderID='7655698', CustomerID='57111', PaymentID='6', OrderDate='2020-07-18', ShipperID='3', ShipDate='2020-07-26', DeliveryDate='2020-08-15', Total_order_amount='29741.0'),\n",
       " column(OrderID='7655699', CustomerID='57210', PaymentID='5', OrderDate='2020-07-19', ShipperID='8', ShipDate='2020-07-22', DeliveryDate='2020-07-24', Total_order_amount='7987.0'),\n",
       " column(OrderID='7655700', CustomerID='57191', PaymentID='4', OrderDate='2020-07-19', ShipperID='7', ShipDate='2020-07-28', DeliveryDate='2020-08-07', Total_order_amount='2319.3'),\n",
       " column(OrderID='7655701', CustomerID='57111', PaymentID='4', OrderDate='2020-07-19', ShipperID='1', ShipDate='2020-07-21', DeliveryDate='2020-08-08', Total_order_amount='14319.0'),\n",
       " column(OrderID='7655702', CustomerID='57220', PaymentID='3', OrderDate='2020-07-19', ShipperID='5', ShipDate='2020-07-22', DeliveryDate='2020-08-10', Total_order_amount='11673.0'),\n",
       " column(OrderID='7655703', CustomerID='57176', PaymentID='6', OrderDate='2020-07-19', ShipperID='7', ShipDate='2020-07-23', DeliveryDate='2020-08-02', Total_order_amount='758.0'),\n",
       " column(OrderID='7655704', CustomerID='57091', PaymentID='4', OrderDate='2020-07-20', ShipperID='6', ShipDate='2020-07-24', DeliveryDate='2020-08-05', Total_order_amount='4809.6'),\n",
       " column(OrderID='7655705', CustomerID='57204', PaymentID='4', OrderDate='2020-07-20', ShipperID='7', ShipDate='2020-07-30', DeliveryDate='2020-08-17', Total_order_amount='24993.9'),\n",
       " column(OrderID='7655706', CustomerID='57210', PaymentID='2', OrderDate='2020-07-21', ShipperID='1', ShipDate='2020-07-25', DeliveryDate='2020-07-26', Total_order_amount='3500.0'),\n",
       " column(OrderID='7655707', CustomerID='57129', PaymentID='5', OrderDate='2020-07-22', ShipperID='1', ShipDate='2020-07-24', DeliveryDate='2020-08-03', Total_order_amount='21637.0'),\n",
       " column(OrderID='7655708', CustomerID='57141', PaymentID='3', OrderDate='2020-07-23', ShipperID='8', ShipDate='2020-07-26', DeliveryDate='2020-07-27', Total_order_amount='23041.0'),\n",
       " column(OrderID='7655709', CustomerID='57135', PaymentID='4', OrderDate='2020-07-23', ShipperID='2', ShipDate='2020-07-26', DeliveryDate='2020-08-08', Total_order_amount='7308.0'),\n",
       " column(OrderID='7655710', CustomerID='57098', PaymentID='4', OrderDate='2020-07-23', ShipperID='3', ShipDate='2020-07-31', DeliveryDate='2020-08-12', Total_order_amount='13270.5'),\n",
       " column(OrderID='7655711', CustomerID='57158', PaymentID='5', OrderDate='2020-07-23', ShipperID='3', ShipDate='2020-07-29', DeliveryDate='2020-08-01', Total_order_amount='11356.0'),\n",
       " column(OrderID='7655712', CustomerID='57096', PaymentID='3', OrderDate='2020-07-24', ShipperID='8', ShipDate='2020-07-30', DeliveryDate='2020-08-01', Total_order_amount='18909.0'),\n",
       " column(OrderID='7655713', CustomerID='57110', PaymentID='4', OrderDate='2020-07-25', ShipperID='2', ShipDate='2020-07-26', DeliveryDate='2020-08-11', Total_order_amount='7942.5'),\n",
       " column(OrderID='7655714', CustomerID='57096', PaymentID='4', OrderDate='2020-07-25', ShipperID='6', ShipDate='2020-07-27', DeliveryDate='2020-08-09', Total_order_amount='8227.8'),\n",
       " column(OrderID='7655715', CustomerID='57192', PaymentID='4', OrderDate='2020-07-26', ShipperID='5', ShipDate='2020-08-02', DeliveryDate='2020-08-05', Total_order_amount='11646.0'),\n",
       " column(OrderID='7655716', CustomerID='57108', PaymentID='3', OrderDate='2020-07-26', ShipperID='7', ShipDate='2020-07-28', DeliveryDate='2020-08-15', Total_order_amount='14956.0'),\n",
       " column(OrderID='7655717', CustomerID='57210', PaymentID='6', OrderDate='2020-07-26', ShipperID='1', ShipDate='2020-07-29', DeliveryDate='2020-08-08', Total_order_amount='55551.0'),\n",
       " column(OrderID='7655718', CustomerID='57141', PaymentID='3', OrderDate='2020-07-27', ShipperID='6', ShipDate='2020-07-29', DeliveryDate='2020-08-05', Total_order_amount='7990.0'),\n",
       " column(OrderID='7655719', CustomerID='57221', PaymentID='4', OrderDate='2020-07-27', ShipperID='3', ShipDate='2020-08-04', DeliveryDate='2020-08-14', Total_order_amount='3617.1'),\n",
       " column(OrderID='7655720', CustomerID='57158', PaymentID='4', OrderDate='2020-07-27', ShipperID='5', ShipDate='2020-08-03', DeliveryDate='2020-08-15', Total_order_amount='21129.3'),\n",
       " column(OrderID='7655721', CustomerID='57122', PaymentID='5', OrderDate='2020-07-27', ShipperID='8', ShipDate='2020-07-31', DeliveryDate='2020-08-18', Total_order_amount='11632.0'),\n",
       " column(OrderID='7655722', CustomerID='57087', PaymentID='4', OrderDate='2020-07-28', ShipperID='8', ShipDate='2020-08-01', DeliveryDate='2020-08-04', Total_order_amount='16227.9'),\n",
       " column(OrderID='7655723', CustomerID='57101', PaymentID='5', OrderDate='2020-07-29', ShipperID='1', ShipDate='2020-08-03', DeliveryDate='2020-08-20', Total_order_amount='652.0'),\n",
       " column(OrderID='7655724', CustomerID='57218', PaymentID='4', OrderDate='2020-07-29', ShipperID='1', ShipDate='2020-07-31', DeliveryDate='2020-08-04', Total_order_amount='6015.6'),\n",
       " column(OrderID='7655725', CustomerID='57081', PaymentID='3', OrderDate='2020-07-29', ShipperID='3', ShipDate='2020-08-08', DeliveryDate='2020-08-09', Total_order_amount='5698.0'),\n",
       " column(OrderID='7655726', CustomerID='57171', PaymentID='3', OrderDate='2020-07-29', ShipperID='4', ShipDate='2020-07-31', DeliveryDate='2020-08-14', Total_order_amount='19063.0'),\n",
       " column(OrderID='7655727', CustomerID='57206', PaymentID='4', OrderDate='2020-07-29', ShipperID='8', ShipDate='2020-07-31', DeliveryDate='2020-08-17', Total_order_amount='19273.5'),\n",
       " column(OrderID='7655728', CustomerID='57092', PaymentID='5', OrderDate='2020-07-30', ShipperID='6', ShipDate='2020-07-31', DeliveryDate='2020-08-03', Total_order_amount='36084.0'),\n",
       " column(OrderID='7655729', CustomerID='57199', PaymentID='6', OrderDate='2020-07-31', ShipperID='6', ShipDate='2020-08-03', DeliveryDate='2020-08-14', Total_order_amount='1425.0'),\n",
       " column(OrderID='7655730', CustomerID='57146', PaymentID='5', OrderDate='2020-07-31', ShipperID='1', ShipDate='2020-08-01', DeliveryDate='2020-08-10', Total_order_amount='20883.0'),\n",
       " column(OrderID='7655731', CustomerID='57120', PaymentID='4', OrderDate='2020-08-01', ShipperID='6', ShipDate='2020-08-06', DeliveryDate='2020-08-11', Total_order_amount='6016.5'),\n",
       " column(OrderID='7655732', CustomerID='57214', PaymentID='5', OrderDate='2020-08-01', ShipperID='2', ShipDate='2020-08-05', DeliveryDate='2020-08-12', Total_order_amount='23843.0'),\n",
       " column(OrderID='7655733', CustomerID='57132', PaymentID='4', OrderDate='2020-08-01', ShipperID='7', ShipDate='2020-08-07', DeliveryDate='2020-08-23', Total_order_amount='13176.0'),\n",
       " column(OrderID='7655734', CustomerID='57101', PaymentID='4', OrderDate='2020-08-02', ShipperID='4', ShipDate='2020-08-05', DeliveryDate='2020-08-09', Total_order_amount='21012.3'),\n",
       " column(OrderID='7655735', CustomerID='57146', PaymentID='4', OrderDate='2020-08-02', ShipperID='6', ShipDate='2020-08-11', DeliveryDate='2020-08-15', Total_order_amount='5400.0'),\n",
       " column(OrderID='7655736', CustomerID='57141', PaymentID='5', OrderDate='2020-08-02', ShipperID='4', ShipDate='2020-08-11', DeliveryDate='2020-08-19', Total_order_amount='16623.0'),\n",
       " column(OrderID='7655737', CustomerID='57108', PaymentID='6', OrderDate='2020-08-03', ShipperID='4', ShipDate='2020-08-07', DeliveryDate='2020-08-10', Total_order_amount='7538.0'),\n",
       " column(OrderID='7655738', CustomerID='57096', PaymentID='4', OrderDate='2020-08-04', ShipperID='3', ShipDate='2020-08-14', DeliveryDate='2020-08-24', Total_order_amount='10745.1'),\n",
       " column(OrderID='7655739', CustomerID='57172', PaymentID='3', OrderDate='2020-08-05', ShipperID='1', ShipDate='2020-08-14', DeliveryDate='2020-08-25', Total_order_amount='21885.0'),\n",
       " column(OrderID='7655740', CustomerID='57155', PaymentID='5', OrderDate='2020-08-05', ShipperID='5', ShipDate='2020-08-06', DeliveryDate='2020-08-24', Total_order_amount='1792.0'),\n",
       " column(OrderID='7655741', CustomerID='57111', PaymentID='3', OrderDate='2020-08-05', ShipperID='6', ShipDate='2020-08-06', DeliveryDate='2020-08-17', Total_order_amount='8278.0'),\n",
       " column(OrderID='7655742', CustomerID='57141', PaymentID='3', OrderDate='2020-08-06', ShipperID='1', ShipDate='2020-08-14', DeliveryDate='2020-08-20', Total_order_amount='7321.0'),\n",
       " column(OrderID='7655743', CustomerID='57187', PaymentID='3', OrderDate='2020-08-06', ShipperID='8', ShipDate='2020-08-11', DeliveryDate='2020-08-17', Total_order_amount='13664.0'),\n",
       " column(OrderID='7655744', CustomerID='57190', PaymentID='4', OrderDate='2020-08-06', ShipperID='5', ShipDate='2020-08-12', DeliveryDate='2020-08-23', Total_order_amount='20833.2'),\n",
       " column(OrderID='7655745', CustomerID='57182', PaymentID='3', OrderDate='2020-08-08', ShipperID='1', ShipDate='2020-08-09', DeliveryDate='2020-08-27', Total_order_amount='4177.0'),\n",
       " column(OrderID='7655746', CustomerID='57137', PaymentID='5', OrderDate='2020-08-09', ShipperID='7', ShipDate='2020-08-16', DeliveryDate='2020-08-30', Total_order_amount='13782.0'),\n",
       " column(OrderID='7655747', CustomerID='57155', PaymentID='4', OrderDate='2020-08-09', ShipperID='2', ShipDate='2020-08-15', DeliveryDate='2020-08-16', Total_order_amount='918.0'),\n",
       " column(OrderID='7655748', CustomerID='57086', PaymentID='6', OrderDate='2020-08-09', ShipperID='4', ShipDate='2020-08-14', DeliveryDate='2020-08-19', Total_order_amount='24510.0'),\n",
       " column(OrderID='7655749', CustomerID='57091', PaymentID='6', OrderDate='2020-08-10', ShipperID='6', ShipDate='2020-08-14', DeliveryDate='2020-09-03', Total_order_amount='14776.0'),\n",
       " column(OrderID='7655750', CustomerID='57089', PaymentID='4', OrderDate='2020-08-11', ShipperID='8', ShipDate='2020-08-15', DeliveryDate='2020-08-27', Total_order_amount='4708.8'),\n",
       " column(OrderID='7655751', CustomerID='57206', PaymentID='3', OrderDate='2020-08-11', ShipperID='5', ShipDate='2020-08-13', DeliveryDate='2020-08-24', Total_order_amount='13172.0'),\n",
       " column(OrderID='7655752', CustomerID='57216', PaymentID='6', OrderDate='2020-08-11', ShipperID='4', ShipDate='2020-08-17', DeliveryDate='2020-08-18', Total_order_amount='45144.0'),\n",
       " column(OrderID='7655753', CustomerID='57142', PaymentID='3', OrderDate='2020-08-12', ShipperID='2', ShipDate='2020-08-14', DeliveryDate='2020-08-31', Total_order_amount='1683.0'),\n",
       " column(OrderID='7655754', CustomerID='57193', PaymentID='3', OrderDate='2020-08-13', ShipperID='4', ShipDate='2020-08-22', DeliveryDate='2020-09-01', Total_order_amount='8411.0'),\n",
       " column(OrderID='7655755', CustomerID='57145', PaymentID='1', OrderDate='2020-08-13', ShipperID='6', ShipDate='2020-08-17', DeliveryDate='2020-08-18', Total_order_amount='5500.0'),\n",
       " column(OrderID='7655756', CustomerID='57169', PaymentID='5', OrderDate='2020-08-13', ShipperID='2', ShipDate='2020-08-19', DeliveryDate='2020-08-29', Total_order_amount='6888.0'),\n",
       " column(OrderID='7655757', CustomerID='57105', PaymentID='5', OrderDate='2020-08-13', ShipperID='6', ShipDate='2020-08-21', DeliveryDate='2020-09-08', Total_order_amount='6456.0'),\n",
       " column(OrderID='7655758', CustomerID='57111', PaymentID='4', OrderDate='2020-08-14', ShipperID='4', ShipDate='2020-08-24', DeliveryDate='2020-09-05', Total_order_amount='30122.1'),\n",
       " column(OrderID='7655759', CustomerID='57197', PaymentID='4', OrderDate='2020-08-14', ShipperID='3', ShipDate='2020-08-18', DeliveryDate='2020-09-01', Total_order_amount='41025.6'),\n",
       " column(OrderID='7655760', CustomerID='57203', PaymentID='3', OrderDate='2020-08-15', ShipperID='5', ShipDate='2020-08-20', DeliveryDate='2020-08-28', Total_order_amount='4670.0'),\n",
       " column(OrderID='7655761', CustomerID='57104', PaymentID='4', OrderDate='2020-08-15', ShipperID='8', ShipDate='2020-08-17', DeliveryDate='2020-08-21', Total_order_amount='24939.0'),\n",
       " column(OrderID='7655762', CustomerID='57119', PaymentID='4', OrderDate='2020-08-16', ShipperID='3', ShipDate='2020-08-20', DeliveryDate='2020-08-23', Total_order_amount='12996.9'),\n",
       " column(OrderID='7655763', CustomerID='57114', PaymentID='4', OrderDate='2020-08-16', ShipperID='3', ShipDate='2020-08-22', DeliveryDate='2020-08-27', Total_order_amount='24482.7'),\n",
       " column(OrderID='7655764', CustomerID='57159', PaymentID='4', OrderDate='2020-08-16', ShipperID='1', ShipDate='2020-08-18', DeliveryDate='2020-08-23', Total_order_amount='23553.0'),\n",
       " column(OrderID='7655765', CustomerID='57224', PaymentID='4', OrderDate='2020-08-16', ShipperID='2', ShipDate='2020-08-21', DeliveryDate='2020-09-02', Total_order_amount='5132.7'),\n",
       " column(OrderID='7655766', CustomerID='57219', PaymentID='3', OrderDate='2020-08-16', ShipperID='2', ShipDate='2020-08-20', DeliveryDate='2020-08-22', Total_order_amount='5745.0'),\n",
       " column(OrderID='7655767', CustomerID='57132', PaymentID='4', OrderDate='2020-08-17', ShipperID='4', ShipDate='2020-08-21', DeliveryDate='2020-09-04', Total_order_amount='5382.0'),\n",
       " column(OrderID='7655768', CustomerID='57217', PaymentID='4', OrderDate='2020-08-17', ShipperID='2', ShipDate='2020-08-24', DeliveryDate='2020-09-09', Total_order_amount='15947.1'),\n",
       " column(OrderID='7655769', CustomerID='57088', PaymentID='6', OrderDate='2020-08-17', ShipperID='3', ShipDate='2020-08-21', DeliveryDate='2020-09-10', Total_order_amount='18346.0'),\n",
       " column(OrderID='7655770', CustomerID='57202', PaymentID='3', OrderDate='2020-08-18', ShipperID='2', ShipDate='2020-08-28', DeliveryDate='2020-09-15', Total_order_amount='116661.0'),\n",
       " column(OrderID='7655771', CustomerID='57168', PaymentID='6', OrderDate='2020-08-18', ShipperID='1', ShipDate='2020-08-28', DeliveryDate='2020-09-02', Total_order_amount='6477.0'),\n",
       " column(OrderID='7655772', CustomerID='57162', PaymentID='4', OrderDate='2020-08-19', ShipperID='3', ShipDate='2020-08-24', DeliveryDate='2020-09-06', Total_order_amount='805.5'),\n",
       " column(OrderID='7655773', CustomerID='57142', PaymentID='4', OrderDate='2020-08-19', ShipperID='4', ShipDate='2020-08-26', DeliveryDate='2020-09-12', Total_order_amount='11611.8'),\n",
       " column(OrderID='7655774', CustomerID='57134', PaymentID='3', OrderDate='2020-08-19', ShipperID='1', ShipDate='2020-08-20', DeliveryDate='2020-09-02', Total_order_amount='4772.0'),\n",
       " column(OrderID='7655775', CustomerID='57136', PaymentID='4', OrderDate='2020-08-19', ShipperID='7', ShipDate='2020-08-21', DeliveryDate='2020-09-09', Total_order_amount='18753.3'),\n",
       " column(OrderID='7655776', CustomerID='57169', PaymentID='3', OrderDate='2020-08-19', ShipperID='7', ShipDate='2020-08-22', DeliveryDate='2020-09-09', Total_order_amount='16924.0'),\n",
       " column(OrderID='7655777', CustomerID='57220', PaymentID='5', OrderDate='2020-08-20', ShipperID='6', ShipDate='2020-08-25', DeliveryDate='2020-09-01', Total_order_amount='9264.0'),\n",
       " column(OrderID='7655778', CustomerID='57222', PaymentID='5', OrderDate='2020-08-20', ShipperID='2', ShipDate='2020-08-28', DeliveryDate='2020-08-30', Total_order_amount='9920.0'),\n",
       " column(OrderID='7655779', CustomerID='57234', PaymentID='4', OrderDate='2020-08-20', ShipperID='3', ShipDate='2020-08-28', DeliveryDate='2020-09-13', Total_order_amount='26818.2'),\n",
       " column(OrderID='7655780', CustomerID='57113', PaymentID='6', OrderDate='2020-08-21', ShipperID='8', ShipDate='2020-08-30', DeliveryDate='2020-08-31', Total_order_amount='38811.0'),\n",
       " column(OrderID='7655781', CustomerID='57109', PaymentID='3', OrderDate='2020-08-21', ShipperID='2', ShipDate='2020-08-31', DeliveryDate='2020-09-05', Total_order_amount='7560.0'),\n",
       " column(OrderID='7655782', CustomerID='57182', PaymentID='4', OrderDate='2020-08-21', ShipperID='1', ShipDate='2020-08-30', DeliveryDate='2020-09-16', Total_order_amount='13381.2'),\n",
       " column(OrderID='7655783', CustomerID='57116', PaymentID='6', OrderDate='2020-08-21', ShipperID='1', ShipDate='2020-08-29', DeliveryDate='2020-08-30', Total_order_amount='2226.0'),\n",
       " column(OrderID='7655784', CustomerID='57146', PaymentID='5', OrderDate='2020-08-22', ShipperID='3', ShipDate='2020-08-26', DeliveryDate='2020-09-01', Total_order_amount='4668.0'),\n",
       " column(OrderID='7655785', CustomerID='57221', PaymentID='6', OrderDate='2020-08-22', ShipperID='4', ShipDate='2020-08-30', DeliveryDate='2020-09-07', Total_order_amount='22430.0'),\n",
       " column(OrderID='7655786', CustomerID='57209', PaymentID='3', OrderDate='2020-08-23', ShipperID='5', ShipDate='2020-08-24', DeliveryDate='2020-09-08', Total_order_amount='4448.0'),\n",
       " column(OrderID='7655787', CustomerID='57186', PaymentID='3', OrderDate='2020-08-23', ShipperID='3', ShipDate='2020-08-27', DeliveryDate='2020-09-09', Total_order_amount='19646.0'),\n",
       " column(OrderID='7655788', CustomerID='57204', PaymentID='5', OrderDate='2020-08-23', ShipperID='4', ShipDate='2020-08-24', DeliveryDate='2020-08-30', Total_order_amount='18305.0'),\n",
       " column(OrderID='7655789', CustomerID='57100', PaymentID='4', OrderDate='2020-08-24', ShipperID='2', ShipDate='2020-09-03', DeliveryDate='2020-09-14', Total_order_amount='21366.9'),\n",
       " column(OrderID='7655790', CustomerID='57158', PaymentID='1', OrderDate='2020-08-24', ShipperID='8', ShipDate='2020-08-30', DeliveryDate='2020-09-11', Total_order_amount='5456.0'),\n",
       " column(OrderID='7655791', CustomerID='57086', PaymentID='4', OrderDate='2020-08-24', ShipperID='7', ShipDate='2020-09-01', DeliveryDate='2020-09-10', Total_order_amount='14926.5'),\n",
       " column(OrderID='7655792', CustomerID='57093', PaymentID='6', OrderDate='2020-08-25', ShipperID='8', ShipDate='2020-09-04', DeliveryDate='2020-09-07', Total_order_amount='48427.0'),\n",
       " column(OrderID='7655793', CustomerID='57176', PaymentID='4', OrderDate='2020-08-26', ShipperID='6', ShipDate='2020-08-27', DeliveryDate='2020-09-01', Total_order_amount='28390.5'),\n",
       " column(OrderID='7655794', CustomerID='57097', PaymentID='4', OrderDate='2020-08-27', ShipperID='3', ShipDate='2020-08-29', DeliveryDate='2020-09-02', Total_order_amount='5120.1'),\n",
       " column(OrderID='7655795', CustomerID='57118', PaymentID='4', OrderDate='2020-08-27', ShipperID='2', ShipDate='2020-09-06', DeliveryDate='2020-09-24', Total_order_amount='20182.5'),\n",
       " column(OrderID='7655796', CustomerID='57150', PaymentID='3', OrderDate='2020-08-27', ShipperID='3', ShipDate='2020-08-30', DeliveryDate='2020-09-06', Total_order_amount='26515.0'),\n",
       " column(OrderID='7655797', CustomerID='57136', PaymentID='4', OrderDate='2020-08-28', ShipperID='5', ShipDate='2020-09-04', DeliveryDate='2020-09-16', Total_order_amount='159.3'),\n",
       " column(OrderID='7655798', CustomerID='57198', PaymentID='6', OrderDate='2020-08-28', ShipperID='1', ShipDate='2020-09-07', DeliveryDate='2020-09-11', Total_order_amount='33854.0'),\n",
       " column(OrderID='7655799', CustomerID='57224', PaymentID='5', OrderDate='2020-08-28', ShipperID='1', ShipDate='2020-08-30', DeliveryDate='2020-09-14', Total_order_amount='19734.0'),\n",
       " column(OrderID='7655800', CustomerID='57216', PaymentID='4', OrderDate='2020-08-29', ShipperID='2', ShipDate='2020-09-07', DeliveryDate='2020-09-09', Total_order_amount='39142.8'),\n",
       " column(OrderID='7655801', CustomerID='57170', PaymentID='3', OrderDate='2020-08-29', ShipperID='5', ShipDate='2020-09-04', DeliveryDate='2020-09-18', Total_order_amount='1374.0'),\n",
       " column(OrderID='7655802', CustomerID='57172', PaymentID='4', OrderDate='2020-08-29', ShipperID='7', ShipDate='2020-09-04', DeliveryDate='2020-09-12', Total_order_amount='8710.2'),\n",
       " column(OrderID='7655803', CustomerID='57162', PaymentID='4', OrderDate='2020-08-29', ShipperID='6', ShipDate='2020-09-02', DeliveryDate='2020-09-20', Total_order_amount='31308.3'),\n",
       " column(OrderID='7655804', CustomerID='57221', PaymentID='2', OrderDate='2020-08-30', ShipperID='8', ShipDate='2020-09-04', DeliveryDate='2020-09-13', Total_order_amount='5481.0'),\n",
       " column(OrderID='7655805', CustomerID='57144', PaymentID='3', OrderDate='2020-08-31', ShipperID='6', ShipDate='2020-09-07', DeliveryDate='2020-09-08', Total_order_amount='14398.0'),\n",
       " column(OrderID='7655806', CustomerID='57180', PaymentID='4', OrderDate='2020-09-01', ShipperID='8', ShipDate='2020-09-02', DeliveryDate='2020-09-12', Total_order_amount='9342.9'),\n",
       " column(OrderID='7655807', CustomerID='57214', PaymentID='5', OrderDate='2020-09-01', ShipperID='2', ShipDate='2020-09-04', DeliveryDate='2020-09-12', Total_order_amount='13559.0'),\n",
       " column(OrderID='7655808', CustomerID='57134', PaymentID='4', OrderDate='2020-09-01', ShipperID='8', ShipDate='2020-09-05', DeliveryDate='2020-09-11', Total_order_amount='9702.0'),\n",
       " column(OrderID='7655809', CustomerID='57145', PaymentID='6', OrderDate='2020-09-01', ShipperID='6', ShipDate='2020-09-03', DeliveryDate='2020-09-16', Total_order_amount='9230.0'),\n",
       " column(OrderID='7655810', CustomerID='57206', PaymentID='4', OrderDate='2020-09-03', ShipperID='4', ShipDate='2020-09-12', DeliveryDate='2020-09-17', Total_order_amount='23310.0'),\n",
       " column(OrderID='7655811', CustomerID='57186', PaymentID='6', OrderDate='2020-09-03', ShipperID='4', ShipDate='2020-09-08', DeliveryDate='2020-09-21', Total_order_amount='13337.0'),\n",
       " column(OrderID='7655812', CustomerID='57219', PaymentID='4', OrderDate='2020-09-03', ShipperID='5', ShipDate='2020-09-04', DeliveryDate='2020-09-14', Total_order_amount='10210.5'),\n",
       " column(OrderID='7655813', CustomerID='57160', PaymentID='5', OrderDate='2020-09-03', ShipperID='8', ShipDate='2020-09-07', DeliveryDate='2020-09-11', Total_order_amount='24420.0'),\n",
       " column(OrderID='7655814', CustomerID='57124', PaymentID='6', OrderDate='2020-09-04', ShipperID='7', ShipDate='2020-09-14', DeliveryDate='2020-09-23', Total_order_amount='34827.0'),\n",
       " column(OrderID='7655815', CustomerID='57209', PaymentID='3', OrderDate='2020-09-04', ShipperID='5', ShipDate='2020-09-14', DeliveryDate='2020-09-28', Total_order_amount='39675.0'),\n",
       " column(OrderID='7655816', CustomerID='57108', PaymentID='5', OrderDate='2020-09-05', ShipperID='6', ShipDate='2020-09-10', DeliveryDate='2020-09-16', Total_order_amount='9148.0'),\n",
       " column(OrderID='7655817', CustomerID='57090', PaymentID='3', OrderDate='2020-09-05', ShipperID='1', ShipDate='2020-09-09', DeliveryDate='2020-09-15', Total_order_amount='11574.0'),\n",
       " column(OrderID='7655818', CustomerID='57198', PaymentID='3', OrderDate='2020-09-06', ShipperID='8', ShipDate='2020-09-14', DeliveryDate='2020-09-16', Total_order_amount='17031.0'),\n",
       " column(OrderID='7655819', CustomerID='57205', PaymentID='3', OrderDate='2020-09-07', ShipperID='4', ShipDate='2020-09-12', DeliveryDate='2020-09-20', Total_order_amount='6909.0'),\n",
       " column(OrderID='7655820', CustomerID='57243', PaymentID='4', OrderDate='2020-09-07', ShipperID='7', ShipDate='2020-09-12', DeliveryDate='2020-09-30', Total_order_amount='13526.1'),\n",
       " column(OrderID='7655821', CustomerID='57169', PaymentID='6', OrderDate='2020-09-07', ShipperID='2', ShipDate='2020-09-13', DeliveryDate='2020-09-26', Total_order_amount='7434.0'),\n",
       " column(OrderID='7655822', CustomerID='57215', PaymentID='5', OrderDate='2020-09-07', ShipperID='6', ShipDate='2020-09-12', DeliveryDate='2020-10-02', Total_order_amount='11765.0'),\n",
       " column(OrderID='7655823', CustomerID='57214', PaymentID='4', OrderDate='2020-09-07', ShipperID='2', ShipDate='2020-09-09', DeliveryDate='2020-09-14', Total_order_amount='2916.0'),\n",
       " column(OrderID='7655824', CustomerID='57099', PaymentID='4', OrderDate='2020-09-07', ShipperID='8', ShipDate='2020-09-11', DeliveryDate='2020-09-28', Total_order_amount='21739.5'),\n",
       " column(OrderID='7655825', CustomerID='57217', PaymentID='4', OrderDate='2020-09-08', ShipperID='3', ShipDate='2020-09-14', DeliveryDate='2020-10-04', Total_order_amount='22894.2'),\n",
       " column(OrderID='7655826', CustomerID='57238', PaymentID='4', OrderDate='2020-09-08', ShipperID='6', ShipDate='2020-09-18', DeliveryDate='2020-10-06', Total_order_amount='3418.2'),\n",
       " column(OrderID='7655827', CustomerID='57083', PaymentID='4', OrderDate='2020-09-08', ShipperID='5', ShipDate='2020-09-17', DeliveryDate='2020-10-07', Total_order_amount='19222.2'),\n",
       " column(OrderID='7655828', CustomerID='57238', PaymentID='4', OrderDate='2020-09-09', ShipperID='4', ShipDate='2020-09-15', DeliveryDate='2020-09-30', Total_order_amount='11293.2'),\n",
       " column(OrderID='7655829', CustomerID='57243', PaymentID='3', OrderDate='2020-09-10', ShipperID='6', ShipDate='2020-09-12', DeliveryDate='2020-09-16', Total_order_amount='750.0'),\n",
       " column(OrderID='7655830', CustomerID='57176', PaymentID='3', OrderDate='2020-09-11', ShipperID='1', ShipDate='2020-09-16', DeliveryDate='2020-10-02', Total_order_amount='12649.0'),\n",
       " column(OrderID='7655831', CustomerID='57151', PaymentID='4', OrderDate='2020-09-12', ShipperID='4', ShipDate='2020-09-15', DeliveryDate='2020-09-16', Total_order_amount='1552.5'),\n",
       " column(OrderID='7655832', CustomerID='57128', PaymentID='4', OrderDate='2020-09-12', ShipperID='1', ShipDate='2020-09-15', DeliveryDate='2020-09-22', Total_order_amount='14512.5'),\n",
       " column(OrderID='7655833', CustomerID='57092', PaymentID='3', OrderDate='2020-09-12', ShipperID='1', ShipDate='2020-09-17', DeliveryDate='2020-09-20', Total_order_amount='8101.0'),\n",
       " column(OrderID='7655834', CustomerID='57179', PaymentID='3', OrderDate='2020-09-12', ShipperID='8', ShipDate='2020-09-21', DeliveryDate='2020-09-26', Total_order_amount='16187.0'),\n",
       " column(OrderID='7655835', CustomerID='57120', PaymentID='4', OrderDate='2020-09-14', ShipperID='6', ShipDate='2020-09-15', DeliveryDate='2020-10-02', Total_order_amount='21522.6'),\n",
       " column(OrderID='7655836', CustomerID='57088', PaymentID='3', OrderDate='2020-09-14', ShipperID='3', ShipDate='2020-09-18', DeliveryDate='2020-09-26', Total_order_amount='9180.0'),\n",
       " column(OrderID='7655837', CustomerID='57144', PaymentID='6', OrderDate='2020-09-14', ShipperID='4', ShipDate='2020-09-16', DeliveryDate='2020-09-29', Total_order_amount='17978.0'),\n",
       " column(OrderID='7655838', CustomerID='57220', PaymentID='4', OrderDate='2020-09-14', ShipperID='1', ShipDate='2020-09-16', DeliveryDate='2020-10-04', Total_order_amount='7099.2'),\n",
       " column(OrderID='7655839', CustomerID='57159', PaymentID='4', OrderDate='2020-09-14', ShipperID='1', ShipDate='2020-09-20', DeliveryDate='2020-10-01', Total_order_amount='19010.7'),\n",
       " column(OrderID='7655840', CustomerID='57211', PaymentID='2', OrderDate='2020-09-14', ShipperID='5', ShipDate='2020-09-23', DeliveryDate='2020-09-28', Total_order_amount='18385.0'),\n",
       " column(OrderID='7655841', CustomerID='57211', PaymentID='4', OrderDate='2020-09-15', ShipperID='6', ShipDate='2020-09-22', DeliveryDate='2020-10-11', Total_order_amount='749.7'),\n",
       " column(OrderID='7655842', CustomerID='57160', PaymentID='4', OrderDate='2020-09-15', ShipperID='5', ShipDate='2020-09-16', DeliveryDate='2020-09-21', Total_order_amount='26463.6'),\n",
       " column(OrderID='7655843', CustomerID='57216', PaymentID='4', OrderDate='2020-09-16', ShipperID='3', ShipDate='2020-09-21', DeliveryDate='2020-09-27', Total_order_amount='6001.2'),\n",
       " column(OrderID='7655844', CustomerID='57181', PaymentID='4', OrderDate='2020-09-16', ShipperID='4', ShipDate='2020-09-25', DeliveryDate='2020-10-03', Total_order_amount='3970.8'),\n",
       " column(OrderID='7655845', CustomerID='57250', PaymentID='5', OrderDate='2020-09-16', ShipperID='5', ShipDate='2020-09-26', DeliveryDate='2020-10-04', Total_order_amount='4179.0'),\n",
       " column(OrderID='7655846', CustomerID='57114', PaymentID='4', OrderDate='2020-09-17', ShipperID='1', ShipDate='2020-09-27', DeliveryDate='2020-10-12', Total_order_amount='74206.8'),\n",
       " column(OrderID='7655847', CustomerID='57238', PaymentID='4', OrderDate='2020-09-17', ShipperID='6', ShipDate='2020-09-24', DeliveryDate='2020-09-29', Total_order_amount='15862.5'),\n",
       " column(OrderID='7655848', CustomerID='57215', PaymentID='6', OrderDate='2020-09-17', ShipperID='5', ShipDate='2020-09-24', DeliveryDate='2020-10-02', Total_order_amount='693.0'),\n",
       " column(OrderID='7655849', CustomerID='57117', PaymentID='4', OrderDate='2020-09-17', ShipperID='7', ShipDate='2020-09-18', DeliveryDate='2020-09-23', Total_order_amount='77931.9'),\n",
       " column(OrderID='7655850', CustomerID='57089', PaymentID='4', OrderDate='2020-09-17', ShipperID='6', ShipDate='2020-09-18', DeliveryDate='2020-10-03', Total_order_amount='9912.6'),\n",
       " column(OrderID='7655851', CustomerID='57212', PaymentID='3', OrderDate='2020-09-17', ShipperID='4', ShipDate='2020-09-18', DeliveryDate='2020-10-07', Total_order_amount='19583.0'),\n",
       " column(OrderID='7655852', CustomerID='57181', PaymentID='4', OrderDate='2020-09-17', ShipperID='1', ShipDate='2020-09-19', DeliveryDate='2020-09-30', Total_order_amount='25321.5'),\n",
       " column(OrderID='7655853', CustomerID='57092', PaymentID='4', OrderDate='2020-09-18', ShipperID='7', ShipDate='2020-09-20', DeliveryDate='2020-10-04', Total_order_amount='10412.1'),\n",
       " column(OrderID='7655854', CustomerID='57182', PaymentID='4', OrderDate='2020-09-18', ShipperID='3', ShipDate='2020-09-22', DeliveryDate='2020-09-25', Total_order_amount='31653.9'),\n",
       " column(OrderID='7655855', CustomerID='57126', PaymentID='3', OrderDate='2020-09-18', ShipperID='2', ShipDate='2020-09-27', DeliveryDate='2020-10-14', Total_order_amount='5687.0'),\n",
       " column(OrderID='7655856', CustomerID='57201', PaymentID='4', OrderDate='2020-09-18', ShipperID='5', ShipDate='2020-09-22', DeliveryDate='2020-09-23', Total_order_amount='14163.3'),\n",
       " column(OrderID='7655857', CustomerID='57135', PaymentID='5', OrderDate='2020-09-18', ShipperID='8', ShipDate='2020-09-20', DeliveryDate='2020-10-08', Total_order_amount='5256.0'),\n",
       " column(OrderID='7655858', CustomerID='57206', PaymentID='4', OrderDate='2020-09-18', ShipperID='1', ShipDate='2020-09-26', DeliveryDate='2020-09-29', Total_order_amount='30263.4'),\n",
       " column(OrderID='7655859', CustomerID='57258', PaymentID='6', OrderDate='2020-09-19', ShipperID='5', ShipDate='2020-09-24', DeliveryDate='2020-10-09', Total_order_amount='9686.0'),\n",
       " column(OrderID='7655860', CustomerID='57089', PaymentID='4', OrderDate='2020-09-19', ShipperID='3', ShipDate='2020-09-22', DeliveryDate='2020-10-05', Total_order_amount='51192.9'),\n",
       " column(OrderID='7655861', CustomerID='57144', PaymentID='6', OrderDate='2020-09-19', ShipperID='3', ShipDate='2020-09-29', DeliveryDate='2020-10-11', Total_order_amount='18123.0'),\n",
       " column(OrderID='7655862', CustomerID='57195', PaymentID='3', OrderDate='2020-09-21', ShipperID='3', ShipDate='2020-09-26', DeliveryDate='2020-10-04', Total_order_amount='9538.0'),\n",
       " column(OrderID='7655863', CustomerID='57132', PaymentID='3', OrderDate='2020-09-21', ShipperID='8', ShipDate='2020-09-26', DeliveryDate='2020-10-11', Total_order_amount='9570.0'),\n",
       " column(OrderID='7655864', CustomerID='57230', PaymentID='6', OrderDate='2020-09-21', ShipperID='6', ShipDate='2020-09-28', DeliveryDate='2020-10-04', Total_order_amount='22889.0'),\n",
       " column(OrderID='7655865', CustomerID='57259', PaymentID='5', OrderDate='2020-09-21', ShipperID='8', ShipDate='2020-09-29', DeliveryDate='2020-09-30', Total_order_amount='16637.0'),\n",
       " column(OrderID='7655866', CustomerID='57085', PaymentID='4', OrderDate='2020-09-22', ShipperID='1', ShipDate='2020-09-28', DeliveryDate='2020-09-30', Total_order_amount='4571.1'),\n",
       " column(OrderID='7655867', CustomerID='57198', PaymentID='5', OrderDate='2020-09-22', ShipperID='7', ShipDate='2020-09-30', DeliveryDate='2020-10-16', Total_order_amount='28080.0'),\n",
       " column(OrderID='7655868', CustomerID='57162', PaymentID='4', OrderDate='2020-09-22', ShipperID='7', ShipDate='2020-09-25', DeliveryDate='2020-10-02', Total_order_amount='16461.0'),\n",
       " column(OrderID='7655869', CustomerID='57100', PaymentID='4', OrderDate='2020-09-22', ShipperID='8', ShipDate='2020-09-26', DeliveryDate='2020-10-01', Total_order_amount='7380.9'),\n",
       " column(OrderID='7655870', CustomerID='57237', PaymentID='6', OrderDate='2020-09-22', ShipperID='7', ShipDate='2020-09-30', DeliveryDate='2020-10-20', Total_order_amount='20234.0'),\n",
       " column(OrderID='7655871', CustomerID='57257', PaymentID='4', OrderDate='2020-09-23', ShipperID='4', ShipDate='2020-09-25', DeliveryDate='2020-09-26', Total_order_amount='3469.5'),\n",
       " column(OrderID='7655872', CustomerID='57203', PaymentID='4', OrderDate='2020-09-23', ShipperID='4', ShipDate='2020-09-26', DeliveryDate='2020-10-07', Total_order_amount='19713.6'),\n",
       " column(OrderID='7655873', CustomerID='57260', PaymentID='5', OrderDate='2020-09-23', ShipperID='7', ShipDate='2020-09-25', DeliveryDate='2020-09-30', Total_order_amount='6582.0'),\n",
       " column(OrderID='7655874', CustomerID='57229', PaymentID='4', OrderDate='2020-09-24', ShipperID='7', ShipDate='2020-09-30', DeliveryDate='2020-10-10', Total_order_amount='8643.6'),\n",
       " column(OrderID='7655875', CustomerID='57203', PaymentID='4', OrderDate='2020-09-24', ShipperID='2', ShipDate='2020-09-26', DeliveryDate='2020-10-16', Total_order_amount='68614.2'),\n",
       " column(OrderID='7655876', CustomerID='57081', PaymentID='3', OrderDate='2020-09-24', ShipperID='7', ShipDate='2020-09-25', DeliveryDate='2020-10-01', Total_order_amount='44193.0'),\n",
       " column(OrderID='7655877', CustomerID='57130', PaymentID='4', OrderDate='2020-09-24', ShipperID='2', ShipDate='2020-09-28', DeliveryDate='2020-10-07', Total_order_amount='8316.9'),\n",
       " column(OrderID='7655878', CustomerID='57213', PaymentID='4', OrderDate='2020-09-25', ShipperID='1', ShipDate='2020-10-01', DeliveryDate='2020-10-05', Total_order_amount='19693.8'),\n",
       " column(OrderID='7655879', CustomerID='57222', PaymentID='5', OrderDate='2020-09-25', ShipperID='5', ShipDate='2020-09-26', DeliveryDate='2020-10-05', Total_order_amount='1813.0'),\n",
       " column(OrderID='7655880', CustomerID='57232', PaymentID='4', OrderDate='2020-09-26', ShipperID='3', ShipDate='2020-09-30', DeliveryDate='2020-10-04', Total_order_amount='14100.3'),\n",
       " column(OrderID='7655881', CustomerID='57252', PaymentID='4', OrderDate='2020-09-26', ShipperID='6', ShipDate='2020-10-06', DeliveryDate='2020-10-15', Total_order_amount='6669.9'),\n",
       " column(OrderID='7655882', CustomerID='57133', PaymentID='3', OrderDate='2020-09-27', ShipperID='2', ShipDate='2020-10-06', DeliveryDate='2020-10-08', Total_order_amount='8061.0'),\n",
       " column(OrderID='7655883', CustomerID='57256', PaymentID='4', OrderDate='2020-09-27', ShipperID='6', ShipDate='2020-10-07', DeliveryDate='2020-10-14', Total_order_amount='49230.0'),\n",
       " column(OrderID='7655884', CustomerID='57142', PaymentID='4', OrderDate='2020-09-27', ShipperID='1', ShipDate='2020-10-07', DeliveryDate='2020-10-19', Total_order_amount='21599.1'),\n",
       " column(OrderID='7655885', CustomerID='57204', PaymentID='3', OrderDate='2020-09-27', ShipperID='5', ShipDate='2020-10-03', DeliveryDate='2020-10-09', Total_order_amount='11714.0'),\n",
       " column(OrderID='7655886', CustomerID='57221', PaymentID='4', OrderDate='2020-09-27', ShipperID='5', ShipDate='2020-10-02', DeliveryDate='2020-10-22', Total_order_amount='16272.9'),\n",
       " column(OrderID='7655887', CustomerID='57172', PaymentID='4', OrderDate='2020-09-27', ShipperID='4', ShipDate='2020-09-29', DeliveryDate='2020-10-09', Total_order_amount='13536.0'),\n",
       " column(OrderID='7655888', CustomerID='57172', PaymentID='1', OrderDate='2020-09-28', ShipperID='5', ShipDate='2020-10-08', DeliveryDate='2020-10-10', Total_order_amount='9109.8'),\n",
       " column(OrderID='7655889', CustomerID='57237', PaymentID='4', OrderDate='2020-09-28', ShipperID='7', ShipDate='2020-10-01', DeliveryDate='2020-10-17', Total_order_amount='7122.6'),\n",
       " column(OrderID='7655890', CustomerID='57219', PaymentID='5', OrderDate='2020-09-28', ShipperID='8', ShipDate='2020-10-04', DeliveryDate='2020-10-22', Total_order_amount='19458.0'),\n",
       " column(OrderID='7655891', CustomerID='57113', PaymentID='6', OrderDate='2020-09-29', ShipperID='6', ShipDate='2020-10-05', DeliveryDate='2020-10-21', Total_order_amount='6409.0'),\n",
       " column(OrderID='7655892', CustomerID='57196', PaymentID='3', OrderDate='2020-09-29', ShipperID='1', ShipDate='2020-10-05', DeliveryDate='2020-10-15', Total_order_amount='40510.0'),\n",
       " column(OrderID='7655893', CustomerID='57233', PaymentID='4', OrderDate='2020-09-29', ShipperID='8', ShipDate='2020-10-07', DeliveryDate='2020-10-12', Total_order_amount='5826.6'),\n",
       " column(OrderID='7655894', CustomerID='57235', PaymentID='4', OrderDate='2020-09-29', ShipperID='5', ShipDate='2020-10-09', DeliveryDate='2020-10-15', Total_order_amount='13779.9'),\n",
       " column(OrderID='7655895', CustomerID='57118', PaymentID='5', OrderDate='2020-09-29', ShipperID='2', ShipDate='2020-10-02', DeliveryDate='2020-10-22', Total_order_amount='11305.0'),\n",
       " column(OrderID='7655896', CustomerID='57251', PaymentID='2', OrderDate='2020-09-29', ShipperID='3', ShipDate='2020-10-08', DeliveryDate='2020-10-26', Total_order_amount='39265.0'),\n",
       " column(OrderID='7655897', CustomerID='57201', PaymentID='4', OrderDate='2020-09-29', ShipperID='7', ShipDate='2020-10-01', DeliveryDate='2020-10-04', Total_order_amount='8739.0'),\n",
       " column(OrderID='7655898', CustomerID='57246', PaymentID='4', OrderDate='2020-09-29', ShipperID='5', ShipDate='2020-10-08', DeliveryDate='2020-10-26', Total_order_amount='23576.4'),\n",
       " column(OrderID='7655899', CustomerID='57258', PaymentID='4', OrderDate='2020-09-30', ShipperID='4', ShipDate='2020-10-05', DeliveryDate='2020-10-24', Total_order_amount='67507.2'),\n",
       " column(OrderID='7655900', CustomerID='57210', PaymentID='4', OrderDate='2020-09-30', ShipperID='6', ShipDate='2020-10-04', DeliveryDate='2020-10-14', Total_order_amount='18220.5'),\n",
       " column(OrderID='7655901', CustomerID='57180', PaymentID='4', OrderDate='2020-09-30', ShipperID='2', ShipDate='2020-10-09', DeliveryDate='2020-10-20', Total_order_amount='1567.8'),\n",
       " column(OrderID='7655902', CustomerID='57169', PaymentID='4', OrderDate='2020-09-30', ShipperID='4', ShipDate='2020-10-09', DeliveryDate='2020-10-18', Total_order_amount='14015.7'),\n",
       " column(OrderID='7655903', CustomerID='57207', PaymentID='4', OrderDate='2020-10-01', ShipperID='3', ShipDate='2020-10-10', DeliveryDate='2020-10-27', Total_order_amount='13670.1'),\n",
       " column(OrderID='7655904', CustomerID='57118', PaymentID='5', OrderDate='2020-10-01', ShipperID='8', ShipDate='2020-10-08', DeliveryDate='2020-10-22', Total_order_amount='2530.0'),\n",
       " column(OrderID='7655905', CustomerID='57195', PaymentID='4', OrderDate='2020-10-01', ShipperID='4', ShipDate='2020-10-06', DeliveryDate='2020-10-13', Total_order_amount='31838.4'),\n",
       " column(OrderID='7655906', CustomerID='57244', PaymentID='5', OrderDate='2020-10-01', ShipperID='3', ShipDate='2020-10-06', DeliveryDate='2020-10-09', Total_order_amount='13530.0'),\n",
       " column(OrderID='7655907', CustomerID='57123', PaymentID='5', OrderDate='2020-10-02', ShipperID='8', ShipDate='2020-10-08', DeliveryDate='2020-10-16', Total_order_amount='15809.0'),\n",
       " column(OrderID='7655908', CustomerID='57130', PaymentID='3', OrderDate='2020-10-02', ShipperID='1', ShipDate='2020-10-09', DeliveryDate='2020-10-15', Total_order_amount='199.0'),\n",
       " column(OrderID='7655909', CustomerID='57158', PaymentID='2', OrderDate='2020-10-02', ShipperID='4', ShipDate='2020-10-05', DeliveryDate='2020-10-20', Total_order_amount='10515.0'),\n",
       " column(OrderID='7655910', CustomerID='57212', PaymentID='2', OrderDate='2020-10-02', ShipperID='4', ShipDate='2020-10-06', DeliveryDate='2020-10-18', Total_order_amount='9637.0'),\n",
       " column(OrderID='7655911', CustomerID='57148', PaymentID='3', OrderDate='2020-10-02', ShipperID='1', ShipDate='2020-10-10', DeliveryDate='2020-10-15', Total_order_amount='21249.0'),\n",
       " column(OrderID='7655912', CustomerID='57150', PaymentID='6', OrderDate='2020-10-02', ShipperID='4', ShipDate='2020-10-10', DeliveryDate='2020-10-28', Total_order_amount='14512.0'),\n",
       " column(OrderID='7655913', CustomerID='57151', PaymentID='4', OrderDate='2020-10-03', ShipperID='8', ShipDate='2020-10-04', DeliveryDate='2020-10-19', Total_order_amount='28480.5'),\n",
       " column(OrderID='7655914', CustomerID='57187', PaymentID='4', OrderDate='2020-10-04', ShipperID='6', ShipDate='2020-10-10', DeliveryDate='2020-10-11', Total_order_amount='34019.1'),\n",
       " column(OrderID='7655915', CustomerID='57246', PaymentID='6', OrderDate='2020-10-04', ShipperID='3', ShipDate='2020-10-05', DeliveryDate='2020-10-23', Total_order_amount='7485.0'),\n",
       " column(OrderID='7655916', CustomerID='57187', PaymentID='4', OrderDate='2020-10-04', ShipperID='8', ShipDate='2020-10-05', DeliveryDate='2020-10-25', Total_order_amount='7098.3'),\n",
       " column(OrderID='7655917', CustomerID='57154', PaymentID='4', OrderDate='2020-10-06', ShipperID='6', ShipDate='2020-10-13', DeliveryDate='2020-10-31', Total_order_amount='11623.5'),\n",
       " column(OrderID='7655918', CustomerID='57184', PaymentID='5', OrderDate='2020-10-06', ShipperID='6', ShipDate='2020-10-11', DeliveryDate='2020-10-17', Total_order_amount='17743.0'),\n",
       " column(OrderID='7655919', CustomerID='57268', PaymentID='3', OrderDate='2020-10-06', ShipperID='4', ShipDate='2020-10-13', DeliveryDate='2020-10-26', Total_order_amount='11258.0'),\n",
       " column(OrderID='7655920', CustomerID='57232', PaymentID='4', OrderDate='2020-10-06', ShipperID='4', ShipDate='2020-10-11', DeliveryDate='2020-10-13', Total_order_amount='30911.4'),\n",
       " column(OrderID='7655921', CustomerID='57265', PaymentID='4', OrderDate='2020-10-06', ShipperID='5', ShipDate='2020-10-14', DeliveryDate='2020-10-30', Total_order_amount='12800.7'),\n",
       " column(OrderID='7655922', CustomerID='57149', PaymentID='4', OrderDate='2020-10-06', ShipperID='8', ShipDate='2020-10-14', DeliveryDate='2020-10-28', Total_order_amount='8024.4'),\n",
       " column(OrderID='7655923', CustomerID='57081', PaymentID='4', OrderDate='2020-10-06', ShipperID='1', ShipDate='2020-10-08', DeliveryDate='2020-10-16', Total_order_amount='23278.5'),\n",
       " column(OrderID='7655924', CustomerID='57150', PaymentID='3', OrderDate='2020-10-07', ShipperID='1', ShipDate='2020-10-09', DeliveryDate='2020-10-24', Total_order_amount='6844.0'),\n",
       " column(OrderID='7655925', CustomerID='57125', PaymentID='6', OrderDate='2020-10-07', ShipperID='2', ShipDate='2020-10-09', DeliveryDate='2020-10-29', Total_order_amount='11985.0'),\n",
       " column(OrderID='7655926', CustomerID='57232', PaymentID='5', OrderDate='2020-10-07', ShipperID='8', ShipDate='2020-10-08', DeliveryDate='2020-10-26', Total_order_amount='8026.0'),\n",
       " column(OrderID='7655927', CustomerID='57119', PaymentID='3', OrderDate='2020-10-07', ShipperID='6', ShipDate='2020-10-10', DeliveryDate='2020-10-15', Total_order_amount='38520.0'),\n",
       " column(OrderID='7655928', CustomerID='57231', PaymentID='5', OrderDate='2020-10-07', ShipperID='3', ShipDate='2020-10-17', DeliveryDate='2020-10-19', Total_order_amount='23795.0'),\n",
       " column(OrderID='7655929', CustomerID='57268', PaymentID='4', OrderDate='2020-10-07', ShipperID='8', ShipDate='2020-10-17', DeliveryDate='2020-11-03', Total_order_amount='14906.7'),\n",
       " column(OrderID='7655930', CustomerID='57247', PaymentID='4', OrderDate='2020-10-07', ShipperID='1', ShipDate='2020-10-17', DeliveryDate='2020-10-21', Total_order_amount='30481.2'),\n",
       " column(OrderID='7655931', CustomerID='57149', PaymentID='6', OrderDate='2020-10-08', ShipperID='4', ShipDate='2020-10-17', DeliveryDate='2020-10-31', Total_order_amount='26102.0'),\n",
       " column(OrderID='7655932', CustomerID='57086', PaymentID='6', OrderDate='2020-10-08', ShipperID='4', ShipDate='2020-10-10', DeliveryDate='2020-10-18', Total_order_amount='27364.0'),\n",
       " column(OrderID='7655933', CustomerID='57249', PaymentID='4', OrderDate='2020-10-09', ShipperID='5', ShipDate='2020-10-19', DeliveryDate='2020-11-05', Total_order_amount='10345.5'),\n",
       " column(OrderID='7655934', CustomerID='57207', PaymentID='5', OrderDate='2020-10-09', ShipperID='8', ShipDate='2020-10-17', DeliveryDate='2020-10-20', Total_order_amount='765.0'),\n",
       " column(OrderID='7655935', CustomerID='57219', PaymentID='6', OrderDate='2020-10-09', ShipperID='1', ShipDate='2020-10-11', DeliveryDate='2020-10-13', Total_order_amount='23327.0'),\n",
       " column(OrderID='7655936', CustomerID='57105', PaymentID='4', OrderDate='2020-10-09', ShipperID='1', ShipDate='2020-10-18', DeliveryDate='2020-10-22', Total_order_amount='6858.0'),\n",
       " column(OrderID='7655937', CustomerID='57126', PaymentID='4', OrderDate='2020-10-09', ShipperID='2', ShipDate='2020-10-13', DeliveryDate='2020-10-17', Total_order_amount='4049.1'),\n",
       " column(OrderID='7655938', CustomerID='57116', PaymentID='4', OrderDate='2020-10-09', ShipperID='7', ShipDate='2020-10-18', DeliveryDate='2020-10-19', Total_order_amount='20216.7'),\n",
       " column(OrderID='7655939', CustomerID='57094', PaymentID='4', OrderDate='2020-10-09', ShipperID='3', ShipDate='2020-10-10', DeliveryDate='2020-10-17', Total_order_amount='1514.7'),\n",
       " column(OrderID='7655940', CustomerID='57204', PaymentID='3', OrderDate='2020-10-10', ShipperID='6', ShipDate='2020-10-14', DeliveryDate='2020-11-03', Total_order_amount='29267.0'),\n",
       " column(OrderID='7655941', CustomerID='57185', PaymentID='6', OrderDate='2020-10-10', ShipperID='8', ShipDate='2020-10-13', DeliveryDate='2020-10-19', Total_order_amount='32759.0'),\n",
       " column(OrderID='7655942', CustomerID='57229', PaymentID='6', OrderDate='2020-10-10', ShipperID='3', ShipDate='2020-10-16', DeliveryDate='2020-11-02', Total_order_amount='33414.0'),\n",
       " column(OrderID='7655943', CustomerID='57270', PaymentID='4', OrderDate='2020-10-10', ShipperID='8', ShipDate='2020-10-14', DeliveryDate='2020-10-17', Total_order_amount='48140.1'),\n",
       " column(OrderID='7655944', CustomerID='57173', PaymentID='6', OrderDate='2020-10-10', ShipperID='5', ShipDate='2020-10-14', DeliveryDate='2020-10-28', Total_order_amount='27203.0'),\n",
       " column(OrderID='7655945', CustomerID='57169', PaymentID='3', OrderDate='2020-10-11', ShipperID='7', ShipDate='2020-10-17', DeliveryDate='2020-11-02', Total_order_amount='11070.0'),\n",
       " column(OrderID='7655946', CustomerID='57152', PaymentID='4', OrderDate='2020-10-11', ShipperID='4', ShipDate='2020-10-16', DeliveryDate='2020-10-17', Total_order_amount='31198.5'),\n",
       " column(OrderID='7655947', CustomerID='57167', PaymentID='3', OrderDate='2020-10-11', ShipperID='5', ShipDate='2020-10-16', DeliveryDate='2020-11-03', Total_order_amount='82464.0'),\n",
       " column(OrderID='7655948', CustomerID='57213', PaymentID='4', OrderDate='2020-10-11', ShipperID='6', ShipDate='2020-10-12', DeliveryDate='2020-10-16', Total_order_amount='2753.1'),\n",
       " column(OrderID='7655949', CustomerID='57213', PaymentID='6', OrderDate='2020-10-12', ShipperID='4', ShipDate='2020-10-18', DeliveryDate='2020-10-30', Total_order_amount='47886.0'),\n",
       " column(OrderID='7655950', CustomerID='57222', PaymentID='6', OrderDate='2020-10-12', ShipperID='5', ShipDate='2020-10-14', DeliveryDate='2020-10-20', Total_order_amount='23936.0'),\n",
       " column(OrderID='7655951', CustomerID='57184', PaymentID='5', OrderDate='2020-10-12', ShipperID='1', ShipDate='2020-10-14', DeliveryDate='2020-10-17', Total_order_amount='36018.0'),\n",
       " column(OrderID='7655952', CustomerID='57263', PaymentID='3', OrderDate='2020-10-13', ShipperID='2', ShipDate='2020-10-15', DeliveryDate='2020-10-31', Total_order_amount='50.0'),\n",
       " column(OrderID='7655953', CustomerID='57203', PaymentID='4', OrderDate='2020-10-14', ShipperID='8', ShipDate='2020-10-24', DeliveryDate='2020-11-05', Total_order_amount='19809.9'),\n",
       " column(OrderID='7655954', CustomerID='57143', PaymentID='3', OrderDate='2020-10-14', ShipperID='2', ShipDate='2020-10-23', DeliveryDate='2020-11-12', Total_order_amount='20418.0'),\n",
       " column(OrderID='7655955', CustomerID='57099', PaymentID='5', OrderDate='2020-10-14', ShipperID='6', ShipDate='2020-10-16', DeliveryDate='2020-10-23', Total_order_amount='8984.0'),\n",
       " column(OrderID='7655956', CustomerID='57262', PaymentID='5', OrderDate='2020-10-14', ShipperID='7', ShipDate='2020-10-17', DeliveryDate='2020-10-24', Total_order_amount='8527.0'),\n",
       " column(OrderID='7655957', CustomerID='57150', PaymentID='4', OrderDate='2020-10-14', ShipperID='7', ShipDate='2020-10-23', DeliveryDate='2020-11-11', Total_order_amount='121.5'),\n",
       " column(OrderID='7655958', CustomerID='57248', PaymentID='3', OrderDate='2020-10-14', ShipperID='3', ShipDate='2020-10-16', DeliveryDate='2020-11-03', Total_order_amount='35759.0'),\n",
       " column(OrderID='7655959', CustomerID='57084', PaymentID='4', OrderDate='2020-10-15', ShipperID='6', ShipDate='2020-10-18', DeliveryDate='2020-11-06', Total_order_amount='7069.5'),\n",
       " column(OrderID='7655960', CustomerID='57134', PaymentID='4', OrderDate='2020-10-16', ShipperID='6', ShipDate='2020-10-26', DeliveryDate='2020-11-11', Total_order_amount='8218.8'),\n",
       " column(OrderID='7655961', CustomerID='57259', PaymentID='3', OrderDate='2020-10-16', ShipperID='3', ShipDate='2020-10-20', DeliveryDate='2020-11-05', Total_order_amount='10068.0'),\n",
       " column(OrderID='7655962', CustomerID='57107', PaymentID='4', OrderDate='2020-10-16', ShipperID='1', ShipDate='2020-10-20', DeliveryDate='2020-11-09', Total_order_amount='4395.6'),\n",
       " column(OrderID='7655963', CustomerID='57099', PaymentID='3', OrderDate='2020-10-16', ShipperID='6', ShipDate='2020-10-25', DeliveryDate='2020-11-05', Total_order_amount='12094.0'),\n",
       " column(OrderID='7655964', CustomerID='57224', PaymentID='4', OrderDate='2020-10-16', ShipperID='4', ShipDate='2020-10-24', DeliveryDate='2020-11-10', Total_order_amount='16411.5'),\n",
       " column(OrderID='7655965', CustomerID='57093', PaymentID='4', OrderDate='2020-10-17', ShipperID='5', ShipDate='2020-10-19', DeliveryDate='2020-11-06', Total_order_amount='14044.5'),\n",
       " column(OrderID='7655966', CustomerID='57185', PaymentID='4', OrderDate='2020-10-18', ShipperID='4', ShipDate='2020-10-27', DeliveryDate='2020-11-03', Total_order_amount='24113.7'),\n",
       " column(OrderID='7655967', CustomerID='57106', PaymentID='6', OrderDate='2020-10-18', ShipperID='6', ShipDate='2020-10-28', DeliveryDate='2020-11-07', Total_order_amount='7813.0'),\n",
       " column(OrderID='7655968', CustomerID='57251', PaymentID='2', OrderDate='2020-10-19', ShipperID='8', ShipDate='2020-10-21', DeliveryDate='2020-10-24', Total_order_amount='8404.0'),\n",
       " column(OrderID='7655969', CustomerID='57256', PaymentID='4', OrderDate='2020-10-19', ShipperID='2', ShipDate='2020-10-29', DeliveryDate='2020-11-07', Total_order_amount='18997.2'),\n",
       " column(OrderID='7655970', CustomerID='57214', PaymentID='4', OrderDate='2020-10-19', ShipperID='7', ShipDate='2020-10-24', DeliveryDate='2020-11-03', Total_order_amount='6312.6'),\n",
       " column(OrderID='7655971', CustomerID='57245', PaymentID='4', OrderDate='2020-10-19', ShipperID='6', ShipDate='2020-10-26', DeliveryDate='2020-11-13', Total_order_amount='4460.4'),\n",
       " column(OrderID='7655972', CustomerID='57224', PaymentID='6', OrderDate='2020-10-19', ShipperID='2', ShipDate='2020-10-26', DeliveryDate='2020-11-13', Total_order_amount='6852.0'),\n",
       " column(OrderID='7655973', CustomerID='57173', PaymentID='6', OrderDate='2020-10-20', ShipperID='8', ShipDate='2020-10-22', DeliveryDate='2020-11-09', Total_order_amount='12379.0'),\n",
       " column(OrderID='7655974', CustomerID='57150', PaymentID='6', OrderDate='2020-10-20', ShipperID='6', ShipDate='2020-10-26', DeliveryDate='2020-10-29', Total_order_amount='7208.0'),\n",
       " column(OrderID='7655975', CustomerID='57088', PaymentID='6', OrderDate='2020-10-20', ShipperID='5', ShipDate='2020-10-28', DeliveryDate='2020-10-31', Total_order_amount='3945.0'),\n",
       " column(OrderID='7655976', CustomerID='57205', PaymentID='5', OrderDate='2020-10-20', ShipperID='8', ShipDate='2020-10-30', DeliveryDate='2020-11-12', Total_order_amount='16148.0'),\n",
       " column(OrderID='7655977', CustomerID='57207', PaymentID='6', OrderDate='2020-10-20', ShipperID='2', ShipDate='2020-10-28', DeliveryDate='2020-11-05', Total_order_amount='9585.0'),\n",
       " column(OrderID='7655978', CustomerID='57149', PaymentID='5', OrderDate='2020-10-21', ShipperID='1', ShipDate='2020-10-24', DeliveryDate='2020-11-06', Total_order_amount='9944.0'),\n",
       " column(OrderID='7655979', CustomerID='57116', PaymentID='4', OrderDate='2020-10-21', ShipperID='8', ShipDate='2020-10-26', DeliveryDate='2020-11-14', Total_order_amount='12880.8'),\n",
       " column(OrderID='7655980', CustomerID='57118', PaymentID='4', OrderDate='2020-10-21', ShipperID='4', ShipDate='2020-10-29', DeliveryDate='2020-11-12', Total_order_amount='12968.1'),\n",
       " column(OrderID='7655981', CustomerID='57175', PaymentID='4', OrderDate='2020-10-22', ShipperID='4', ShipDate='2020-10-25', DeliveryDate='2020-10-28', Total_order_amount='13018.5'),\n",
       " column(OrderID='7655982', CustomerID='57093', PaymentID='2', OrderDate='2020-10-22', ShipperID='1', ShipDate='2020-10-25', DeliveryDate='2020-10-26', Total_order_amount='19971.0'),\n",
       " column(OrderID='7655983', CustomerID='57252', PaymentID='3', OrderDate='2020-10-22', ShipperID='4', ShipDate='2020-11-01', DeliveryDate='2020-11-21', Total_order_amount='20027.0'),\n",
       " column(OrderID='7655984', CustomerID='57081', PaymentID='4', OrderDate='2020-10-22', ShipperID='6', ShipDate='2020-10-30', DeliveryDate='2020-11-01', Total_order_amount='11089.8'),\n",
       " column(OrderID='7655985', CustomerID='57127', PaymentID='4', OrderDate='2020-10-23', ShipperID='5', ShipDate='2020-10-31', DeliveryDate='2020-11-15', Total_order_amount='10881.0'),\n",
       " column(OrderID='7655986', CustomerID='57277', PaymentID='6', OrderDate='2020-10-23', ShipperID='8', ShipDate='2020-10-31', DeliveryDate='2020-11-05', Total_order_amount='1752.0'),\n",
       " column(OrderID='7655987', CustomerID='57277', PaymentID='4', OrderDate='2020-10-23', ShipperID='5', ShipDate='2020-11-02', DeliveryDate='2020-11-18', Total_order_amount='27008.1'),\n",
       " column(OrderID='7655988', CustomerID='57234', PaymentID='4', OrderDate='2020-10-23', ShipperID='2', ShipDate='2020-10-31', DeliveryDate='2020-11-13', Total_order_amount='12322.8'),\n",
       " column(OrderID='7655989', CustomerID='57173', PaymentID='6', OrderDate='2020-10-23', ShipperID='2', ShipDate='2020-11-02', DeliveryDate='2020-11-10', Total_order_amount='10384.0'),\n",
       " column(OrderID='7655990', CustomerID='57118', PaymentID='4', OrderDate='2020-10-24', ShipperID='1', ShipDate='2020-10-28', DeliveryDate='2020-10-31', Total_order_amount='15120.9'),\n",
       " column(OrderID='7655991', CustomerID='57264', PaymentID='4', OrderDate='2020-10-25', ShipperID='1', ShipDate='2020-11-03', DeliveryDate='2020-11-14', Total_order_amount='29725.2'),\n",
       " column(OrderID='7655992', CustomerID='57203', PaymentID='3', OrderDate='2020-10-25', ShipperID='4', ShipDate='2020-11-01', DeliveryDate='2020-11-16', Total_order_amount='290.0'),\n",
       " column(OrderID='7655993', CustomerID='57250', PaymentID='4', OrderDate='2020-10-25', ShipperID='4', ShipDate='2020-10-26', DeliveryDate='2020-11-08', Total_order_amount='7527.6'),\n",
       " column(OrderID='7655994', CustomerID='57179', PaymentID='4', OrderDate='2020-10-25', ShipperID='5', ShipDate='2020-10-29', DeliveryDate='2020-11-05', Total_order_amount='8946.9'),\n",
       " column(OrderID='7655995', CustomerID='57132', PaymentID='4', OrderDate='2020-10-25', ShipperID='1', ShipDate='2020-11-01', DeliveryDate='2020-11-21', Total_order_amount='2689.2'),\n",
       " column(OrderID='7655996', CustomerID='57098', PaymentID='4', OrderDate='2020-10-26', ShipperID='2', ShipDate='2020-10-29', DeliveryDate='2020-11-08', Total_order_amount='22031.1'),\n",
       " column(OrderID='7655997', CustomerID='57278', PaymentID='3', OrderDate='2020-10-27', ShipperID='5', ShipDate='2020-10-28', DeliveryDate='2020-11-13', Total_order_amount='15944.0'),\n",
       " column(OrderID='7655998', CustomerID='57203', PaymentID='2', OrderDate='2020-10-27', ShipperID='2', ShipDate='2020-11-03', DeliveryDate='2020-11-08', Total_order_amount='30540.0'),\n",
       " column(OrderID='7655999', CustomerID='57102', PaymentID='6', OrderDate='2020-10-27', ShipperID='2', ShipDate='2020-11-04', DeliveryDate='2020-11-15', Total_order_amount='7888.0'),\n",
       " column(OrderID='7656000', CustomerID='57134', PaymentID='4', OrderDate='2020-10-27', ShipperID='2', ShipDate='2020-11-03', DeliveryDate='2020-11-09', Total_order_amount='89558.1'),\n",
       " column(OrderID='7656001', CustomerID='57218', PaymentID='4', OrderDate='2020-10-28', ShipperID='4', ShipDate='2020-11-06', DeliveryDate='2020-11-11', Total_order_amount='4243.5'),\n",
       " column(OrderID='7656002', CustomerID='57161', PaymentID='3', OrderDate='2020-10-28', ShipperID='5', ShipDate='2020-11-05', DeliveryDate='2020-11-22', Total_order_amount='21009.0'),\n",
       " column(OrderID='7656003', CustomerID='57234', PaymentID='6', OrderDate='2020-10-28', ShipperID='2', ShipDate='2020-11-02', DeliveryDate='2020-11-20', Total_order_amount='9610.0'),\n",
       " column(OrderID='7656004', CustomerID='57272', PaymentID='5', OrderDate='2020-10-29', ShipperID='6', ShipDate='2020-10-31', DeliveryDate='2020-11-05', Total_order_amount='4466.0'),\n",
       " column(OrderID='7656005', CustomerID='57159', PaymentID='3', OrderDate='2020-10-30', ShipperID='1', ShipDate='2020-11-04', DeliveryDate='2020-11-18', Total_order_amount='17672.0'),\n",
       " column(OrderID='7656006', CustomerID='57260', PaymentID='4', OrderDate='2020-10-30', ShipperID='8', ShipDate='2020-11-06', DeliveryDate='2020-11-18', Total_order_amount='429.3'),\n",
       " column(OrderID='7656007', CustomerID='57156', PaymentID='6', OrderDate='2020-10-30', ShipperID='6', ShipDate='2020-11-07', DeliveryDate='2020-11-25', Total_order_amount='2483.0'),\n",
       " column(OrderID='7656008', CustomerID='57125', PaymentID='4', OrderDate='2020-10-30', ShipperID='1', ShipDate='2020-10-31', DeliveryDate='2020-11-03', Total_order_amount='19982.7'),\n",
       " column(OrderID='7656009', CustomerID='57253', PaymentID='4', OrderDate='2020-10-31', ShipperID='5', ShipDate='2020-11-09', DeliveryDate='2020-11-15', Total_order_amount='21106.8'),\n",
       " column(OrderID='7656010', CustomerID='57134', PaymentID='3', OrderDate='2020-10-31', ShipperID='1', ShipDate='2020-11-05', DeliveryDate='2020-11-14', Total_order_amount='19736.0'),\n",
       " column(OrderID='7656011', CustomerID='57263', PaymentID='4', OrderDate='2020-11-01', ShipperID='4', ShipDate='2020-11-11', DeliveryDate='2020-11-20', Total_order_amount='25416.0'),\n",
       " column(OrderID='7656012', CustomerID='57207', PaymentID='3', OrderDate='2020-11-02', ShipperID='7', ShipDate='2020-11-03', DeliveryDate='2020-11-14', Total_order_amount='276.0'),\n",
       " column(OrderID='7656013', CustomerID='57180', PaymentID='4', OrderDate='2020-11-02', ShipperID='7', ShipDate='2020-11-09', DeliveryDate='2020-11-10', Total_order_amount='3310.2'),\n",
       " column(OrderID='7656014', CustomerID='57230', PaymentID='3', OrderDate='2020-11-02', ShipperID='2', ShipDate='2020-11-04', DeliveryDate='2020-11-15', Total_order_amount='47731.0'),\n",
       " column(OrderID='7656015', CustomerID='57200', PaymentID='6', OrderDate='2020-11-02', ShipperID='7', ShipDate='2020-11-03', DeliveryDate='2020-11-06', Total_order_amount='71581.0'),\n",
       " column(OrderID='7656016', CustomerID='57115', PaymentID='4', OrderDate='2020-11-02', ShipperID='8', ShipDate='2020-11-10', DeliveryDate='2020-11-12', Total_order_amount='10808.1'),\n",
       " column(OrderID='7656017', CustomerID='57100', PaymentID='5', OrderDate='2020-11-02', ShipperID='6', ShipDate='2020-11-04', DeliveryDate='2020-11-22', Total_order_amount='17729.0'),\n",
       " column(OrderID='7656018', CustomerID='57278', PaymentID='6', OrderDate='2020-11-02', ShipperID='7', ShipDate='2020-11-11', DeliveryDate='2020-11-24', Total_order_amount='3800.0'),\n",
       " column(OrderID='7656019', CustomerID='57201', PaymentID='4', OrderDate='2020-11-03', ShipperID='3', ShipDate='2020-11-04', DeliveryDate='2020-11-14', Total_order_amount='10360.8'),\n",
       " column(OrderID='7656020', CustomerID='57232', PaymentID='4', OrderDate='2020-11-03', ShipperID='5', ShipDate='2020-11-11', DeliveryDate='2020-11-16', Total_order_amount='44413.2'),\n",
       " column(OrderID='7656021', CustomerID='57276', PaymentID='4', OrderDate='2020-11-03', ShipperID='2', ShipDate='2020-11-04', DeliveryDate='2020-11-22', Total_order_amount='60875.1'),\n",
       " column(OrderID='7656022', CustomerID='57264', PaymentID='3', OrderDate='2020-11-03', ShipperID='4', ShipDate='2020-11-06', DeliveryDate='2020-11-20', Total_order_amount='6974.0'),\n",
       " column(OrderID='7656023', CustomerID='57111', PaymentID='4', OrderDate='2020-11-03', ShipperID='5', ShipDate='2020-11-05', DeliveryDate='2020-11-17', Total_order_amount='5934.6'),\n",
       " column(OrderID='7656024', CustomerID='57104', PaymentID='4', OrderDate='2020-11-04', ShipperID='4', ShipDate='2020-11-13', DeliveryDate='2020-11-30', Total_order_amount='3412.8'),\n",
       " column(OrderID='7656025', CustomerID='57181', PaymentID='5', OrderDate='2020-11-04', ShipperID='7', ShipDate='2020-11-07', DeliveryDate='2020-11-16', Total_order_amount='15130.0'),\n",
       " column(OrderID='7656026', CustomerID='57168', PaymentID='4', OrderDate='2020-11-04', ShipperID='3', ShipDate='2020-11-05', DeliveryDate='2020-11-11', Total_order_amount='13446.9'),\n",
       " column(OrderID='7656027', CustomerID='57089', PaymentID='2', OrderDate='2020-11-04', ShipperID='3', ShipDate='2020-11-06', DeliveryDate='2020-11-11', Total_order_amount='13382.0'),\n",
       " column(OrderID='7656028', CustomerID='57114', PaymentID='4', OrderDate='2020-11-04', ShipperID='5', ShipDate='2020-11-14', DeliveryDate='2020-11-30', Total_order_amount='36702.9'),\n",
       " column(OrderID='7656029', CustomerID='57088', PaymentID='3', OrderDate='2020-11-05', ShipperID='7', ShipDate='2020-11-15', DeliveryDate='2020-11-26', Total_order_amount='7357.0'),\n",
       " column(OrderID='7656030', CustomerID='57266', PaymentID='4', OrderDate='2020-11-05', ShipperID='7', ShipDate='2020-11-13', DeliveryDate='2020-11-18', Total_order_amount='3258.0'),\n",
       " column(OrderID='7656031', CustomerID='57208', PaymentID='3', OrderDate='2020-11-05', ShipperID='2', ShipDate='2020-11-12', DeliveryDate='2020-11-20', Total_order_amount='23861.0'),\n",
       " column(OrderID='7656032', CustomerID='57278', PaymentID='5', OrderDate='2020-11-05', ShipperID='2', ShipDate='2020-11-13', DeliveryDate='2020-11-24', Total_order_amount='19622.0'),\n",
       " column(OrderID='7656033', CustomerID='57141', PaymentID='5', OrderDate='2020-11-06', ShipperID='7', ShipDate='2020-11-13', DeliveryDate='2020-11-15', Total_order_amount='2621.0'),\n",
       " column(OrderID='7656034', CustomerID='57218', PaymentID='4', OrderDate='2020-11-06', ShipperID='1', ShipDate='2020-11-09', DeliveryDate='2020-11-23', Total_order_amount='6576.3'),\n",
       " column(OrderID='7656035', CustomerID='57101', PaymentID='4', OrderDate='2020-11-07', ShipperID='2', ShipDate='2020-11-14', DeliveryDate='2020-11-19', Total_order_amount='16789.5'),\n",
       " column(OrderID='7656036', CustomerID='57090', PaymentID='4', OrderDate='2020-11-07', ShipperID='2', ShipDate='2020-11-11', DeliveryDate='2020-11-23', Total_order_amount='1449.0'),\n",
       " column(OrderID='7656037', CustomerID='57136', PaymentID='4', OrderDate='2020-11-07', ShipperID='6', ShipDate='2020-11-10', DeliveryDate='2020-11-15', Total_order_amount='5735.7'),\n",
       " column(OrderID='7656038', CustomerID='57236', PaymentID='4', OrderDate='2020-11-07', ShipperID='1', ShipDate='2020-11-12', DeliveryDate='2020-11-28', Total_order_amount='33058.8'),\n",
       " column(OrderID='7656039', CustomerID='57127', PaymentID='6', OrderDate='2020-11-07', ShipperID='3', ShipDate='2020-11-14', DeliveryDate='2020-11-28', Total_order_amount='58230.0'),\n",
       " column(OrderID='7656040', CustomerID='57216', PaymentID='4', OrderDate='2020-11-08', ShipperID='6', ShipDate='2020-11-15', DeliveryDate='2020-11-16', Total_order_amount='12699.9'),\n",
       " column(OrderID='7656041', CustomerID='57100', PaymentID='4', OrderDate='2020-11-08', ShipperID='1', ShipDate='2020-11-12', DeliveryDate='2020-11-18', Total_order_amount='16958.7'),\n",
       " column(OrderID='7656042', CustomerID='57193', PaymentID='4', OrderDate='2020-11-08', ShipperID='8', ShipDate='2020-11-13', DeliveryDate='2020-11-27', Total_order_amount='2857.5'),\n",
       " column(OrderID='7656043', CustomerID='57147', PaymentID='4', OrderDate='2020-11-08', ShipperID='2', ShipDate='2020-11-17', DeliveryDate='2020-12-03', Total_order_amount='20410.2'),\n",
       " column(OrderID='7656044', CustomerID='57217', PaymentID='1', OrderDate='2020-11-08', ShipperID='4', ShipDate='2020-11-11', DeliveryDate='2020-11-30', Total_order_amount='9307.8'),\n",
       " column(OrderID='7656045', CustomerID='57204', PaymentID='4', OrderDate='2020-11-09', ShipperID='4', ShipDate='2020-11-12', DeliveryDate='2020-11-30', Total_order_amount='9725.4'),\n",
       " column(OrderID='7656046', CustomerID='57242', PaymentID='4', OrderDate='2020-11-10', ShipperID='7', ShipDate='2020-11-11', DeliveryDate='2020-11-25', Total_order_amount='12220.2'),\n",
       " column(OrderID='7656047', CustomerID='57271', PaymentID='3', OrderDate='2020-11-10', ShipperID='5', ShipDate='2020-11-12', DeliveryDate='2020-11-22', Total_order_amount='7782.0'),\n",
       " column(OrderID='7656048', CustomerID='57279', PaymentID='4', OrderDate='2020-11-10', ShipperID='1', ShipDate='2020-11-18', DeliveryDate='2020-11-19', Total_order_amount='8866.8'),\n",
       " column(OrderID='7656049', CustomerID='57146', PaymentID='6', OrderDate='2020-11-10', ShipperID='6', ShipDate='2020-11-17', DeliveryDate='2020-12-01', Total_order_amount='16770.0'),\n",
       " column(OrderID='7656050', CustomerID='57131', PaymentID='5', OrderDate='2020-11-10', ShipperID='1', ShipDate='2020-11-18', DeliveryDate='2020-11-20', Total_order_amount='25490.0'),\n",
       " column(OrderID='7656051', CustomerID='57249', PaymentID='4', OrderDate='2020-11-11', ShipperID='8', ShipDate='2020-11-19', DeliveryDate='2020-11-26', Total_order_amount='23291.1'),\n",
       " column(OrderID='7656052', CustomerID='57259', PaymentID='4', OrderDate='2020-11-11', ShipperID='1', ShipDate='2020-11-20', DeliveryDate='2020-11-25', Total_order_amount='4543.2'),\n",
       " column(OrderID='7656053', CustomerID='57132', PaymentID='4', OrderDate='2020-11-11', ShipperID='7', ShipDate='2020-11-17', DeliveryDate='2020-12-04', Total_order_amount='5175.0'),\n",
       " column(OrderID='7656054', CustomerID='57225', PaymentID='4', OrderDate='2020-11-11', ShipperID='1', ShipDate='2020-11-17', DeliveryDate='2020-12-06', Total_order_amount='2862.0'),\n",
       " column(OrderID='7656055', CustomerID='57253', PaymentID='4', OrderDate='2020-11-11', ShipperID='6', ShipDate='2020-11-20', DeliveryDate='2020-12-02', Total_order_amount='24030.0'),\n",
       " column(OrderID='7656056', CustomerID='57273', PaymentID='5', OrderDate='2020-11-11', ShipperID='1', ShipDate='2020-11-18', DeliveryDate='2020-12-03', Total_order_amount='53348.0'),\n",
       " column(OrderID='7656057', CustomerID='57264', PaymentID='4', OrderDate='2020-11-12', ShipperID='1', ShipDate='2020-11-13', DeliveryDate='2020-11-14', Total_order_amount='13887.0'),\n",
       " column(OrderID='7656058', CustomerID='57260', PaymentID='4', OrderDate='2020-11-12', ShipperID='1', ShipDate='2020-11-21', DeliveryDate='2020-11-29', Total_order_amount='6222.6'),\n",
       " column(OrderID='7656059', CustomerID='57201', PaymentID='3', OrderDate='2020-11-12', ShipperID='8', ShipDate='2020-11-13', DeliveryDate='2020-11-21', Total_order_amount='16400.0'),\n",
       " column(OrderID='7656060', CustomerID='57239', PaymentID='4', OrderDate='2020-11-12', ShipperID='7', ShipDate='2020-11-18', DeliveryDate='2020-11-25', Total_order_amount='9936.9'),\n",
       " column(OrderID='7656061', CustomerID='57198', PaymentID='3', OrderDate='2020-11-13', ShipperID='6', ShipDate='2020-11-14', DeliveryDate='2020-12-03', Total_order_amount='17585.0'),\n",
       " column(OrderID='7656062', CustomerID='57213', PaymentID='4', OrderDate='2020-11-13', ShipperID='1', ShipDate='2020-11-17', DeliveryDate='2020-12-05', Total_order_amount='28143.9'),\n",
       " column(OrderID='7656063', CustomerID='57095', PaymentID='6', OrderDate='2020-11-14', ShipperID='3', ShipDate='2020-11-17', DeliveryDate='2020-11-29', Total_order_amount='4374.0'),\n",
       " column(OrderID='7656064', CustomerID='57176', PaymentID='1', OrderDate='2020-11-14', ShipperID='1', ShipDate='2020-11-21', DeliveryDate='2020-11-25', Total_order_amount='10645.2'),\n",
       " column(OrderID='7656065', CustomerID='57092', PaymentID='6', OrderDate='2020-11-14', ShipperID='3', ShipDate='2020-11-22', DeliveryDate='2020-12-12', Total_order_amount='3574.0'),\n",
       " column(OrderID='7656066', CustomerID='57171', PaymentID='3', OrderDate='2020-11-14', ShipperID='2', ShipDate='2020-11-20', DeliveryDate='2020-11-25', Total_order_amount='30146.0'),\n",
       " column(OrderID='7656067', CustomerID='57235', PaymentID='5', OrderDate='2020-11-15', ShipperID='2', ShipDate='2020-11-21', DeliveryDate='2020-12-08', Total_order_amount='50924.0'),\n",
       " column(OrderID='7656068', CustomerID='57171', PaymentID='4', OrderDate='2020-11-15', ShipperID='5', ShipDate='2020-11-24', DeliveryDate='2020-11-29', Total_order_amount='9687.6'),\n",
       " column(OrderID='7656069', CustomerID='57214', PaymentID='6', OrderDate='2020-11-15', ShipperID='7', ShipDate='2020-11-16', DeliveryDate='2020-12-04', Total_order_amount='29733.0'),\n",
       " column(OrderID='7656070', CustomerID='57240', PaymentID='4', OrderDate='2020-11-16', ShipperID='1', ShipDate='2020-11-24', DeliveryDate='2020-12-04', Total_order_amount='18650.7'),\n",
       " column(OrderID='7656071', CustomerID='57267', PaymentID='4', OrderDate='2020-11-16', ShipperID='8', ShipDate='2020-11-19', DeliveryDate='2020-11-20', Total_order_amount='16747.2'),\n",
       " column(OrderID='7656072', CustomerID='57218', PaymentID='4', OrderDate='2020-11-17', ShipperID='6', ShipDate='2020-11-27', DeliveryDate='2020-11-30', Total_order_amount='50754.6'),\n",
       " column(OrderID='7656073', CustomerID='57270', PaymentID='4', OrderDate='2020-11-17', ShipperID='3', ShipDate='2020-11-27', DeliveryDate='2020-12-09', Total_order_amount='5678.1'),\n",
       " column(OrderID='7656074', CustomerID='57276', PaymentID='3', OrderDate='2020-11-17', ShipperID='7', ShipDate='2020-11-22', DeliveryDate='2020-11-28', Total_order_amount='55366.0'),\n",
       " column(OrderID='7656075', CustomerID='57187', PaymentID='5', OrderDate='2020-11-17', ShipperID='2', ShipDate='2020-11-23', DeliveryDate='2020-11-27', Total_order_amount='22015.0'),\n",
       " column(OrderID='7656076', CustomerID='57203', PaymentID='4', OrderDate='2020-11-18', ShipperID='4', ShipDate='2020-11-23', DeliveryDate='2020-12-03', Total_order_amount='23298.3'),\n",
       " column(OrderID='7656077', CustomerID='57179', PaymentID='5', OrderDate='2020-11-18', ShipperID='8', ShipDate='2020-11-28', DeliveryDate='2020-12-05', Total_order_amount='40888.0'),\n",
       " column(OrderID='7656078', CustomerID='57198', PaymentID='4', OrderDate='2020-11-19', ShipperID='4', ShipDate='2020-11-22', DeliveryDate='2020-11-29', Total_order_amount='16033.5'),\n",
       " column(OrderID='7656079', CustomerID='57139', PaymentID='4', OrderDate='2020-11-20', ShipperID='5', ShipDate='2020-11-22', DeliveryDate='2020-11-26', Total_order_amount='6237.0'),\n",
       " column(OrderID='7656080', CustomerID='57278', PaymentID='3', OrderDate='2020-11-20', ShipperID='6', ShipDate='2020-11-28', DeliveryDate='2020-12-06', Total_order_amount='14025.0'),\n",
       " column(OrderID='7656081', CustomerID='57188', PaymentID='6', OrderDate='2020-11-21', ShipperID='8', ShipDate='2020-11-28', DeliveryDate='2020-12-16', Total_order_amount='13358.0'),\n",
       " column(OrderID='7656082', CustomerID='57232', PaymentID='4', OrderDate='2020-11-21', ShipperID='8', ShipDate='2020-11-26', DeliveryDate='2020-12-12', Total_order_amount='15939.0'),\n",
       " column(OrderID='7656083', CustomerID='57285', PaymentID='4', OrderDate='2020-11-21', ShipperID='5', ShipDate='2020-11-30', DeliveryDate='2020-12-20', Total_order_amount='57550.5'),\n",
       " column(OrderID='7656084', CustomerID='57092', PaymentID='4', OrderDate='2020-11-22', ShipperID='2', ShipDate='2020-11-29', DeliveryDate='2020-12-05', Total_order_amount='1386.0'),\n",
       " column(OrderID='7656085', CustomerID='57253', PaymentID='1', OrderDate='2020-11-22', ShipperID='1', ShipDate='2020-11-24', DeliveryDate='2020-12-10', Total_order_amount='23690.7'),\n",
       " column(OrderID='7656086', CustomerID='57219', PaymentID='4', OrderDate='2020-11-22', ShipperID='7', ShipDate='2020-11-26', DeliveryDate='2020-12-11', Total_order_amount='32037.3'),\n",
       " column(OrderID='7656087', CustomerID='57143', PaymentID='4', OrderDate='2020-11-23', ShipperID='6', ShipDate='2020-11-25', DeliveryDate='2020-12-04', Total_order_amount='17784.9'),\n",
       " column(OrderID='7656088', CustomerID='57140', PaymentID='4', OrderDate='2020-11-23', ShipperID='3', ShipDate='2020-11-24', DeliveryDate='2020-11-26', Total_order_amount='31208.4'),\n",
       " column(OrderID='7656089', CustomerID='57234', PaymentID='5', OrderDate='2020-11-23', ShipperID='2', ShipDate='2020-11-30', DeliveryDate='2020-12-06', Total_order_amount='5548.0'),\n",
       " column(OrderID='7656090', CustomerID='57280', PaymentID='4', OrderDate='2020-11-23', ShipperID='6', ShipDate='2020-11-29', DeliveryDate='2020-12-09', Total_order_amount='18171.9'),\n",
       " column(OrderID='7656091', CustomerID='57263', PaymentID='5', OrderDate='2020-11-24', ShipperID='5', ShipDate='2020-12-03', DeliveryDate='2020-12-09', Total_order_amount='28637.0'),\n",
       " column(OrderID='7656092', CustomerID='57173', PaymentID='4', OrderDate='2020-11-24', ShipperID='1', ShipDate='2020-11-25', DeliveryDate='2020-12-11', Total_order_amount='21774.6'),\n",
       " column(OrderID='7656093', CustomerID='57237', PaymentID='5', OrderDate='2020-11-24', ShipperID='2', ShipDate='2020-12-03', DeliveryDate='2020-12-14', Total_order_amount='2038.0'),\n",
       " column(OrderID='7656094', CustomerID='57250', PaymentID='4', OrderDate='2020-11-24', ShipperID='5', ShipDate='2020-12-04', DeliveryDate='2020-12-15', Total_order_amount='22905.0'),\n",
       " column(OrderID='7656095', CustomerID='57194', PaymentID='4', OrderDate='2020-11-24', ShipperID='8', ShipDate='2020-12-03', DeliveryDate='2020-12-18', Total_order_amount='35185.5'),\n",
       " column(OrderID='7656096', CustomerID='57213', PaymentID='4', OrderDate='2020-11-25', ShipperID='7', ShipDate='2020-12-04', DeliveryDate='2020-12-05', Total_order_amount='4410.0'),\n",
       " column(OrderID='7656097', CustomerID='57252', PaymentID='5', OrderDate='2020-11-25', ShipperID='3', ShipDate='2020-12-02', DeliveryDate='2020-12-17', Total_order_amount='18121.0'),\n",
       " column(OrderID='7656098', CustomerID='57207', PaymentID='4', OrderDate='2020-11-26', ShipperID='7', ShipDate='2020-12-06', DeliveryDate='2020-12-24', Total_order_amount='9392.4'),\n",
       " column(OrderID='7656099', CustomerID='57231', PaymentID='6', OrderDate='2020-11-26', ShipperID='5', ShipDate='2020-11-29', DeliveryDate='2020-12-04', Total_order_amount='8384.0'),\n",
       " column(OrderID='7656100', CustomerID='57256', PaymentID='4', OrderDate='2020-11-27', ShipperID='7', ShipDate='2020-11-29', DeliveryDate='2020-12-16', Total_order_amount='1918.8'),\n",
       " column(OrderID='7656101', CustomerID='57159', PaymentID='4', OrderDate='2020-11-27', ShipperID='6', ShipDate='2020-12-04', DeliveryDate='2020-12-16', Total_order_amount='12205.8'),\n",
       " column(OrderID='7656102', CustomerID='57242', PaymentID='4', OrderDate='2020-11-28', ShipperID='7', ShipDate='2020-12-02', DeliveryDate='2020-12-18', Total_order_amount='16615.8'),\n",
       " column(OrderID='7656103', CustomerID='57124', PaymentID='6', OrderDate='2020-11-28', ShipperID='5', ShipDate='2020-11-29', DeliveryDate='2020-12-08', Total_order_amount='12104.0'),\n",
       " column(OrderID='7656104', CustomerID='57255', PaymentID='4', OrderDate='2020-11-28', ShipperID='7', ShipDate='2020-11-29', DeliveryDate='2020-12-11', Total_order_amount='34075.8'),\n",
       " column(OrderID='7656105', CustomerID='57224', PaymentID='5', OrderDate='2020-11-28', ShipperID='4', ShipDate='2020-12-08', DeliveryDate='2020-12-22', Total_order_amount='35741.0'),\n",
       " column(OrderID='7656106', CustomerID='57230', PaymentID='6', OrderDate='2020-11-28', ShipperID='4', ShipDate='2020-12-06', DeliveryDate='2020-12-25', Total_order_amount='35664.0'),\n",
       " column(OrderID='7656107', CustomerID='57086', PaymentID='3', OrderDate='2020-11-29', ShipperID='8', ShipDate='2020-12-04', DeliveryDate='2020-12-20', Total_order_amount='17240.0'),\n",
       " column(OrderID='7656108', CustomerID='57205', PaymentID='6', OrderDate='2020-11-29', ShipperID='8', ShipDate='2020-12-04', DeliveryDate='2020-12-22', Total_order_amount='13872.0'),\n",
       " column(OrderID='7656109', CustomerID='57273', PaymentID='3', OrderDate='2020-11-29', ShipperID='5', ShipDate='2020-12-01', DeliveryDate='2020-12-04', Total_order_amount='5361.0'),\n",
       " column(OrderID='7656110', CustomerID='57256', PaymentID='5', OrderDate='2020-11-29', ShipperID='7', ShipDate='2020-12-02', DeliveryDate='2020-12-12', Total_order_amount='25874.0'),\n",
       " column(OrderID='7656111', CustomerID='57264', PaymentID='5', OrderDate='2020-11-29', ShipperID='6', ShipDate='2020-11-30', DeliveryDate='2020-12-20', Total_order_amount='9612.0'),\n",
       " column(OrderID='7656112', CustomerID='57259', PaymentID='4', OrderDate='2020-11-30', ShipperID='2', ShipDate='2020-12-04', DeliveryDate='2020-12-14', Total_order_amount='14400.0'),\n",
       " column(OrderID='7656113', CustomerID='57174', PaymentID='3', OrderDate='2020-11-30', ShipperID='3', ShipDate='2020-12-08', DeliveryDate='2020-12-24', Total_order_amount='29052.0'),\n",
       " column(OrderID='7656114', CustomerID='57126', PaymentID='5', OrderDate='2020-11-30', ShipperID='8', ShipDate='2020-12-07', DeliveryDate='2020-12-10', Total_order_amount='16436.0'),\n",
       " column(OrderID='7656115', CustomerID='57131', PaymentID='4', OrderDate='2020-11-30', ShipperID='4', ShipDate='2020-12-05', DeliveryDate='2020-12-13', Total_order_amount='77035.5'),\n",
       " column(OrderID='7656116', CustomerID='57273', PaymentID='3', OrderDate='2020-12-01', ShipperID='4', ShipDate='2020-12-03', DeliveryDate='2020-12-04', Total_order_amount='4640.0'),\n",
       " column(OrderID='7656117', CustomerID='57281', PaymentID='4', OrderDate='2020-12-01', ShipperID='5', ShipDate='2020-12-10', DeliveryDate='2020-12-23', Total_order_amount='16303.9'),\n",
       " column(OrderID='7656118', CustomerID='57255', PaymentID='3', OrderDate='2020-12-01', ShipperID='2', ShipDate='2020-12-11', DeliveryDate='2020-12-20', Total_order_amount='75690.0'),\n",
       " column(OrderID='7656119', CustomerID='57226', PaymentID='5', OrderDate='2020-12-02', ShipperID='3', ShipDate='2020-12-05', DeliveryDate='2020-12-07', Total_order_amount='32104.0'),\n",
       " column(OrderID='7656120', CustomerID='57258', PaymentID='4', OrderDate='2020-12-02', ShipperID='1', ShipDate='2020-12-06', DeliveryDate='2020-12-26', Total_order_amount='3205.3'),\n",
       " column(OrderID='7656121', CustomerID='57224', PaymentID='3', OrderDate='2020-12-03', ShipperID='8', ShipDate='2020-12-07', DeliveryDate='2020-12-20', Total_order_amount='9579.0'),\n",
       " column(OrderID='7656122', CustomerID='57285', PaymentID='3', OrderDate='2020-12-03', ShipperID='8', ShipDate='2020-12-06', DeliveryDate='2020-12-26', Total_order_amount='34175.0'),\n",
       " column(OrderID='7656123', CustomerID='57213', PaymentID='2', OrderDate='2020-12-03', ShipperID='4', ShipDate='2020-12-13', DeliveryDate='2020-12-14', Total_order_amount='25260.0'),\n",
       " column(OrderID='7656124', CustomerID='57218', PaymentID='6', OrderDate='2020-12-04', ShipperID='8', ShipDate='2020-12-05', DeliveryDate='2020-12-25', Total_order_amount='24690.0'),\n",
       " column(OrderID='7656125', CustomerID='57218', PaymentID='3', OrderDate='2020-12-05', ShipperID='4', ShipDate='2020-12-11', DeliveryDate='2020-12-12', Total_order_amount='23348.0'),\n",
       " column(OrderID='7656126', CustomerID='57257', PaymentID='4', OrderDate='2020-12-05', ShipperID='3', ShipDate='2020-12-09', DeliveryDate='2020-12-24', Total_order_amount='9913.25'),\n",
       " column(OrderID='7656127', CustomerID='57289', PaymentID='4', OrderDate='2020-12-05', ShipperID='7', ShipDate='2020-12-12', DeliveryDate='2020-12-17', Total_order_amount='120978.7'),\n",
       " column(OrderID='7656128', CustomerID='57180', PaymentID='6', OrderDate='2020-12-05', ShipperID='7', ShipDate='2020-12-10', DeliveryDate='2020-12-18', Total_order_amount='20050.0'),\n",
       " column(OrderID='7656129', CustomerID='57093', PaymentID='4', OrderDate='2020-12-06', ShipperID='6', ShipDate='2020-12-11', DeliveryDate='2020-12-18', Total_order_amount='15936.25'),\n",
       " column(OrderID='7656130', CustomerID='57279', PaymentID='4', OrderDate='2020-12-06', ShipperID='3', ShipDate='2020-12-15', DeliveryDate='2020-12-20', Total_order_amount='17.1'),\n",
       " column(OrderID='7656131', CustomerID='57146', PaymentID='4', OrderDate='2020-12-06', ShipperID='2', ShipDate='2020-12-12', DeliveryDate='2020-12-20', Total_order_amount='58125.75'),\n",
       " column(OrderID='7656132', CustomerID='57084', PaymentID='4', OrderDate='2020-12-07', ShipperID='6', ShipDate='2020-12-12', DeliveryDate='2020-12-25', Total_order_amount='76.0'),\n",
       " column(OrderID='7656133', CustomerID='57125', PaymentID='4', OrderDate='2020-12-08', ShipperID='5', ShipDate='2020-12-16', DeliveryDate='2021-01-04', Total_order_amount='31817.4'),\n",
       " column(OrderID='7656134', CustomerID='57243', PaymentID='4', OrderDate='2020-12-08', ShipperID='5', ShipDate='2020-12-16', DeliveryDate='2020-12-23', Total_order_amount='3115.05'),\n",
       " column(OrderID='7656135', CustomerID='57270', PaymentID='3', OrderDate='2020-12-08', ShipperID='3', ShipDate='2020-12-10', DeliveryDate='2020-12-28', Total_order_amount='21599.0'),\n",
       " column(OrderID='7656136', CustomerID='57202', PaymentID='3', OrderDate='2020-12-09', ShipperID='8', ShipDate='2020-12-16', DeliveryDate='2021-01-04', Total_order_amount='12155.0'),\n",
       " column(OrderID='7656137', CustomerID='57268', PaymentID='3', OrderDate='2020-12-09', ShipperID='1', ShipDate='2020-12-10', DeliveryDate='2020-12-25', Total_order_amount='16084.0'),\n",
       " column(OrderID='7656138', CustomerID='57099', PaymentID='5', OrderDate='2020-12-09', ShipperID='1', ShipDate='2020-12-14', DeliveryDate='2020-12-21', Total_order_amount='93624.0'),\n",
       " column(OrderID='7656139', CustomerID='57257', PaymentID='3', OrderDate='2020-12-09', ShipperID='8', ShipDate='2020-12-13', DeliveryDate='2020-12-29', Total_order_amount='10718.0'),\n",
       " column(OrderID='7656140', CustomerID='57103', PaymentID='4', OrderDate='2020-12-09', ShipperID='8', ShipDate='2020-12-11', DeliveryDate='2020-12-18', Total_order_amount='4510.6'),\n",
       " column(OrderID='7656141', CustomerID='57100', PaymentID='6', OrderDate='2020-12-09', ShipperID='8', ShipDate='2020-12-14', DeliveryDate='2020-12-24', Total_order_amount='40247.0'),\n",
       " column(OrderID='7656142', CustomerID='57100', PaymentID='4', OrderDate='2020-12-10', ShipperID='6', ShipDate='2020-12-20', DeliveryDate='2020-12-23', Total_order_amount='17490.45'),\n",
       " column(OrderID='7656143', CustomerID='57260', PaymentID='4', OrderDate='2020-12-10', ShipperID='4', ShipDate='2020-12-17', DeliveryDate='2020-12-26', Total_order_amount='1558.0'),\n",
       " column(OrderID='7656144', CustomerID='57216', PaymentID='4', OrderDate='2020-12-10', ShipperID='5', ShipDate='2020-12-13', DeliveryDate='2020-12-29', Total_order_amount='2309.45'),\n",
       " column(OrderID='7656145', CustomerID='57279', PaymentID='5', OrderDate='2020-12-11', ShipperID='3', ShipDate='2020-12-18', DeliveryDate='2020-12-19', Total_order_amount='256.0'),\n",
       " column(OrderID='7656146', CustomerID='57256', PaymentID='6', OrderDate='2020-12-12', ShipperID='6', ShipDate='2020-12-15', DeliveryDate='2020-12-21', Total_order_amount='996.0'),\n",
       " column(OrderID='7656147', CustomerID='57288', PaymentID='4', OrderDate='2020-12-12', ShipperID='4', ShipDate='2020-12-18', DeliveryDate='2020-12-30', Total_order_amount='30467.45'),\n",
       " column(OrderID='7656148', CustomerID='57200', PaymentID='4', OrderDate='2020-12-12', ShipperID='2', ShipDate='2020-12-15', DeliveryDate='2020-12-29', Total_order_amount='3610.0'),\n",
       " column(OrderID='7656149', CustomerID='57119', PaymentID='4', OrderDate='2020-12-12', ShipperID='6', ShipDate='2020-12-18', DeliveryDate='2021-01-02', Total_order_amount='37046.2'),\n",
       " column(OrderID='7656150', CustomerID='57262', PaymentID='4', OrderDate='2020-12-12', ShipperID='6', ShipDate='2020-12-17', DeliveryDate='2020-12-23', Total_order_amount='18886.95'),\n",
       " column(OrderID='7656151', CustomerID='57178', PaymentID='4', OrderDate='2020-12-12', ShipperID='6', ShipDate='2020-12-15', DeliveryDate='2020-12-28', Total_order_amount='28158.95'),\n",
       " column(OrderID='7656152', CustomerID='57186', PaymentID='4', OrderDate='2020-12-12', ShipperID='2', ShipDate='2020-12-22', DeliveryDate='2021-01-04', Total_order_amount='14828.55'),\n",
       " column(OrderID='7656153', CustomerID='57274', PaymentID='4', OrderDate='2020-12-13', ShipperID='7', ShipDate='2020-12-21', DeliveryDate='2020-12-25', Total_order_amount='12062.15'),\n",
       " column(OrderID='7656154', CustomerID='57111', PaymentID='5', OrderDate='2020-12-13', ShipperID='3', ShipDate='2020-12-15', DeliveryDate='2021-01-01', Total_order_amount='36222.0'),\n",
       " column(OrderID='7656155', CustomerID='57188', PaymentID='4', OrderDate='2020-12-13', ShipperID='8', ShipDate='2020-12-19', DeliveryDate='2021-01-01', Total_order_amount='1895.25'),\n",
       " column(OrderID='7656156', CustomerID='57262', PaymentID='4', OrderDate='2020-12-13', ShipperID='5', ShipDate='2020-12-22', DeliveryDate='2021-01-07', Total_order_amount='23534.35'),\n",
       " column(OrderID='7656157', CustomerID='57173', PaymentID='4', OrderDate='2020-12-13', ShipperID='8', ShipDate='2020-12-16', DeliveryDate='2020-12-24', Total_order_amount='81928.95'),\n",
       " column(OrderID='7656158', CustomerID='57258', PaymentID='3', OrderDate='2020-12-14', ShipperID='3', ShipDate='2020-12-18', DeliveryDate='2020-12-25', Total_order_amount='26100.0'),\n",
       " column(OrderID='7656159', CustomerID='57199', PaymentID='5', OrderDate='2020-12-14', ShipperID='1', ShipDate='2020-12-19', DeliveryDate='2021-01-01', Total_order_amount='6148.0'),\n",
       " column(OrderID='7656160', CustomerID='57247', PaymentID='4', OrderDate='2020-12-14', ShipperID='6', ShipDate='2020-12-23', DeliveryDate='2020-12-28', Total_order_amount='22105.55'),\n",
       " column(OrderID='7656161', CustomerID='57128', PaymentID='3', OrderDate='2020-12-14', ShipperID='6', ShipDate='2020-12-22', DeliveryDate='2021-01-01', Total_order_amount='23402.0'),\n",
       " column(OrderID='7656162', CustomerID='57178', PaymentID='4', OrderDate='2020-12-15', ShipperID='3', ShipDate='2020-12-16', DeliveryDate='2020-12-20', Total_order_amount='28563.65'),\n",
       " column(OrderID='7656163', CustomerID='57093', PaymentID='4', OrderDate='2020-12-15', ShipperID='3', ShipDate='2020-12-19', DeliveryDate='2020-12-21', Total_order_amount='36543.65'),\n",
       " column(OrderID='7656164', CustomerID='57121', PaymentID='5', OrderDate='2020-12-15', ShipperID='8', ShipDate='2020-12-25', DeliveryDate='2021-01-04', Total_order_amount='330.0'),\n",
       " column(OrderID='7656165', CustomerID='57089', PaymentID='4', OrderDate='2020-12-16', ShipperID='4', ShipDate='2020-12-20', DeliveryDate='2020-12-25', Total_order_amount='9224.5'),\n",
       " column(OrderID='7656166', CustomerID='57246', PaymentID='4', OrderDate='2020-12-16', ShipperID='7', ShipDate='2020-12-17', DeliveryDate='2020-12-31', Total_order_amount='2522.25'),\n",
       " column(OrderID='7656167', CustomerID='57194', PaymentID='4', OrderDate='2020-12-16', ShipperID='6', ShipDate='2020-12-26', DeliveryDate='2021-01-12', Total_order_amount='2449.1'),\n",
       " column(OrderID='7656168', CustomerID='57142', PaymentID='4', OrderDate='2020-12-16', ShipperID='2', ShipDate='2020-12-25', DeliveryDate='2021-01-06', Total_order_amount='3749.65'),\n",
       " column(OrderID='7656169', CustomerID='57235', PaymentID='3', OrderDate='2020-12-17', ShipperID='4', ShipDate='2020-12-24', DeliveryDate='2021-01-11', Total_order_amount='30041.0'),\n",
       " column(OrderID='7656170', CustomerID='57262', PaymentID='3', OrderDate='2020-12-17', ShipperID='7', ShipDate='2020-12-21', DeliveryDate='2021-01-10', Total_order_amount='10971.0'),\n",
       " column(OrderID='7656171', CustomerID='57126', PaymentID='4', OrderDate='2020-12-17', ShipperID='1', ShipDate='2020-12-27', DeliveryDate='2020-12-30', Total_order_amount='20656.8'),\n",
       " column(OrderID='7656172', CustomerID='57239', PaymentID='5', OrderDate='2020-12-17', ShipperID='2', ShipDate='2020-12-23', DeliveryDate='2021-01-06', Total_order_amount='17332.0'),\n",
       " column(OrderID='7656173', CustomerID='57246', PaymentID='5', OrderDate='2020-12-17', ShipperID='2', ShipDate='2020-12-24', DeliveryDate='2021-01-02', Total_order_amount='17733.0'),\n",
       " column(OrderID='7656174', CustomerID='57202', PaymentID='4', OrderDate='2020-12-18', ShipperID='3', ShipDate='2020-12-19', DeliveryDate='2020-12-23', Total_order_amount='12611.25'),\n",
       " column(OrderID='7656175', CustomerID='57256', PaymentID='3', OrderDate='2020-12-18', ShipperID='4', ShipDate='2020-12-22', DeliveryDate='2021-01-06', Total_order_amount='31274.0'),\n",
       " column(OrderID='7656176', CustomerID='57110', PaymentID='5', OrderDate='2020-12-18', ShipperID='2', ShipDate='2020-12-24', DeliveryDate='2021-01-04', Total_order_amount='17732.0'),\n",
       " column(OrderID='7656177', CustomerID='57148', PaymentID='3', OrderDate='2020-12-18', ShipperID='5', ShipDate='2020-12-24', DeliveryDate='2021-01-07', Total_order_amount='16588.0'),\n",
       " column(OrderID='7656178', CustomerID='57283', PaymentID='4', OrderDate='2020-12-19', ShipperID='1', ShipDate='2020-12-20', DeliveryDate='2020-12-27', Total_order_amount='8651.65'),\n",
       " column(OrderID='7656179', CustomerID='57288', PaymentID='5', OrderDate='2020-12-19', ShipperID='4', ShipDate='2020-12-21', DeliveryDate='2020-12-29', Total_order_amount='15901.0'),\n",
       " column(OrderID='7656180', CustomerID='57282', PaymentID='4', OrderDate='2020-12-19', ShipperID='7', ShipDate='2020-12-26', DeliveryDate='2020-12-29', Total_order_amount='8083.55'),\n",
       " column(OrderID='7656181', CustomerID='57178', PaymentID='5', OrderDate='2020-12-19', ShipperID='5', ShipDate='2020-12-26', DeliveryDate='2020-12-30', Total_order_amount='12131.0'),\n",
       " column(OrderID='7656182', CustomerID='57247', PaymentID='4', OrderDate='2020-12-19', ShipperID='7', ShipDate='2020-12-20', DeliveryDate='2020-12-31', Total_order_amount='22412.4'),\n",
       " column(OrderID='7656183', CustomerID='57224', PaymentID='6', OrderDate='2020-12-19', ShipperID='7', ShipDate='2020-12-20', DeliveryDate='2020-12-28', Total_order_amount='22836.0'),\n",
       " column(OrderID='7656184', CustomerID='57200', PaymentID='4', OrderDate='2020-12-20', ShipperID='5', ShipDate='2020-12-24', DeliveryDate='2020-12-31', Total_order_amount='11678.35'),\n",
       " column(OrderID='7656185', CustomerID='57082', PaymentID='6', OrderDate='2020-12-20', ShipperID='8', ShipDate='2020-12-24', DeliveryDate='2021-01-01', Total_order_amount='7314.0'),\n",
       " column(OrderID='7656186', CustomerID='57169', PaymentID='6', OrderDate='2020-12-21', ShipperID='3', ShipDate='2020-12-31', DeliveryDate='2021-01-15', Total_order_amount='3147.0'),\n",
       " column(OrderID='7656187', CustomerID='57291', PaymentID='5', OrderDate='2020-12-21', ShipperID='3', ShipDate='2020-12-23', DeliveryDate='2021-01-09', Total_order_amount='4344.0'),\n",
       " column(OrderID='7656188', CustomerID='57088', PaymentID='5', OrderDate='2020-12-21', ShipperID='5', ShipDate='2020-12-31', DeliveryDate='2021-01-03', Total_order_amount='800.0'),\n",
       " column(OrderID='7656189', CustomerID='57286', PaymentID='4', OrderDate='2020-12-21', ShipperID='8', ShipDate='2020-12-29', DeliveryDate='2021-01-07', Total_order_amount='41121.7'),\n",
       " column(OrderID='7656190', CustomerID='57253', PaymentID='4', OrderDate='2020-12-22', ShipperID='2', ShipDate='2020-12-31', DeliveryDate='2021-01-11', Total_order_amount='25085.7'),\n",
       " column(OrderID='7656191', CustomerID='57233', PaymentID='6', OrderDate='2020-12-22', ShipperID='2', ShipDate='2020-12-24', DeliveryDate='2021-01-01', Total_order_amount='30105.0'),\n",
       " column(OrderID='7656192', CustomerID='57233', PaymentID='4', OrderDate='2020-12-22', ShipperID='1', ShipDate='2020-12-30', DeliveryDate='2021-01-11', Total_order_amount='6023.95'),\n",
       " column(OrderID='7656193', CustomerID='57151', PaymentID='4', OrderDate='2020-12-23', ShipperID='3', ShipDate='2020-12-24', DeliveryDate='2020-12-25', Total_order_amount='3274.65'),\n",
       " column(OrderID='7656194', CustomerID='57234', PaymentID='4', OrderDate='2020-12-23', ShipperID='2', ShipDate='2020-12-31', DeliveryDate='2021-01-14', Total_order_amount='38985.15'),\n",
       " column(OrderID='7656195', CustomerID='57192', PaymentID='3', OrderDate='2020-12-23', ShipperID='6', ShipDate='2020-12-24', DeliveryDate='2021-01-03', Total_order_amount='14268.0'),\n",
       " column(OrderID='7656196', CustomerID='57220', PaymentID='4', OrderDate='2020-12-24', ShipperID='2', ShipDate='2020-12-28', DeliveryDate='2021-01-01', Total_order_amount='13064.4'),\n",
       " column(OrderID='7656197', CustomerID='57295', PaymentID='4', OrderDate='2020-12-24', ShipperID='4', ShipDate='2020-12-28', DeliveryDate='2020-12-31', Total_order_amount='7322.6'),\n",
       " column(OrderID='7656198', CustomerID='57208', PaymentID='4', OrderDate='2020-12-25', ShipperID='3', ShipDate='2020-12-29', DeliveryDate='2021-01-04', Total_order_amount='4091.65'),\n",
       " column(OrderID='7656199', CustomerID='57129', PaymentID='6', OrderDate='2020-12-25', ShipperID='3', ShipDate='2020-12-26', DeliveryDate='2020-12-28', Total_order_amount='20537.0'),\n",
       " column(OrderID='7656200', CustomerID='57114', PaymentID='2', OrderDate='2020-12-25', ShipperID='1', ShipDate='2020-12-31', DeliveryDate='2021-01-06', Total_order_amount='5879.0'),\n",
       " column(OrderID='7656201', CustomerID='57268', PaymentID='6', OrderDate='2020-12-25', ShipperID='5', ShipDate='2021-01-03', DeliveryDate='2021-01-13', Total_order_amount='33939.0'),\n",
       " column(OrderID='7656202', CustomerID='57243', PaymentID='5', OrderDate='2020-12-26', ShipperID='3', ShipDate='2021-01-05', DeliveryDate='2021-01-23', Total_order_amount='5620.0'),\n",
       " column(OrderID='7656203', CustomerID='57127', PaymentID='4', OrderDate='2020-12-27', ShipperID='3', ShipDate='2021-01-06', DeliveryDate='2021-01-08', Total_order_amount='852.15'),\n",
       " column(OrderID='7656204', CustomerID='57262', PaymentID='4', OrderDate='2020-12-27', ShipperID='7', ShipDate='2021-01-06', DeliveryDate='2021-01-26', Total_order_amount='52.25'),\n",
       " column(OrderID='7656205', CustomerID='57187', PaymentID='4', OrderDate='2020-12-27', ShipperID='3', ShipDate='2020-12-29', DeliveryDate='2021-01-12', Total_order_amount='5305.75'),\n",
       " column(OrderID='7656206', CustomerID='57134', PaymentID='3', OrderDate='2020-12-28', ShipperID='4', ShipDate='2021-01-04', DeliveryDate='2021-01-10', Total_order_amount='5584.0'),\n",
       " column(OrderID='7656207', CustomerID='57111', PaymentID='4', OrderDate='2020-12-28', ShipperID='7', ShipDate='2021-01-02', DeliveryDate='2021-01-08', Total_order_amount='14791.5'),\n",
       " column(OrderID='7656208', CustomerID='57296', PaymentID='4', OrderDate='2020-12-28', ShipperID='3', ShipDate='2020-12-29', DeliveryDate='2021-01-09', Total_order_amount='23268.35'),\n",
       " column(OrderID='7656209', CustomerID='57212', PaymentID='4', OrderDate='2020-12-28', ShipperID='7', ShipDate='2020-12-29', DeliveryDate='2021-01-13', Total_order_amount='13928.9'),\n",
       " column(OrderID='7656210', CustomerID='57128', PaymentID='5', OrderDate='2020-12-28', ShipperID='7', ShipDate='2020-12-29', DeliveryDate='2021-01-14', Total_order_amount='29568.0'),\n",
       " column(OrderID='7656211', CustomerID='57288', PaymentID='5', OrderDate='2020-12-29', ShipperID='5', ShipDate='2021-01-05', DeliveryDate='2021-01-21', Total_order_amount='20010.0'),\n",
       " column(OrderID='7656212', CustomerID='57241', PaymentID='6', OrderDate='2020-12-29', ShipperID='5', ShipDate='2020-12-31', DeliveryDate='2021-01-17', Total_order_amount='480.0'),\n",
       " column(OrderID='7656213', CustomerID='57212', PaymentID='3', OrderDate='2020-12-29', ShipperID='1', ShipDate='2021-01-05', DeliveryDate='2021-01-23', Total_order_amount='20565.0'),\n",
       " column(OrderID='7656214', CustomerID='57115', PaymentID='4', OrderDate='2020-12-29', ShipperID='8', ShipDate='2021-01-04', DeliveryDate='2021-01-16', Total_order_amount='3047.6'),\n",
       " column(OrderID='7656215', CustomerID='57154', PaymentID='4', OrderDate='2020-12-29', ShipperID='5', ShipDate='2021-01-04', DeliveryDate='2021-01-24', Total_order_amount='27638.35'),\n",
       " column(OrderID='7656216', CustomerID='57189', PaymentID='4', OrderDate='2020-12-29', ShipperID='7', ShipDate='2020-12-30', DeliveryDate='2021-01-19', Total_order_amount='21099.5'),\n",
       " column(OrderID='7656217', CustomerID='57289', PaymentID='3', OrderDate='2020-12-30', ShipperID='8', ShipDate='2021-01-07', DeliveryDate='2021-01-19', Total_order_amount='27880.0'),\n",
       " column(OrderID='7656218', CustomerID='57228', PaymentID='4', OrderDate='2020-12-30', ShipperID='5', ShipDate='2021-01-05', DeliveryDate='2021-01-24', Total_order_amount='29516.5'),\n",
       " column(OrderID='7656219', CustomerID='57102', PaymentID='2', OrderDate='2020-12-30', ShipperID='2', ShipDate='2021-01-02', DeliveryDate='2021-01-13', Total_order_amount='16290.0'),\n",
       " column(OrderID='7656220', CustomerID='57296', PaymentID='3', OrderDate='2020-12-31', ShipperID='5', ShipDate='2021-01-02', DeliveryDate='2021-01-03', Total_order_amount='12412.0'),\n",
       " column(OrderID='7656221', CustomerID='57230', PaymentID='3', OrderDate='2020-12-31', ShipperID='5', ShipDate='2021-01-07', DeliveryDate='2021-01-10', Total_order_amount='5979.0'),\n",
       " column(OrderID='7656222', CustomerID='57197', PaymentID='6', OrderDate='2020-12-31', ShipperID='1', ShipDate='2021-01-02', DeliveryDate='2021-01-14', Total_order_amount='118322.0'),\n",
       " column(OrderID='7656223', CustomerID='57127', PaymentID='4', OrderDate='2020-12-31', ShipperID='5', ShipDate='2021-01-05', DeliveryDate='2021-01-12', Total_order_amount='72113.55'),\n",
       " column(OrderID='7656224', CustomerID='57230', PaymentID='4', OrderDate='2020-12-31', ShipperID='1', ShipDate='2021-01-05', DeliveryDate='2021-01-08', Total_order_amount='17712.75'),\n",
       " column(OrderID='7656225', CustomerID='57137', PaymentID='4', OrderDate='2021-01-01', ShipperID='6', ShipDate='2021-01-07', DeliveryDate='2021-01-18', Total_order_amount='52788.65'),\n",
       " column(OrderID='7656226', CustomerID='57127', PaymentID='4', OrderDate='2021-01-01', ShipperID='2', ShipDate='2021-01-08', DeliveryDate='2021-01-22', Total_order_amount='36042.05'),\n",
       " column(OrderID='7656227', CustomerID='57199', PaymentID='1', OrderDate='2021-01-01', ShipperID='6', ShipDate='2021-01-02', DeliveryDate='2021-01-13', Total_order_amount='4200.0'),\n",
       " column(OrderID='7656228', CustomerID='57280', PaymentID='4', OrderDate='2021-01-01', ShipperID='2', ShipDate='2021-01-07', DeliveryDate='2021-01-25', Total_order_amount='3077.05'),\n",
       " column(OrderID='7656229', CustomerID='57259', PaymentID='5', OrderDate='2021-01-01', ShipperID='4', ShipDate='2021-01-09', DeliveryDate='2021-01-29', Total_order_amount='12383.0'),\n",
       " column(OrderID='7656230', CustomerID='57242', PaymentID='4', OrderDate='2021-01-02', ShipperID='4', ShipDate='2021-01-04', DeliveryDate='2021-01-19', Total_order_amount='7324.5'),\n",
       " column(OrderID='7656231', CustomerID='57207', PaymentID='4', OrderDate='2021-01-02', ShipperID='2', ShipDate='2021-01-04', DeliveryDate='2021-01-24', Total_order_amount='16078.75'),\n",
       " column(OrderID='7656232', CustomerID='57103', PaymentID='6', OrderDate='2021-01-02', ShipperID='7', ShipDate='2021-01-05', DeliveryDate='2021-01-24', Total_order_amount='8614.0'),\n",
       " column(OrderID='7656233', CustomerID='57095', PaymentID='4', OrderDate='2021-01-02', ShipperID='6', ShipDate='2021-01-04', DeliveryDate='2021-01-08', Total_order_amount='2568.8'),\n",
       " column(OrderID='7656234', CustomerID='57258', PaymentID='4', OrderDate='2021-01-03', ShipperID='4', ShipDate='2021-01-05', DeliveryDate='2021-01-16', Total_order_amount='16012.25'),\n",
       " column(OrderID='7656235', CustomerID='57195', PaymentID='6', OrderDate='2021-01-03', ShipperID='4', ShipDate='2021-01-11', DeliveryDate='2021-01-26', Total_order_amount='5186.0'),\n",
       " column(OrderID='7656236', CustomerID='57209', PaymentID='3', OrderDate='2021-01-04', ShipperID='4', ShipDate='2021-01-12', DeliveryDate='2021-01-26', Total_order_amount='2450.0'),\n",
       " column(OrderID='7656237', CustomerID='57264', PaymentID='4', OrderDate='2021-01-04', ShipperID='8', ShipDate='2021-01-07', DeliveryDate='2021-01-13', Total_order_amount='30989.95'),\n",
       " column(OrderID='7656238', CustomerID='57294', PaymentID='3', OrderDate='2021-01-04', ShipperID='1', ShipDate='2021-01-14', DeliveryDate='2021-01-31', Total_order_amount='4853.0'),\n",
       " column(OrderID='7656239', CustomerID='57235', PaymentID='5', OrderDate='2021-01-04', ShipperID='6', ShipDate='2021-01-14', DeliveryDate='2021-01-19', Total_order_amount='2494.0'),\n",
       " column(OrderID='7656240', CustomerID='57296', PaymentID='6', OrderDate='2021-01-05', ShipperID='8', ShipDate='2021-01-10', DeliveryDate='2021-01-19', Total_order_amount='1052.0'),\n",
       " column(OrderID='7656241', CustomerID='57292', PaymentID='3', OrderDate='2021-01-05', ShipperID='6', ShipDate='2021-01-07', DeliveryDate='2021-01-27', Total_order_amount='17337.0'),\n",
       " column(OrderID='7656242', CustomerID='57227', PaymentID='4', OrderDate='2021-01-05', ShipperID='8', ShipDate='2021-01-11', DeliveryDate='2021-01-13', Total_order_amount='27585.15'),\n",
       " column(OrderID='7656243', CustomerID='57173', PaymentID='4', OrderDate='2021-01-05', ShipperID='6', ShipDate='2021-01-15', DeliveryDate='2021-02-02', Total_order_amount='43444.45'),\n",
       " column(OrderID='7656244', CustomerID='57208', PaymentID='1', OrderDate='2021-01-06', ShipperID='5', ShipDate='2021-01-08', DeliveryDate='2021-01-22', Total_order_amount='16476.0'),\n",
       " column(OrderID='7656245', CustomerID='57145', PaymentID='4', OrderDate='2021-01-06', ShipperID='7', ShipDate='2021-01-12', DeliveryDate='2021-01-18', Total_order_amount='19228.95'),\n",
       " column(OrderID='7656246', CustomerID='57136', PaymentID='4', OrderDate='2021-01-06', ShipperID='2', ShipDate='2021-01-11', DeliveryDate='2021-01-27', Total_order_amount='11776.2'),\n",
       " column(OrderID='7656247', CustomerID='57097', PaymentID='4', OrderDate='2021-01-06', ShipperID='3', ShipDate='2021-01-13', DeliveryDate='2021-01-29', Total_order_amount='16016.05'),\n",
       " column(OrderID='7656248', CustomerID='57116', PaymentID='4', OrderDate='2021-01-06', ShipperID='5', ShipDate='2021-01-14', DeliveryDate='2021-01-22', Total_order_amount='34272.2'),\n",
       " column(OrderID='7656249', CustomerID='57247', PaymentID='4', OrderDate='2021-01-07', ShipperID='2', ShipDate='2021-01-11', DeliveryDate='2021-01-26', Total_order_amount='11685.0'),\n",
       " column(OrderID='7656250', CustomerID='57304', PaymentID='5', OrderDate='2021-01-07', ShipperID='6', ShipDate='2021-01-15', DeliveryDate='2021-01-22', Total_order_amount='12957.0'),\n",
       " column(OrderID='7656251', CustomerID='57197', PaymentID='4', OrderDate='2021-01-08', ShipperID='8', ShipDate='2021-01-17', DeliveryDate='2021-01-22', Total_order_amount='68696.4'),\n",
       " column(OrderID='7656252', CustomerID='57184', PaymentID='4', OrderDate='2021-01-08', ShipperID='2', ShipDate='2021-01-16', DeliveryDate='2021-01-21', Total_order_amount='440.8'),\n",
       " column(OrderID='7656253', CustomerID='57290', PaymentID='6', OrderDate='2021-01-08', ShipperID='4', ShipDate='2021-01-14', DeliveryDate='2021-01-16', Total_order_amount='21876.0'),\n",
       " column(OrderID='7656254', CustomerID='57200', PaymentID='3', OrderDate='2021-01-08', ShipperID='3', ShipDate='2021-01-15', DeliveryDate='2021-02-02', Total_order_amount='58724.0'),\n",
       " column(OrderID='7656255', CustomerID='57129', PaymentID='6', OrderDate='2021-01-09', ShipperID='8', ShipDate='2021-01-13', DeliveryDate='2021-01-31', Total_order_amount='20353.0'),\n",
       " column(OrderID='7656256', CustomerID='57088', PaymentID='3', OrderDate='2021-01-09', ShipperID='6', ShipDate='2021-01-17', DeliveryDate='2021-02-06', Total_order_amount='17933.0'),\n",
       " column(OrderID='7656257', CustomerID='57201', PaymentID='4', OrderDate='2021-01-09', ShipperID='3', ShipDate='2021-01-18', DeliveryDate='2021-02-02', Total_order_amount='10621.95'),\n",
       " column(OrderID='7656258', CustomerID='57211', PaymentID='4', OrderDate='2021-01-09', ShipperID='1', ShipDate='2021-01-11', DeliveryDate='2021-01-28', Total_order_amount='38969.0'),\n",
       " column(OrderID='7656259', CustomerID='57284', PaymentID='4', OrderDate='2021-01-09', ShipperID='8', ShipDate='2021-01-12', DeliveryDate='2021-01-18', Total_order_amount='2825.3'),\n",
       " column(OrderID='7656260', CustomerID='57187', PaymentID='4', OrderDate='2021-01-10', ShipperID='2', ShipDate='2021-01-16', DeliveryDate='2021-01-27', Total_order_amount='10664.7'),\n",
       " column(OrderID='7656261', CustomerID='57288', PaymentID='3', OrderDate='2021-01-10', ShipperID='4', ShipDate='2021-01-14', DeliveryDate='2021-01-31', Total_order_amount='51050.0'),\n",
       " column(OrderID='7656262', CustomerID='57091', PaymentID='4', OrderDate='2021-01-11', ShipperID='7', ShipDate='2021-01-16', DeliveryDate='2021-01-26', Total_order_amount='5510.0'),\n",
       " column(OrderID='7656263', CustomerID='57234', PaymentID='3', OrderDate='2021-01-11', ShipperID='2', ShipDate='2021-01-12', DeliveryDate='2021-02-01', Total_order_amount='16499.0'),\n",
       " column(OrderID='7656264', CustomerID='57194', PaymentID='5', OrderDate='2021-01-11', ShipperID='7', ShipDate='2021-01-21', DeliveryDate='2021-02-07', Total_order_amount='30125.0'),\n",
       " column(OrderID='7656265', CustomerID='57289', PaymentID='4', OrderDate='2021-01-11', ShipperID='3', ShipDate='2021-01-20', DeliveryDate='2021-01-25', Total_order_amount='37849.9'),\n",
       " column(OrderID='7656266', CustomerID='57265', PaymentID='4', OrderDate='2021-01-11', ShipperID='7', ShipDate='2021-01-12', DeliveryDate='2021-01-14', Total_order_amount='21253.4'),\n",
       " column(OrderID='7656267', CustomerID='57131', PaymentID='3', OrderDate='2021-01-11', ShipperID='7', ShipDate='2021-01-20', DeliveryDate='2021-01-28', Total_order_amount='13852.0'),\n",
       " column(OrderID='7656268', CustomerID='57306', PaymentID='6', OrderDate='2021-01-11', ShipperID='3', ShipDate='2021-01-20', DeliveryDate='2021-01-31', Total_order_amount='14994.0'),\n",
       " column(OrderID='7656269', CustomerID='57197', PaymentID='6', OrderDate='2021-01-11', ShipperID='8', ShipDate='2021-01-15', DeliveryDate='2021-02-04', Total_order_amount='15309.0'),\n",
       " column(OrderID='7656270', CustomerID='57283', PaymentID='4', OrderDate='2021-01-11', ShipperID='7', ShipDate='2021-01-19', DeliveryDate='2021-02-01', Total_order_amount='9731.8'),\n",
       " column(OrderID='7656271', CustomerID='57277', PaymentID='5', OrderDate='2021-01-11', ShipperID='4', ShipDate='2021-01-18', DeliveryDate='2021-01-30', Total_order_amount='16547.0'),\n",
       " column(OrderID='7656272', CustomerID='57295', PaymentID='6', OrderDate='2021-01-12', ShipperID='6', ShipDate='2021-01-16', DeliveryDate='2021-01-18', Total_order_amount='21499.0'),\n",
       " column(OrderID='7656273', CustomerID='57217', PaymentID='6', OrderDate='2021-01-12', ShipperID='7', ShipDate='2021-01-17', DeliveryDate='2021-01-25', Total_order_amount='23680.0'),\n",
       " column(OrderID='7656274', CustomerID='57142', PaymentID='3', OrderDate='2021-01-13', ShipperID='6', ShipDate='2021-01-17', DeliveryDate='2021-01-25', Total_order_amount='33186.0'),\n",
       " column(OrderID='7656275', CustomerID='57223', PaymentID='3', OrderDate='2021-01-13', ShipperID='7', ShipDate='2021-01-22', DeliveryDate='2021-01-31', Total_order_amount='28611.0'),\n",
       " column(OrderID='7656276', CustomerID='57302', PaymentID='4', OrderDate='2021-01-13', ShipperID='4', ShipDate='2021-01-19', DeliveryDate='2021-02-06', Total_order_amount='4086.9'),\n",
       " column(OrderID='7656277', CustomerID='57120', PaymentID='4', OrderDate='2021-01-13', ShipperID='4', ShipDate='2021-01-22', DeliveryDate='2021-02-01', Total_order_amount='33412.45'),\n",
       " column(OrderID='7656278', CustomerID='57161', PaymentID='6', OrderDate='2021-01-13', ShipperID='6', ShipDate='2021-01-14', DeliveryDate='2021-01-20', Total_order_amount='6424.0'),\n",
       " column(OrderID='7656279', CustomerID='57250', PaymentID='2', OrderDate='2021-01-13', ShipperID='6', ShipDate='2021-01-21', DeliveryDate='2021-01-25', Total_order_amount='6166.0'),\n",
       " column(OrderID='7656280', CustomerID='57200', PaymentID='5', OrderDate='2021-01-14', ShipperID='4', ShipDate='2021-01-16', DeliveryDate='2021-01-25', Total_order_amount='4993.0'),\n",
       " column(OrderID='7656281', CustomerID='57248', PaymentID='4', OrderDate='2021-01-14', ShipperID='1', ShipDate='2021-01-18', DeliveryDate='2021-01-31', Total_order_amount='6038.2'),\n",
       " column(OrderID='7656282', CustomerID='57306', PaymentID='4', OrderDate='2021-01-14', ShipperID='1', ShipDate='2021-01-24', DeliveryDate='2021-01-29', Total_order_amount='30812.3'),\n",
       " column(OrderID='7656283', CustomerID='57274', PaymentID='4', OrderDate='2021-01-14', ShipperID='8', ShipDate='2021-01-20', DeliveryDate='2021-01-24', Total_order_amount='19057.95'),\n",
       " column(OrderID='7656284', CustomerID='57148', PaymentID='4', OrderDate='2021-01-14', ShipperID='2', ShipDate='2021-01-15', DeliveryDate='2021-01-20', Total_order_amount='2310.4'),\n",
       " column(OrderID='7656285', CustomerID='57303', PaymentID='2', OrderDate='2021-01-14', ShipperID='6', ShipDate='2021-01-18', DeliveryDate='2021-01-25', Total_order_amount='2040.0'),\n",
       " column(OrderID='7656286', CustomerID='57182', PaymentID='6', OrderDate='2021-01-15', ShipperID='6', ShipDate='2021-01-17', DeliveryDate='2021-01-24', Total_order_amount='2449.0'),\n",
       " column(OrderID='7656287', CustomerID='57257', PaymentID='4', OrderDate='2021-01-15', ShipperID='3', ShipDate='2021-01-24', DeliveryDate='2021-01-29', Total_order_amount='33705.05'),\n",
       " column(OrderID='7656288', CustomerID='57255', PaymentID='4', OrderDate='2021-01-15', ShipperID='4', ShipDate='2021-01-22', DeliveryDate='2021-02-02', Total_order_amount='30342.05'),\n",
       " column(OrderID='7656289', CustomerID='57104', PaymentID='3', OrderDate='2021-01-16', ShipperID='5', ShipDate='2021-01-24', DeliveryDate='2021-02-07', Total_order_amount='29822.0'),\n",
       " column(OrderID='7656290', CustomerID='57083', PaymentID='4', OrderDate='2021-01-17', ShipperID='5', ShipDate='2021-01-26', DeliveryDate='2021-02-10', Total_order_amount='28329.0'),\n",
       " column(OrderID='7656291', CustomerID='57304', PaymentID='3', OrderDate='2021-01-17', ShipperID='5', ShipDate='2021-01-24', DeliveryDate='2021-02-06', Total_order_amount='8273.0'),\n",
       " column(OrderID='7656292', CustomerID='57218', PaymentID='4', OrderDate='2021-01-17', ShipperID='5', ShipDate='2021-01-18', DeliveryDate='2021-02-01', Total_order_amount='21040.6'),\n",
       " column(OrderID='7656293', CustomerID='57135', PaymentID='3', OrderDate='2021-01-18', ShipperID='6', ShipDate='2021-01-24', DeliveryDate='2021-01-25', Total_order_amount='27569.0'),\n",
       " column(OrderID='7656294', CustomerID='57251', PaymentID='3', OrderDate='2021-01-18', ShipperID='3', ShipDate='2021-01-23', DeliveryDate='2021-01-25', Total_order_amount='15666.0'),\n",
       " column(OrderID='7656295', CustomerID='57184', PaymentID='4', OrderDate='2021-01-18', ShipperID='8', ShipDate='2021-01-25', DeliveryDate='2021-02-06', Total_order_amount='6246.25'),\n",
       " column(OrderID='7656296', CustomerID='57288', PaymentID='4', OrderDate='2021-01-18', ShipperID='1', ShipDate='2021-01-23', DeliveryDate='2021-02-11', Total_order_amount='20114.35'),\n",
       " column(OrderID='7656297', CustomerID='57158', PaymentID='3', OrderDate='2021-01-19', ShipperID='3', ShipDate='2021-01-26', DeliveryDate='2021-02-07', Total_order_amount='5626.0'),\n",
       " column(OrderID='7656298', CustomerID='57219', PaymentID='4', OrderDate='2021-01-19', ShipperID='6', ShipDate='2021-01-20', DeliveryDate='2021-02-06', Total_order_amount='10957.3'),\n",
       " column(OrderID='7656299', CustomerID='57249', PaymentID='3', OrderDate='2021-01-19', ShipperID='3', ShipDate='2021-01-27', DeliveryDate='2021-01-28', Total_order_amount='23382.0'),\n",
       " column(OrderID='7656300', CustomerID='57314', PaymentID='4', OrderDate='2021-01-19', ShipperID='8', ShipDate='2021-01-21', DeliveryDate='2021-02-07', Total_order_amount='5690.5'),\n",
       " column(OrderID='7656301', CustomerID='57235', PaymentID='6', OrderDate='2021-01-19', ShipperID='6', ShipDate='2021-01-25', DeliveryDate='2021-02-10', Total_order_amount='13752.0'),\n",
       " column(OrderID='7656302', CustomerID='57319', PaymentID='4', OrderDate='2021-01-19', ShipperID='4', ShipDate='2021-01-23', DeliveryDate='2021-02-05', Total_order_amount='8145.3'),\n",
       " column(OrderID='7656303', CustomerID='57222', PaymentID='4', OrderDate='2021-01-19', ShipperID='6', ShipDate='2021-01-22', DeliveryDate='2021-02-08', Total_order_amount='31448.8'),\n",
       " column(OrderID='7656304', CustomerID='57305', PaymentID='3', OrderDate='2021-01-20', ShipperID='6', ShipDate='2021-01-24', DeliveryDate='2021-02-10', Total_order_amount='43075.0'),\n",
       " column(OrderID='7656305', CustomerID='57264', PaymentID='4', OrderDate='2021-01-20', ShipperID='8', ShipDate='2021-01-27', DeliveryDate='2021-02-10', Total_order_amount='21411.1'),\n",
       " column(OrderID='7656306', CustomerID='57307', PaymentID='4', OrderDate='2021-01-20', ShipperID='8', ShipDate='2021-01-30', DeliveryDate='2021-02-09', Total_order_amount='71030.55'),\n",
       " column(OrderID='7656307', CustomerID='57184', PaymentID='3', OrderDate='2021-01-20', ShipperID='8', ShipDate='2021-01-29', DeliveryDate='2021-02-18', Total_order_amount='13367.0'),\n",
       " column(OrderID='7656308', CustomerID='57273', PaymentID='4', OrderDate='2021-01-20', ShipperID='8', ShipDate='2021-01-25', DeliveryDate='2021-01-31', Total_order_amount='15928.65'),\n",
       " column(OrderID='7656309', CustomerID='57326', PaymentID='4', OrderDate='2021-01-20', ShipperID='8', ShipDate='2021-01-24', DeliveryDate='2021-02-02', Total_order_amount='18056.65'),\n",
       " column(OrderID='7656310', CustomerID='57298', PaymentID='5', OrderDate='2021-01-21', ShipperID='1', ShipDate='2021-01-23', DeliveryDate='2021-02-10', Total_order_amount='30839.0'),\n",
       " column(OrderID='7656311', CustomerID='57155', PaymentID='4', OrderDate='2021-01-21', ShipperID='5', ShipDate='2021-01-25', DeliveryDate='2021-02-01', Total_order_amount='27125.35'),\n",
       " column(OrderID='7656312', CustomerID='57282', PaymentID='4', OrderDate='2021-01-21', ShipperID='8', ShipDate='2021-01-24', DeliveryDate='2021-02-09', Total_order_amount='15944.8'),\n",
       " column(OrderID='7656313', CustomerID='57313', PaymentID='4', OrderDate='2021-01-21', ShipperID='8', ShipDate='2021-01-22', DeliveryDate='2021-02-09', Total_order_amount='8188.05'),\n",
       " column(OrderID='7656314', CustomerID='57326', PaymentID='5', OrderDate='2021-01-22', ShipperID='1', ShipDate='2021-01-25', DeliveryDate='2021-01-31', Total_order_amount='26558.0'),\n",
       " column(OrderID='7656315', CustomerID='57186', PaymentID='3', OrderDate='2021-01-22', ShipperID='8', ShipDate='2021-01-27', DeliveryDate='2021-02-08', Total_order_amount='56096.0'),\n",
       " column(OrderID='7656316', CustomerID='57321', PaymentID='5', OrderDate='2021-01-22', ShipperID='4', ShipDate='2021-01-28', DeliveryDate='2021-01-30', Total_order_amount='26631.0'),\n",
       " column(OrderID='7656317', CustomerID='57316', PaymentID='3', OrderDate='2021-01-22', ShipperID='5', ShipDate='2021-02-01', DeliveryDate='2021-02-18', Total_order_amount='22334.0'),\n",
       " column(OrderID='7656318', CustomerID='57286', PaymentID='4', OrderDate='2021-01-22', ShipperID='2', ShipDate='2021-01-29', DeliveryDate='2021-02-10', Total_order_amount='142.5'),\n",
       " column(OrderID='7656319', CustomerID='57201', PaymentID='5', OrderDate='2021-01-22', ShipperID='5', ShipDate='2021-01-29', DeliveryDate='2021-02-04', Total_order_amount='3156.0'),\n",
       " column(OrderID='7656320', CustomerID='57084', PaymentID='6', OrderDate='2021-01-23', ShipperID='3', ShipDate='2021-01-30', DeliveryDate='2021-02-18', Total_order_amount='108993.0'),\n",
       " column(OrderID='7656321', CustomerID='57331', PaymentID='4', OrderDate='2021-01-23', ShipperID='5', ShipDate='2021-01-29', DeliveryDate='2021-02-16', Total_order_amount='11932.0'),\n",
       " column(OrderID='7656322', CustomerID='57111', PaymentID='5', OrderDate='2021-01-23', ShipperID='8', ShipDate='2021-01-24', DeliveryDate='2021-01-28', Total_order_amount='5778.0'),\n",
       " column(OrderID='7656323', CustomerID='57187', PaymentID='4', OrderDate='2021-01-23', ShipperID='2', ShipDate='2021-01-31', DeliveryDate='2021-02-04', Total_order_amount='32314.25'),\n",
       " column(OrderID='7656324', CustomerID='57264', PaymentID='4', OrderDate='2021-01-24', ShipperID='2', ShipDate='2021-02-02', DeliveryDate='2021-02-04', Total_order_amount='2128.95'),\n",
       " column(OrderID='7656325', CustomerID='57160', PaymentID='4', OrderDate='2021-01-24', ShipperID='2', ShipDate='2021-01-25', DeliveryDate='2021-02-01', Total_order_amount='5187.0'),\n",
       " column(OrderID='7656326', CustomerID='57328', PaymentID='3', OrderDate='2021-01-24', ShipperID='8', ShipDate='2021-01-27', DeliveryDate='2021-02-01', Total_order_amount='12308.0'),\n",
       " column(OrderID='7656327', CustomerID='57170', PaymentID='4', OrderDate='2021-01-24', ShipperID='2', ShipDate='2021-01-27', DeliveryDate='2021-02-08', Total_order_amount='2599.2'),\n",
       " column(OrderID='7656328', CustomerID='57211', PaymentID='4', OrderDate='2021-01-24', ShipperID='5', ShipDate='2021-02-03', DeliveryDate='2021-02-15', Total_order_amount='26581.0'),\n",
       " column(OrderID='7656329', CustomerID='57318', PaymentID='2', OrderDate='2021-01-25', ShipperID='6', ShipDate='2021-02-04', DeliveryDate='2021-02-17', Total_order_amount='5670.0'),\n",
       " column(OrderID='7656330', CustomerID='57308', PaymentID='3', OrderDate='2021-01-25', ShipperID='5', ShipDate='2021-01-29', DeliveryDate='2021-02-12', Total_order_amount='16355.0'),\n",
       " column(OrderID='7656331', CustomerID='57291', PaymentID='6', OrderDate='2021-01-26', ShipperID='1', ShipDate='2021-01-29', DeliveryDate='2021-02-10', Total_order_amount='38211.0'),\n",
       " column(OrderID='7656332', CustomerID='57288', PaymentID='1', OrderDate='2021-01-26', ShipperID='2', ShipDate='2021-02-05', DeliveryDate='2021-02-24', Total_order_amount='38629.0'),\n",
       " column(OrderID='7656333', CustomerID='57166', PaymentID='6', OrderDate='2021-01-26', ShipperID='3', ShipDate='2021-01-28', DeliveryDate='2021-01-31', Total_order_amount='3482.0'),\n",
       " column(OrderID='7656334', CustomerID='57281', PaymentID='4', OrderDate='2021-01-26', ShipperID='5', ShipDate='2021-02-04', DeliveryDate='2021-02-15', Total_order_amount='8141.5'),\n",
       " column(OrderID='7656335', CustomerID='57233', PaymentID='3', OrderDate='2021-01-26', ShipperID='8', ShipDate='2021-01-28', DeliveryDate='2021-02-16', Total_order_amount='18009.0'),\n",
       " column(OrderID='7656336', CustomerID='57179', PaymentID='3', OrderDate='2021-01-26', ShipperID='6', ShipDate='2021-02-01', DeliveryDate='2021-02-12', Total_order_amount='19758.0'),\n",
       " column(OrderID='7656337', CustomerID='57136', PaymentID='3', OrderDate='2021-01-26', ShipperID='1', ShipDate='2021-01-31', DeliveryDate='2021-02-12', Total_order_amount='20941.0'),\n",
       " column(OrderID='7656338', CustomerID='57084', PaymentID='6', OrderDate='2021-01-26', ShipperID='2', ShipDate='2021-01-28', DeliveryDate='2021-02-08', Total_order_amount='1370.0'),\n",
       " column(OrderID='7656339', CustomerID='57215', PaymentID='5', OrderDate='2021-01-27', ShipperID='1', ShipDate='2021-02-04', DeliveryDate='2021-02-13', Total_order_amount='50952.0'),\n",
       " column(OrderID='7656340', CustomerID='57311', PaymentID='4', OrderDate='2021-01-27', ShipperID='6', ShipDate='2021-01-30', DeliveryDate='2021-02-17', Total_order_amount='3633.75'),\n",
       " column(OrderID='7656341', CustomerID='57325', PaymentID='3', OrderDate='2021-01-27', ShipperID='2', ShipDate='2021-02-02', DeliveryDate='2021-02-14', Total_order_amount='8540.0'),\n",
       " column(OrderID='7656342', CustomerID='57141', PaymentID='4', OrderDate='2021-01-27', ShipperID='3', ShipDate='2021-02-04', DeliveryDate='2021-02-12', Total_order_amount='2992.5'),\n",
       " column(OrderID='7656343', CustomerID='57310', PaymentID='4', OrderDate='2021-01-28', ShipperID='1', ShipDate='2021-01-30', DeliveryDate='2021-02-11', Total_order_amount='9842.0'),\n",
       " column(OrderID='7656344', CustomerID='57268', PaymentID='5', OrderDate='2021-01-28', ShipperID='8', ShipDate='2021-02-05', DeliveryDate='2021-02-10', Total_order_amount='15520.0'),\n",
       " column(OrderID='7656345', CustomerID='57212', PaymentID='5', OrderDate='2021-01-28', ShipperID='5', ShipDate='2021-02-05', DeliveryDate='2021-02-18', Total_order_amount='156724.0'),\n",
       " column(OrderID='7656346', CustomerID='57202', PaymentID='4', OrderDate='2021-01-28', ShipperID='2', ShipDate='2021-01-31', DeliveryDate='2021-02-04', Total_order_amount='12613.15'),\n",
       " column(OrderID='7656347', CustomerID='57338', PaymentID='4', OrderDate='2021-01-28', ShipperID='1', ShipDate='2021-02-05', DeliveryDate='2021-02-10', Total_order_amount='49761.0'),\n",
       " column(OrderID='7656348', CustomerID='57230', PaymentID='6', OrderDate='2021-01-29', ShipperID='7', ShipDate='2021-02-07', DeliveryDate='2021-02-19', Total_order_amount='5460.0'),\n",
       " column(OrderID='7656349', CustomerID='57295', PaymentID='5', OrderDate='2021-01-29', ShipperID='4', ShipDate='2021-02-02', DeliveryDate='2021-02-17', Total_order_amount='2886.0'),\n",
       " column(OrderID='7656350', CustomerID='57320', PaymentID='4', OrderDate='2021-01-29', ShipperID='4', ShipDate='2021-02-02', DeliveryDate='2021-02-13', Total_order_amount='48466.15'),\n",
       " column(OrderID='7656351', CustomerID='57151', PaymentID='4', OrderDate='2021-01-29', ShipperID='4', ShipDate='2021-02-03', DeliveryDate='2021-02-05', Total_order_amount='34333.95'),\n",
       " column(OrderID='7656352', CustomerID='57099', PaymentID='6', OrderDate='2021-01-29', ShipperID='7', ShipDate='2021-02-02', DeliveryDate='2021-02-13', Total_order_amount='2838.0'),\n",
       " column(OrderID='7656353', CustomerID='57187', PaymentID='4', OrderDate='2021-01-30', ShipperID='4', ShipDate='2021-01-31', DeliveryDate='2021-02-18', Total_order_amount='3087.5'),\n",
       " column(OrderID='7656354', CustomerID='57336', PaymentID='3', OrderDate='2021-01-30', ShipperID='7', ShipDate='2021-02-04', DeliveryDate='2021-02-09', Total_order_amount='17814.0'),\n",
       " column(OrderID='7656355', CustomerID='57253', PaymentID='4', OrderDate='2021-01-30', ShipperID='2', ShipDate='2021-02-07', DeliveryDate='2021-02-24', Total_order_amount='10462.35'),\n",
       " column(OrderID='7656356', CustomerID='57293', PaymentID='4', OrderDate='2021-01-30', ShipperID='4', ShipDate='2021-02-01', DeliveryDate='2021-02-18', Total_order_amount='6671.85'),\n",
       " column(OrderID='7656357', CustomerID='57327', PaymentID='4', OrderDate='2021-01-30', ShipperID='6', ShipDate='2021-02-06', DeliveryDate='2021-02-07', Total_order_amount='7344.45'),\n",
       " column(OrderID='7656358', CustomerID='57215', PaymentID='3', OrderDate='2021-01-31', ShipperID='1', ShipDate='2021-02-08', DeliveryDate='2021-02-21', Total_order_amount='12537.0'),\n",
       " column(OrderID='7656359', CustomerID='57264', PaymentID='5', OrderDate='2021-01-31', ShipperID='8', ShipDate='2021-02-01', DeliveryDate='2021-02-04', Total_order_amount='8823.0'),\n",
       " column(OrderID='7656360', CustomerID='57257', PaymentID='4', OrderDate='2021-01-31', ShipperID='4', ShipDate='2021-02-07', DeliveryDate='2021-02-22', Total_order_amount='1363.25'),\n",
       " column(OrderID='7656361', CustomerID='57319', PaymentID='2', OrderDate='2021-02-01', ShipperID='6', ShipDate='2021-02-03', DeliveryDate='2021-02-21', Total_order_amount='18053.0'),\n",
       " column(OrderID='7656362', CustomerID='57223', PaymentID='4', OrderDate='2021-02-01', ShipperID='2', ShipDate='2021-02-06', DeliveryDate='2021-02-24', Total_order_amount='38999.4'),\n",
       " column(OrderID='7656363', CustomerID='57180', PaymentID='3', OrderDate='2021-02-01', ShipperID='7', ShipDate='2021-02-05', DeliveryDate='2021-02-06', Total_order_amount='17245.0'),\n",
       " column(OrderID='7656364', CustomerID='57199', PaymentID='4', OrderDate='2021-02-01', ShipperID='6', ShipDate='2021-02-09', DeliveryDate='2021-02-10', Total_order_amount='10137.45'),\n",
       " column(OrderID='7656365', CustomerID='57237', PaymentID='4', OrderDate='2021-02-01', ShipperID='5', ShipDate='2021-02-03', DeliveryDate='2021-02-04', Total_order_amount='4332.0'),\n",
       " column(OrderID='7656366', CustomerID='57290', PaymentID='4', OrderDate='2021-02-01', ShipperID='5', ShipDate='2021-02-11', DeliveryDate='2021-03-02', Total_order_amount='11392.4'),\n",
       " column(OrderID='7656367', CustomerID='57276', PaymentID='4', OrderDate='2021-02-02', ShipperID='7', ShipDate='2021-02-12', DeliveryDate='2021-02-28', Total_order_amount='16945.15'),\n",
       " column(OrderID='7656368', CustomerID='57237', PaymentID='4', OrderDate='2021-02-02', ShipperID='1', ShipDate='2021-02-09', DeliveryDate='2021-02-23', Total_order_amount='21662.85'),\n",
       " column(OrderID='7656369', CustomerID='57241', PaymentID='5', OrderDate='2021-02-02', ShipperID='6', ShipDate='2021-02-10', DeliveryDate='2021-02-13', Total_order_amount='3360.0'),\n",
       " column(OrderID='7656370', CustomerID='57297', PaymentID='4', OrderDate='2021-02-02', ShipperID='6', ShipDate='2021-02-10', DeliveryDate='2021-02-13', Total_order_amount='18415.75'),\n",
       " column(OrderID='7656371', CustomerID='57287', PaymentID='6', OrderDate='2021-02-03', ShipperID='3', ShipDate='2021-02-08', DeliveryDate='2021-02-15', Total_order_amount='26122.0'),\n",
       " column(OrderID='7656372', CustomerID='57281', PaymentID='4', OrderDate='2021-02-03', ShipperID='7', ShipDate='2021-02-08', DeliveryDate='2021-02-24', Total_order_amount='6889.4'),\n",
       " column(OrderID='7656373', CustomerID='57114', PaymentID='5', OrderDate='2021-02-04', ShipperID='5', ShipDate='2021-02-06', DeliveryDate='2021-02-21', Total_order_amount='125321.0'),\n",
       " column(OrderID='7656374', CustomerID='57211', PaymentID='3', OrderDate='2021-02-04', ShipperID='4', ShipDate='2021-02-06', DeliveryDate='2021-02-14', Total_order_amount='6129.0'),\n",
       " column(OrderID='7656375', CustomerID='57300', PaymentID='5', OrderDate='2021-02-04', ShipperID='7', ShipDate='2021-02-05', DeliveryDate='2021-02-18', Total_order_amount='27410.0'),\n",
       " column(OrderID='7656376', CustomerID='57090', PaymentID='4', OrderDate='2021-02-04', ShipperID='5', ShipDate='2021-02-12', DeliveryDate='2021-03-04', Total_order_amount='23341.5'),\n",
       " column(OrderID='7656377', CustomerID='57317', PaymentID='6', OrderDate='2021-02-05', ShipperID='5', ShipDate='2021-02-09', DeliveryDate='2021-02-11', Total_order_amount='1592.0'),\n",
       " column(OrderID='7656378', CustomerID='57343', PaymentID='4', OrderDate='2021-02-05', ShipperID='2', ShipDate='2021-02-08', DeliveryDate='2021-02-27', Total_order_amount='40885.15'),\n",
       " column(OrderID='7656379', CustomerID='57217', PaymentID='5', OrderDate='2021-02-05', ShipperID='2', ShipDate='2021-02-15', DeliveryDate='2021-02-16', Total_order_amount='53226.0'),\n",
       " column(OrderID='7656380', CustomerID='57185', PaymentID='4', OrderDate='2021-02-05', ShipperID='4', ShipDate='2021-02-14', DeliveryDate='2021-02-17', Total_order_amount='2079.55'),\n",
       " column(OrderID='7656381', CustomerID='57292', PaymentID='3', OrderDate='2021-02-06', ShipperID='6', ShipDate='2021-02-16', DeliveryDate='2021-03-07', Total_order_amount='24145.0'),\n",
       " column(OrderID='7656382', CustomerID='57183', PaymentID='2', OrderDate='2021-02-07', ShipperID='4', ShipDate='2021-02-13', DeliveryDate='2021-02-21', Total_order_amount='32222.0'),\n",
       " column(OrderID='7656383', CustomerID='57303', PaymentID='3', OrderDate='2021-02-07', ShipperID='8', ShipDate='2021-02-14', DeliveryDate='2021-03-06', Total_order_amount='21509.0'),\n",
       " column(OrderID='7656384', CustomerID='57215', PaymentID='4', OrderDate='2021-02-07', ShipperID='8', ShipDate='2021-02-10', DeliveryDate='2021-02-14', Total_order_amount='13263.9'),\n",
       " column(OrderID='7656385', CustomerID='57225', PaymentID='4', OrderDate='2021-02-07', ShipperID='8', ShipDate='2021-02-16', DeliveryDate='2021-03-01', Total_order_amount='1002.25'),\n",
       " column(OrderID='7656386', CustomerID='57305', PaymentID='3', OrderDate='2021-02-07', ShipperID='6', ShipDate='2021-02-08', DeliveryDate='2021-02-12', Total_order_amount='23973.0'),\n",
       " column(OrderID='7656387', CustomerID='57180', PaymentID='4', OrderDate='2021-02-07', ShipperID='3', ShipDate='2021-02-17', DeliveryDate='2021-02-23', Total_order_amount='4636.0'),\n",
       " column(OrderID='7656388', CustomerID='57261', PaymentID='4', OrderDate='2021-02-07', ShipperID='4', ShipDate='2021-02-14', DeliveryDate='2021-03-06', Total_order_amount='5409.3'),\n",
       " column(OrderID='7656389', CustomerID='57236', PaymentID='4', OrderDate='2021-02-07', ShipperID='4', ShipDate='2021-02-12', DeliveryDate='2021-03-04', Total_order_amount='30153.0'),\n",
       " column(OrderID='7656390', CustomerID='57281', PaymentID='4', OrderDate='2021-02-08', ShipperID='5', ShipDate='2021-02-10', DeliveryDate='2021-02-13', Total_order_amount='26868.85'),\n",
       " column(OrderID='7656391', CustomerID='57350', PaymentID='4', OrderDate='2021-02-08', ShipperID='8', ShipDate='2021-02-12', DeliveryDate='2021-02-18', Total_order_amount='3553.0'),\n",
       " column(OrderID='7656392', CustomerID='57313', PaymentID='4', OrderDate='2021-02-08', ShipperID='8', ShipDate='2021-02-16', DeliveryDate='2021-03-08', Total_order_amount='12743.3'),\n",
       " column(OrderID='7656393', CustomerID='57312', PaymentID='4', OrderDate='2021-02-08', ShipperID='4', ShipDate='2021-02-17', DeliveryDate='2021-03-03', Total_order_amount='762.85'),\n",
       " column(OrderID='7656394', CustomerID='57213', PaymentID='4', OrderDate='2021-02-08', ShipperID='7', ShipDate='2021-02-17', DeliveryDate='2021-02-27', Total_order_amount='11618.5'),\n",
       " column(OrderID='7656395', CustomerID='57348', PaymentID='5', OrderDate='2021-02-09', ShipperID='6', ShipDate='2021-02-16', DeliveryDate='2021-03-08', Total_order_amount='2942.0'),\n",
       " column(OrderID='7656396', CustomerID='57085', PaymentID='6', OrderDate='2021-02-09', ShipperID='7', ShipDate='2021-02-15', DeliveryDate='2021-02-20', Total_order_amount='3843.0'),\n",
       " column(OrderID='7656397', CustomerID='57294', PaymentID='5', OrderDate='2021-02-09', ShipperID='4', ShipDate='2021-02-19', DeliveryDate='2021-02-26', Total_order_amount='22656.0'),\n",
       " column(OrderID='7656398', CustomerID='57310', PaymentID='4', OrderDate='2021-02-09', ShipperID='1', ShipDate='2021-02-18', DeliveryDate='2021-03-09', Total_order_amount='570.0'),\n",
       " column(OrderID='7656399', CustomerID='57134', PaymentID='4', OrderDate='2021-02-09', ShipperID='6', ShipDate='2021-02-17', DeliveryDate='2021-02-18', Total_order_amount='13908.95'),\n",
       " column(OrderID='7656400', CustomerID='57145', PaymentID='4', OrderDate='2021-02-09', ShipperID='4', ShipDate='2021-02-15', DeliveryDate='2021-03-05', Total_order_amount='32458.65'),\n",
       " column(OrderID='7656401', CustomerID='57216', PaymentID='6', OrderDate='2021-02-10', ShipperID='5', ShipDate='2021-02-18', DeliveryDate='2021-02-27', Total_order_amount='4340.0'),\n",
       " column(OrderID='7656402', CustomerID='57299', PaymentID='4', OrderDate='2021-02-10', ShipperID='7', ShipDate='2021-02-19', DeliveryDate='2021-03-07', Total_order_amount='10931.65'),\n",
       " column(OrderID='7656403', CustomerID='57251', PaymentID='4', OrderDate='2021-02-10', ShipperID='7', ShipDate='2021-02-11', DeliveryDate='2021-02-19', Total_order_amount='8180.45'),\n",
       " column(OrderID='7656404', CustomerID='57331', PaymentID='5', OrderDate='2021-02-10', ShipperID='1', ShipDate='2021-02-13', DeliveryDate='2021-03-01', Total_order_amount='46700.0'),\n",
       " column(OrderID='7656405', CustomerID='57106', PaymentID='4', OrderDate='2021-02-10', ShipperID='8', ShipDate='2021-02-12', DeliveryDate='2021-02-25', Total_order_amount='6104.7'),\n",
       " column(OrderID='7656406', CustomerID='57212', PaymentID='3', OrderDate='2021-02-10', ShipperID='1', ShipDate='2021-02-18', DeliveryDate='2021-03-03', Total_order_amount='8641.0'),\n",
       " column(OrderID='7656407', CustomerID='57129', PaymentID='4', OrderDate='2021-02-11', ShipperID='4', ShipDate='2021-02-18', DeliveryDate='2021-02-19', Total_order_amount='7479.35'),\n",
       " column(OrderID='7656408', CustomerID='57089', PaymentID='4', OrderDate='2021-02-11', ShipperID='7', ShipDate='2021-02-16', DeliveryDate='2021-02-23', Total_order_amount='6727.9'),\n",
       " column(OrderID='7656409', CustomerID='57225', PaymentID='4', OrderDate='2021-02-11', ShipperID='2', ShipDate='2021-02-15', DeliveryDate='2021-03-04', Total_order_amount='16678.2'),\n",
       " column(OrderID='7656410', CustomerID='57278', PaymentID='4', OrderDate='2021-02-11', ShipperID='1', ShipDate='2021-02-12', DeliveryDate='2021-02-22', Total_order_amount='10425.3'),\n",
       " column(OrderID='7656411', CustomerID='57340', PaymentID='4', OrderDate='2021-02-11', ShipperID='6', ShipDate='2021-02-18', DeliveryDate='2021-02-22', Total_order_amount='56041.45'),\n",
       " column(OrderID='7656412', CustomerID='57139', PaymentID='4', OrderDate='2021-02-11', ShipperID='5', ShipDate='2021-02-21', DeliveryDate='2021-02-27', Total_order_amount='18090.85'),\n",
       " column(OrderID='7656413', CustomerID='57145', PaymentID='4', OrderDate='2021-02-11', ShipperID='8', ShipDate='2021-02-15', DeliveryDate='2021-02-22', Total_order_amount='22371.55'),\n",
       " column(OrderID='7656414', CustomerID='57317', PaymentID='4', OrderDate='2021-02-11', ShipperID='4', ShipDate='2021-02-13', DeliveryDate='2021-02-27', Total_order_amount='12225.55'),\n",
       " column(OrderID='7656415', CustomerID='57109', PaymentID='4', OrderDate='2021-02-11', ShipperID='5', ShipDate='2021-02-20', DeliveryDate='2021-03-03', Total_order_amount='14535.0'),\n",
       " column(OrderID='7656416', CustomerID='57339', PaymentID='2', OrderDate='2021-02-12', ShipperID='1', ShipDate='2021-02-21', DeliveryDate='2021-02-24', Total_order_amount='14839.0'),\n",
       " column(OrderID='7656417', CustomerID='57262', PaymentID='6', OrderDate='2021-02-12', ShipperID='1', ShipDate='2021-02-15', DeliveryDate='2021-03-07', Total_order_amount='19059.0'),\n",
       " column(OrderID='7656418', CustomerID='57326', PaymentID='3', OrderDate='2021-02-12', ShipperID='3', ShipDate='2021-02-18', DeliveryDate='2021-03-10', Total_order_amount='31423.0'),\n",
       " column(OrderID='7656419', CustomerID='57305', PaymentID='1', OrderDate='2021-02-12', ShipperID='5', ShipDate='2021-02-19', DeliveryDate='2021-02-22', Total_order_amount='2835.0'),\n",
       " column(OrderID='7656420', CustomerID='57100', PaymentID='5', OrderDate='2021-02-12', ShipperID='2', ShipDate='2021-02-19', DeliveryDate='2021-02-23', Total_order_amount='20869.0'),\n",
       " column(OrderID='7656421', CustomerID='57254', PaymentID='3', OrderDate='2021-02-13', ShipperID='7', ShipDate='2021-02-20', DeliveryDate='2021-02-22', Total_order_amount='15735.0'),\n",
       " column(OrderID='7656422', CustomerID='57089', PaymentID='5', OrderDate='2021-02-13', ShipperID='1', ShipDate='2021-02-14', DeliveryDate='2021-02-25', Total_order_amount='5858.0'),\n",
       " column(OrderID='7656423', CustomerID='57326', PaymentID='6', OrderDate='2021-02-13', ShipperID='1', ShipDate='2021-02-19', DeliveryDate='2021-02-26', Total_order_amount='12654.0'),\n",
       " column(OrderID='7656424', CustomerID='57270', PaymentID='6', OrderDate='2021-02-13', ShipperID='6', ShipDate='2021-02-22', DeliveryDate='2021-03-02', Total_order_amount='13680.0'),\n",
       " column(OrderID='7656425', CustomerID='57341', PaymentID='5', OrderDate='2021-02-13', ShipperID='6', ShipDate='2021-02-21', DeliveryDate='2021-02-23', Total_order_amount='6210.0'),\n",
       " column(OrderID='7656426', CustomerID='57190', PaymentID='6', OrderDate='2021-02-13', ShipperID='2', ShipDate='2021-02-16', DeliveryDate='2021-03-05', Total_order_amount='58281.0'),\n",
       " column(OrderID='7656427', CustomerID='57277', PaymentID='4', OrderDate='2021-02-13', ShipperID='4', ShipDate='2021-02-14', DeliveryDate='2021-03-06', Total_order_amount='3411.45'),\n",
       " column(OrderID='7656428', CustomerID='57222', PaymentID='5', OrderDate='2021-02-13', ShipperID='7', ShipDate='2021-02-23', DeliveryDate='2021-03-12', Total_order_amount='18709.0'),\n",
       " column(OrderID='7656429', CustomerID='57274', PaymentID='3', OrderDate='2021-02-14', ShipperID='3', ShipDate='2021-02-15', DeliveryDate='2021-03-07', Total_order_amount='1938.0'),\n",
       " column(OrderID='7656430', CustomerID='57085', PaymentID='3', OrderDate='2021-02-14', ShipperID='1', ShipDate='2021-02-19', DeliveryDate='2021-02-24', Total_order_amount='51477.0'),\n",
       " column(OrderID='7656431', CustomerID='57277', PaymentID='5', OrderDate='2021-02-14', ShipperID='1', ShipDate='2021-02-17', DeliveryDate='2021-02-22', Total_order_amount='8410.0'),\n",
       " column(OrderID='7656432', CustomerID='57320', PaymentID='4', OrderDate='2021-02-14', ShipperID='1', ShipDate='2021-02-18', DeliveryDate='2021-02-26', Total_order_amount='16376.1'),\n",
       " column(OrderID='7656433', CustomerID='57254', PaymentID='4', OrderDate='2021-02-14', ShipperID='2', ShipDate='2021-02-16', DeliveryDate='2021-02-20', Total_order_amount='11428.5'),\n",
       " column(OrderID='7656434', CustomerID='57332', PaymentID='6', OrderDate='2021-02-14', ShipperID='5', ShipDate='2021-02-24', DeliveryDate='2021-03-14', Total_order_amount='50.0'),\n",
       " column(OrderID='7656435', CustomerID='57248', PaymentID='3', OrderDate='2021-02-14', ShipperID='8', ShipDate='2021-02-15', DeliveryDate='2021-02-27', Total_order_amount='9177.0'),\n",
       " column(OrderID='7656436', CustomerID='57094', PaymentID='3', OrderDate='2021-02-15', ShipperID='5', ShipDate='2021-02-22', DeliveryDate='2021-03-14', Total_order_amount='17961.0'),\n",
       " column(OrderID='7656437', CustomerID='57300', PaymentID='4', OrderDate='2021-02-15', ShipperID='3', ShipDate='2021-02-24', DeliveryDate='2021-03-02', Total_order_amount='31752.8'),\n",
       " column(OrderID='7656438', CustomerID='57276', PaymentID='4', OrderDate='2021-02-15', ShipperID='4', ShipDate='2021-02-18', DeliveryDate='2021-02-19', Total_order_amount='36877.1'),\n",
       " column(OrderID='7656439', CustomerID='57159', PaymentID='3', OrderDate='2021-02-15', ShipperID='8', ShipDate='2021-02-23', DeliveryDate='2021-03-14', Total_order_amount='22853.0'),\n",
       " column(OrderID='7656440', CustomerID='57125', PaymentID='4', OrderDate='2021-02-15', ShipperID='7', ShipDate='2021-02-23', DeliveryDate='2021-03-10', Total_order_amount='435.1'),\n",
       " column(OrderID='7656441', CustomerID='57284', PaymentID='3', OrderDate='2021-02-16', ShipperID='1', ShipDate='2021-02-25', DeliveryDate='2021-03-07', Total_order_amount='35402.0'),\n",
       " column(OrderID='7656442', CustomerID='57252', PaymentID='5', OrderDate='2021-02-16', ShipperID='5', ShipDate='2021-02-23', DeliveryDate='2021-03-03', Total_order_amount='6304.0'),\n",
       " column(OrderID='7656443', CustomerID='57309', PaymentID='4', OrderDate='2021-02-16', ShipperID='2', ShipDate='2021-02-17', DeliveryDate='2021-02-24', Total_order_amount='12498.2'),\n",
       " column(OrderID='7656444', CustomerID='57133', PaymentID='4', OrderDate='2021-02-16', ShipperID='2', ShipDate='2021-02-19', DeliveryDate='2021-02-26', Total_order_amount='14143.6'),\n",
       " column(OrderID='7656445', CustomerID='57205', PaymentID='4', OrderDate='2021-02-17', ShipperID='1', ShipDate='2021-02-19', DeliveryDate='2021-03-07', Total_order_amount='2754.05'),\n",
       " column(OrderID='7656446', CustomerID='57313', PaymentID='3', OrderDate='2021-02-17', ShipperID='7', ShipDate='2021-02-21', DeliveryDate='2021-03-01', Total_order_amount='22874.0'),\n",
       " column(OrderID='7656447', CustomerID='57226', PaymentID='4', OrderDate='2021-02-17', ShipperID='2', ShipDate='2021-02-18', DeliveryDate='2021-02-19', Total_order_amount='21550.75'),\n",
       " column(OrderID='7656448', CustomerID='57101', PaymentID='3', OrderDate='2021-02-18', ShipperID='1', ShipDate='2021-02-27', DeliveryDate='2021-03-07', Total_order_amount='3918.0'),\n",
       " column(OrderID='7656449', CustomerID='57310', PaymentID='4', OrderDate='2021-02-18', ShipperID='6', ShipDate='2021-02-24', DeliveryDate='2021-02-26', Total_order_amount='8604.15'),\n",
       " column(OrderID='7656450', CustomerID='57094', PaymentID='4', OrderDate='2021-02-18', ShipperID='5', ShipDate='2021-02-27', DeliveryDate='2021-02-28', Total_order_amount='18846.1'),\n",
       " column(OrderID='7656451', CustomerID='57133', PaymentID='6', OrderDate='2021-02-18', ShipperID='1', ShipDate='2021-02-28', DeliveryDate='2021-03-16', Total_order_amount='1043.0'),\n",
       " column(OrderID='7656452', CustomerID='57281', PaymentID='4', OrderDate='2021-02-19', ShipperID='4', ShipDate='2021-02-23', DeliveryDate='2021-02-27', Total_order_amount='22793.35'),\n",
       " column(OrderID='7656453', CustomerID='57230', PaymentID='4', OrderDate='2021-02-19', ShipperID='5', ShipDate='2021-02-26', DeliveryDate='2021-03-05', Total_order_amount='34772.85'),\n",
       " column(OrderID='7656454', CustomerID='57269', PaymentID='3', OrderDate='2021-02-19', ShipperID='4', ShipDate='2021-02-27', DeliveryDate='2021-03-19', Total_order_amount='10577.0'),\n",
       " column(OrderID='7656455', CustomerID='57199', PaymentID='4', OrderDate='2021-02-20', ShipperID='1', ShipDate='2021-02-28', DeliveryDate='2021-03-12', Total_order_amount='25193.05'),\n",
       " column(OrderID='7656456', CustomerID='57335', PaymentID='5', OrderDate='2021-02-20', ShipperID='8', ShipDate='2021-03-02', DeliveryDate='2021-03-12', Total_order_amount='23192.0'),\n",
       " column(OrderID='7656457', CustomerID='57361', PaymentID='4', OrderDate='2021-02-20', ShipperID='4', ShipDate='2021-03-01', DeliveryDate='2021-03-20', Total_order_amount='21386.4'),\n",
       " column(OrderID='7656458', CustomerID='57356', PaymentID='4', OrderDate='2021-02-20', ShipperID='2', ShipDate='2021-02-22', DeliveryDate='2021-02-25', Total_order_amount='356.25'),\n",
       " column(OrderID='7656459', CustomerID='57323', PaymentID='3', OrderDate='2021-02-20', ShipperID='2', ShipDate='2021-03-01', DeliveryDate='2021-03-20', Total_order_amount='14358.0'),\n",
       " column(OrderID='7656460', CustomerID='57249', PaymentID='4', OrderDate='2021-02-20', ShipperID='4', ShipDate='2021-02-25', DeliveryDate='2021-02-26', Total_order_amount='152252.7'),\n",
       " column(OrderID='7656461', CustomerID='57350', PaymentID='4', OrderDate='2021-02-21', ShipperID='4', ShipDate='2021-02-23', DeliveryDate='2021-03-03', Total_order_amount='4585.65'),\n",
       " column(OrderID='7656462', CustomerID='57177', PaymentID='4', OrderDate='2021-02-21', ShipperID='1', ShipDate='2021-02-22', DeliveryDate='2021-03-06', Total_order_amount='17701.35'),\n",
       " column(OrderID='7656463', CustomerID='57262', PaymentID='4', OrderDate='2021-02-21', ShipperID='8', ShipDate='2021-03-03', DeliveryDate='2021-03-23', Total_order_amount='32739.85'),\n",
       " column(OrderID='7656464', CustomerID='57360', PaymentID='4', OrderDate='2021-02-21', ShipperID='1', ShipDate='2021-02-24', DeliveryDate='2021-03-03', Total_order_amount='22292.7'),\n",
       " column(OrderID='7656465', CustomerID='57189', PaymentID='3', OrderDate='2021-02-21', ShipperID='5', ShipDate='2021-02-22', DeliveryDate='2021-02-24', Total_order_amount='16947.0'),\n",
       " column(OrderID='7656466', CustomerID='57125', PaymentID='4', OrderDate='2021-02-21', ShipperID='8', ShipDate='2021-02-26', DeliveryDate='2021-03-15', Total_order_amount='5644.9'),\n",
       " column(OrderID='7656467', CustomerID='57365', PaymentID='4', OrderDate='2021-02-22', ShipperID='6', ShipDate='2021-02-27', DeliveryDate='2021-03-11', Total_order_amount='26356.8'),\n",
       " column(OrderID='7656468', CustomerID='57251', PaymentID='4', OrderDate='2021-02-22', ShipperID='5', ShipDate='2021-02-27', DeliveryDate='2021-03-17', Total_order_amount='29058.6'),\n",
       " column(OrderID='7656469', CustomerID='57203', PaymentID='4', OrderDate='2021-02-22', ShipperID='6', ShipDate='2021-03-03', DeliveryDate='2021-03-12', Total_order_amount='23879.2'),\n",
       " column(OrderID='7656470', CustomerID='57215', PaymentID='4', OrderDate='2021-02-22', ShipperID='8', ShipDate='2021-03-03', DeliveryDate='2021-03-17', Total_order_amount='21230.6'),\n",
       " column(OrderID='7656471', CustomerID='57133', PaymentID='6', OrderDate='2021-02-22', ShipperID='1', ShipDate='2021-02-23', DeliveryDate='2021-02-28', Total_order_amount='11203.0'),\n",
       " column(OrderID='7656472', CustomerID='57306', PaymentID='5', OrderDate='2021-02-22', ShipperID='7', ShipDate='2021-02-24', DeliveryDate='2021-03-07', Total_order_amount='1815.0'),\n",
       " column(OrderID='7656473', CustomerID='57113', PaymentID='6', OrderDate='2021-02-22', ShipperID='1', ShipDate='2021-02-25', DeliveryDate='2021-03-02', Total_order_amount='50160.0'),\n",
       " column(OrderID='7656474', CustomerID='57191', PaymentID='3', OrderDate='2021-02-22', ShipperID='2', ShipDate='2021-02-28', DeliveryDate='2021-03-07', Total_order_amount='570.0'),\n",
       " column(OrderID='7656475', CustomerID='57214', PaymentID='4', OrderDate='2021-02-23', ShipperID='8', ShipDate='2021-03-02', DeliveryDate='2021-03-20', Total_order_amount='21557.4'),\n",
       " column(OrderID='7656476', CustomerID='57373', PaymentID='3', OrderDate='2021-02-23', ShipperID='7', ShipDate='2021-02-26', DeliveryDate='2021-03-01', Total_order_amount='10001.0'),\n",
       " column(OrderID='7656477', CustomerID='57371', PaymentID='5', OrderDate='2021-02-24', ShipperID='4', ShipDate='2021-03-05', DeliveryDate='2021-03-15', Total_order_amount='1716.0'),\n",
       " column(OrderID='7656478', CustomerID='57220', PaymentID='4', OrderDate='2021-02-24', ShipperID='7', ShipDate='2021-03-05', DeliveryDate='2021-03-10', Total_order_amount='11174.85'),\n",
       " column(OrderID='7656479', CustomerID='57330', PaymentID='4', OrderDate='2021-02-24', ShipperID='6', ShipDate='2021-03-01', DeliveryDate='2021-03-20', Total_order_amount='6422.95'),\n",
       " column(OrderID='7656480', CustomerID='57344', PaymentID='3', OrderDate='2021-02-24', ShipperID='5', ShipDate='2021-02-26', DeliveryDate='2021-03-13', Total_order_amount='12941.0'),\n",
       " column(OrderID='7656481', CustomerID='57117', PaymentID='6', OrderDate='2021-02-24', ShipperID='8', ShipDate='2021-02-25', DeliveryDate='2021-03-17', Total_order_amount='5795.0'),\n",
       " column(OrderID='7656482', CustomerID='57369', PaymentID='5', OrderDate='2021-02-25', ShipperID='6', ShipDate='2021-02-26', DeliveryDate='2021-03-17', Total_order_amount='10195.0'),\n",
       " column(OrderID='7656483', CustomerID='57302', PaymentID='5', OrderDate='2021-02-25', ShipperID='3', ShipDate='2021-03-02', DeliveryDate='2021-03-18', Total_order_amount='11960.0'),\n",
       " column(OrderID='7656484', CustomerID='57231', PaymentID='3', OrderDate='2021-02-25', ShipperID='7', ShipDate='2021-02-28', DeliveryDate='2021-03-12', Total_order_amount='9060.0'),\n",
       " column(OrderID='7656485', CustomerID='57360', PaymentID='4', OrderDate='2021-02-25', ShipperID='1', ShipDate='2021-03-05', DeliveryDate='2021-03-16', Total_order_amount='26775.75'),\n",
       " column(OrderID='7656486', CustomerID='57361', PaymentID='4', OrderDate='2021-02-25', ShipperID='8', ShipDate='2021-03-04', DeliveryDate='2021-03-18', Total_order_amount='3037.15'),\n",
       " column(OrderID='7656487', CustomerID='57184', PaymentID='3', OrderDate='2021-02-26', ShipperID='1', ShipDate='2021-02-27', DeliveryDate='2021-03-06', Total_order_amount='5604.0'),\n",
       " column(OrderID='7656488', CustomerID='57260', PaymentID='3', OrderDate='2021-02-26', ShipperID='4', ShipDate='2021-03-05', DeliveryDate='2021-03-16', Total_order_amount='7014.0'),\n",
       " column(OrderID='7656489', CustomerID='57190', PaymentID='3', OrderDate='2021-02-26', ShipperID='6', ShipDate='2021-03-04', DeliveryDate='2021-03-18', Total_order_amount='62196.0'),\n",
       " column(OrderID='7656490', CustomerID='57213', PaymentID='4', OrderDate='2021-02-26', ShipperID='1', ShipDate='2021-03-07', DeliveryDate='2021-03-19', Total_order_amount='75377.75'),\n",
       " column(OrderID='7656491', CustomerID='57296', PaymentID='4', OrderDate='2021-02-26', ShipperID='3', ShipDate='2021-03-06', DeliveryDate='2021-03-21', Total_order_amount='1704.3'),\n",
       " column(OrderID='7656492', CustomerID='57144', PaymentID='3', OrderDate='2021-02-26', ShipperID='6', ShipDate='2021-03-06', DeliveryDate='2021-03-25', Total_order_amount='5528.0'),\n",
       " column(OrderID='7656493', CustomerID='57139', PaymentID='6', OrderDate='2021-02-26', ShipperID='4', ShipDate='2021-03-04', DeliveryDate='2021-03-21', Total_order_amount='1798.0'),\n",
       " column(OrderID='7656494', CustomerID='57181', PaymentID='5', OrderDate='2021-02-26', ShipperID='6', ShipDate='2021-02-27', DeliveryDate='2021-03-14', Total_order_amount='25826.0'),\n",
       " column(OrderID='7656495', CustomerID='57299', PaymentID='4', OrderDate='2021-02-26', ShipperID='5', ShipDate='2021-03-02', DeliveryDate='2021-03-07', Total_order_amount='768.55'),\n",
       " column(OrderID='7656496', CustomerID='57175', PaymentID='4', OrderDate='2021-02-27', ShipperID='6', ShipDate='2021-03-09', DeliveryDate='2021-03-23', Total_order_amount='10222.0'),\n",
       " column(OrderID='7656497', CustomerID='57298', PaymentID='4', OrderDate='2021-02-27', ShipperID='6', ShipDate='2021-03-09', DeliveryDate='2021-03-11', Total_order_amount='11296.45'),\n",
       " column(OrderID='7656498', CustomerID='57317', PaymentID='3', OrderDate='2021-02-27', ShipperID='6', ShipDate='2021-03-02', DeliveryDate='2021-03-22', Total_order_amount='5709.0'),\n",
       " column(OrderID='7656499', CustomerID='57240', PaymentID='3', OrderDate='2021-02-27', ShipperID='3', ShipDate='2021-03-05', DeliveryDate='2021-03-23', Total_order_amount='480.0'),\n",
       " ...]"
      ]
     },
     "execution_count": 115,
     "metadata": {},
     "output_type": "execute_result"
    }
   ],
   "source": [
    "orders.collect()"
   ]
  },
  {
   "cell_type": "markdown",
   "id": "29116c64-994d-4540-84fd-0c74afec9b05",
   "metadata": {},
   "source": [
    "While Spark DataFrames and Spark SQL offer higher-level abstractions and optimizations for data processing, RDDs still have their place in certain situations. Here’s a breakdown of when to use RDDs versus DataFrames and Spark SQL:\n",
    "\n",
    "When to Use RDDs:\n",
    "Custom Transformations and Algorithms:\n",
    "\n",
    "If you need to perform complex transformations or algorithms that are not easily expressed using DataFrame APIs or SQL. For example, if you need fine-grained control over the execution of custom data processing logic (e.g., complex data aggregations, graph algorithms, machine learning model training).\n",
    "Low-Level Control:\n",
    "\n",
    "When you require more control over the data flow, partitioning, and storage formats. RDDs provide more flexibility to optimize storage and data distribution, which can be useful in specific performance tuning scenarios.\n",
    "Unstructured Data:\n",
    "\n",
    "When working with unstructured or semi-structured data that doesn’t fit well with the relational model used by DataFrames. RDDs are more versatile and can handle any type of data, including complex objects, whereas DataFrames require a schema.\n",
    "Functional Programming:\n",
    "\n",
    "If you prefer functional programming paradigms or need to leverage functions like map(), flatMap(), reduce(), etc., for specific use cases where DataFrame and SQL abstractions do not provide the required flexibility.\n",
    "Binary Data Processing:\n",
    "\n",
    "For binary data processing, such as reading data from images, audio files, or any raw binary formats. RDDs allow direct access to bytes, which can be more suitable in such cases.\n",
    "Backward Compatibility:\n",
    "\n",
    "If you are working with legacy code or projects that are heavily built around RDDs. It might be easier to continue using RDDs rather than refactoring the entire codebase to use DataFrames or Datasets.\n",
    "When to Use DataFrames and Spark SQL:\n",
    "Performance Optimizations:\n",
    "\n",
    "DataFrames and Spark SQL are optimized for performance due to the use of Catalyst optimizer and Tungsten execution engine. They provide automatic optimization, such as predicate pushdown, caching, and more efficient execution plans.\n",
    "Structured and Semi-Structured Data:\n",
    "\n",
    "For structured data (like CSV, Parquet, JSON, etc.) or semi-structured data, where you can define a schema. DataFrames and Spark SQL offer a more user-friendly API and SQL syntax for these types of data.\n",
    "Ease of Use and Readability:\n",
    "\n",
    "DataFrames and SQL APIs are easier to write and read, especially for data analysts and engineers familiar with SQL. They provide a more concise syntax, which reduces code complexity.\n",
    "Interoperability with SQL-based Systems:\n",
    "\n",
    "When you need to integrate with other SQL-based systems or run interactive queries. Spark SQL provides the capability to use SQL directly, making it easy to interact with existing data warehouses or databases.\n",
    "Machine Learning Pipelines:\n",
    "\n",
    "For building machine learning pipelines in Spark MLlib, DataFrames are the preferred API, as they are designed to work seamlessly with the DataFrame-based pipeline components.\n",
    "Summary:\n",
    "Use RDDs when you need more control over low-level operations, handle unstructured data, or perform custom processing that isn't easily expressed using DataFrames or SQL.\n",
    "Use DataFrames and Spark SQL when you prioritize performance, ease of use, interoperability with SQL, and work with structured or semi-structured data.\n",
    "Would you like more details on specific use cases, or how to transition between RDDs and DataFrames in your workflow?"
   ]
  },
  {
   "cell_type": "code",
   "execution_count": null,
   "id": "7163a0c6-09ef-4884-875d-97a5d380d355",
   "metadata": {},
   "outputs": [],
   "source": []
  }
 ],
 "metadata": {
  "kernelspec": {
   "display_name": "Python 3 (ipykernel)",
   "language": "python",
   "name": "python3"
  },
  "language_info": {
   "codemirror_mode": {
    "name": "ipython",
    "version": 3
   },
   "file_extension": ".py",
   "mimetype": "text/x-python",
   "name": "python",
   "nbconvert_exporter": "python",
   "pygments_lexer": "ipython3",
   "version": "3.11.7"
  }
 },
 "nbformat": 4,
 "nbformat_minor": 5
}
